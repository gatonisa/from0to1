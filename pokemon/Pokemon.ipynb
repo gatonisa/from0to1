{
  "cells": [
    {
      "cell_type": "markdown",
      "metadata": {
        "dc": {
          "key": "4"
        },
        "deletable": false,
        "editable": false,
        "id": "oxr30KwrTxw_",
        "run_control": {
          "frozen": true
        },
        "tags": [
          "context"
        ]
      },
      "source": [
        "## 1. Introduction\n",
        "<p>In the world of Pokémon academia, one name towers above any other – Professor Samuel Oak. While his colleague Professor Elm specializes in Pokémon evolution, Oak has dedicated his career to understanding the relationship between Pokémon and their human trainers. A former trainer himself, the professor has first-hand experience of how obstinate Pokémon can be – particularly when they hold legendary status.</p>\n",
        "<p>For his latest research project, Professor Oak has decided to investigate the defining characteristics of legendary Pokémon to improve our understanding of their temperament. Hearing of our expertise in classification problems, he has enlisted us as the lead researchers.</p>\n",
        "<p>Our journey begins at the professor's research lab in Pallet Town, Kanto. The first step is to open up the Pokédex, an encyclopaedic guide to 801 Pokémon from all seven generations.</p>\n",
        
      "source": [
        "These are the variables in the *Pokemon* dataset (*pokedex.csv*):\n",
        "\n",
        "- **pokedex_number**: The entry number of the Pokemon in the National Pokedex\n",
        "- **name**: The English name of the Pokemon\n",
        "- **attack**: The Base Attack of the Pokemon\n",
        "- **defense**: The Base Defense of the Pokemon\n",
        "- **height_m**: Height of the Pokemon in metres\n",
        "- **hp**: The Base HP of the Pokemon\n",
        "- **percentage_male**: The percentage of the species that are male. Blank if the Pokemon is genderless.\n",
        "- **sp_attack**: The Base Special Attack of the Pokemon\n",
        "- **sp_defense**: The Base Special Defense of the Pokemon\n",
        "- **speed**: The Base Speed of the Pokemon\n",
        "- **type1**: The Primary Type of the Pokemon\n",
        "- **weight_kg**: The Weight of the Pokemon in kilograms\n",
        "- **generation**: The numbered generation which the Pokemon was first introduced\n",
        "- **is_legendary**: Denotes if the Pokemon is legendary.\n"
      ]
    },
    {
      "cell_type": "markdown",
      "metadata": {
        "id": "Jje9_F53TxxA"
      },
      "source": [
        "### Loading the data and taking a look at it"
      ]
    },
    {
      "cell_type": "code",
      "execution_count": null,
      "metadata": {
        "id": "1Y7TKdDJTxxB"
      },
      "outputs": [],
      "source": [
        "#FIRST, IMPORTING THE PACKAGES\n",
        "import pandas as pd\n",
        "import numpy as np\n",
        "from numpy import nan\n",
        "import matplotlib.pyplot as plt\n",
        "import seaborn as sns\n",
        "import scipy.stats as stats\n",
        "from packaging import version\n",
        "import sklearn\n",
        "from sklearn.model_selection import train_test_split\n",
        "from sklearn.ensemble import RandomForestClassifier, VotingClassifier\n",
        "from sklearn.linear_model import LogisticRegression\n",
        "from sklearn.svm import SVC"
      ]
    },
    {
      "cell_type": "code",
      "execution_count": null,
      "metadata": {
        "dc": {
          "key": "4"
        },
        "id": "2E-A-i1mTxxB",
        "tags": [
          "sample_code"
        ],
        "vscode": {
          "languageId": "r"
        }
      },
      "outputs": [],
      "source": [
        "# LOAD THE DATA\n",
        "df = pd.read_csv('data/pokedex.csv')"
      ]
    },
    {
      "cell_type": "code",
      "execution_count": null,
      "metadata": {
        "colab": {
          "base_uri": "https://localhost:8080/"
        },
        "id": "WJWBc3ufTxxB",
        "outputId": "8d9e1974-7171-45a0-9e22-4b2d42cf7b15"
      },
      "outputs": [
        {
          "name": "stdout",
          "output_type": "stream",
          "text": [
            "<class 'pandas.core.frame.DataFrame'>\n",
            "RangeIndex: 801 entries, 0 to 800\n",
            "Data columns (total 14 columns):\n",
            " #   Column           Non-Null Count  Dtype  \n",
            "---  ------           --------------  -----  \n",
            " 0   pokedex_number   801 non-null    int64  \n",
            " 1   name             801 non-null    object \n",
            " 2   attack           801 non-null    int64  \n",
            " 3   defense          801 non-null    int64  \n",
            " 4   height_m         801 non-null    float64\n",
            " 5   hp               801 non-null    int64  \n",
            " 6   percentage_male  801 non-null    object \n",
            " 7   sp_attack        801 non-null    int64  \n",
            " 8   sp_defense       801 non-null    int64  \n",
            " 9   speed            801 non-null    int64  \n",
            " 10  type             801 non-null    object \n",
            " 11  weight_kg        801 non-null    float64\n",
            " 12  generation       801 non-null    int64  \n",
            " 13  is_legendary     801 non-null    int64  \n",
            "dtypes: float64(2), int64(9), object(3)\n",
            "memory usage: 87.7+ KB\n"
          ]
        }
      ],
      "source": [
        "#NOW WE ARE GOING TO FILL THE MISSING VALUES\n",
        "df['percentage_male'].fillna('None', inplace=True)\n",
        "df['height_m'].fillna(df['height_m'].median(), inplace=True)\n",
        "df['weight_kg'].fillna(df['weight_kg'].median(), inplace=True)\n",
        "df.info()"
      ]
    },
    {
      "cell_type": "code",
      "execution_count": null,
      "metadata": {
        "colab": {
          "base_uri": "https://localhost:8080/",
          "height": 359
        },
        "id": "qz1H_KYYTxxC",
        "outputId": "61fe0f6d-2877-4184-ddc1-14e45e05762f"
      },
      "outputs": [
        {
          "data": {
            "text/html": [
              "\n",
              "  <div id=\"df-55429a40-9ce0-4990-a501-c9d3a77b6c23\">\n",
              "    <div class=\"colab-df-container\">\n",
              "      <div>\n",
              "<style scoped>\n",
              "    .dataframe tbody tr th:only-of-type {\n",
              "        vertical-align: middle;\n",
              "    }\n",
              "\n",
              "    .dataframe tbody tr th {\n",
              "        vertical-align: top;\n",
              "    }\n",
              "\n",
              "    .dataframe thead th {\n",
              "        text-align: right;\n",
              "    }\n",
              "</style>\n",
              "<table border=\"1\" class=\"dataframe\">\n",
              "  <thead>\n",
              "    <tr style=\"text-align: right;\">\n",
              "      <th></th>\n",
              "      <th>pokedex_number</th>\n",
              "      <th>name</th>\n",
              "      <th>attack</th>\n",
              "      <th>defense</th>\n",
              "      <th>height_m</th>\n",
              "      <th>hp</th>\n",
              "      <th>percentage_male</th>\n",
              "      <th>sp_attack</th>\n",
              "      <th>sp_defense</th>\n",
              "      <th>speed</th>\n",
              "      <th>type</th>\n",
              "      <th>weight_kg</th>\n",
              "      <th>generation</th>\n",
              "      <th>is_legendary</th>\n",
              "    </tr>\n",
              "  </thead>\n",
              "  <tbody>\n",
              "    <tr>\n",
              "      <th>0</th>\n",
              "      <td>1</td>\n",
              "      <td>Bulbasaur</td>\n",
              "      <td>49</td>\n",
              "      <td>49</td>\n",
              "      <td>0.7</td>\n",
              "      <td>45</td>\n",
              "      <td>88.1</td>\n",
              "      <td>65</td>\n",
              "      <td>65</td>\n",
              "      <td>45</td>\n",
              "      <td>grass</td>\n",
              "      <td>6.9</td>\n",
              "      <td>1</td>\n",
              "      <td>0</td>\n",
              "    </tr>\n",
              "    <tr>\n",
              "      <th>1</th>\n",
              "      <td>2</td>\n",
              "      <td>Ivysaur</td>\n",
              "      <td>62</td>\n",
              "      <td>63</td>\n",
              "      <td>1.0</td>\n",
              "      <td>60</td>\n",
              "      <td>88.1</td>\n",
              "      <td>80</td>\n",
              "      <td>80</td>\n",
              "      <td>60</td>\n",
              "      <td>grass</td>\n",
              "      <td>13.0</td>\n",
              "      <td>1</td>\n",
              "      <td>0</td>\n",
              "    </tr>\n",
              "    <tr>\n",
              "      <th>2</th>\n",
              "      <td>3</td>\n",
              "      <td>Venusaur</td>\n",
              "      <td>100</td>\n",
              "      <td>123</td>\n",
              "      <td>2.0</td>\n",
              "      <td>80</td>\n",
              "      <td>88.1</td>\n",
              "      <td>122</td>\n",
              "      <td>120</td>\n",
              "      <td>80</td>\n",
              "      <td>grass</td>\n",
              "      <td>100.0</td>\n",
              "      <td>1</td>\n",
              "      <td>0</td>\n",
              "    </tr>\n",
              "    <tr>\n",
              "      <th>3</th>\n",
              "      <td>4</td>\n",
              "      <td>Charmander</td>\n",
              "      <td>52</td>\n",
              "      <td>43</td>\n",
              "      <td>0.6</td>\n",
              "      <td>39</td>\n",
              "      <td>88.1</td>\n",
              "      <td>60</td>\n",
              "      <td>50</td>\n",
              "      <td>65</td>\n",
              "      <td>fire</td>\n",
              "      <td>8.5</td>\n",
              "      <td>1</td>\n",
              "      <td>0</td>\n",
              "    </tr>\n",
              "    <tr>\n",
              "      <th>4</th>\n",
              "      <td>5</td>\n",
              "      <td>Charmeleon</td>\n",
              "      <td>64</td>\n",
              "      <td>58</td>\n",
              "      <td>1.1</td>\n",
              "      <td>58</td>\n",
              "      <td>88.1</td>\n",
              "      <td>80</td>\n",
              "      <td>65</td>\n",
              "      <td>80</td>\n",
              "      <td>fire</td>\n",
              "      <td>19.0</td>\n",
              "      <td>1</td>\n",
              "      <td>0</td>\n",
              "    </tr>\n",
              "    <tr>\n",
              "      <th>5</th>\n",
              "      <td>6</td>\n",
              "      <td>Charizard</td>\n",
              "      <td>104</td>\n",
              "      <td>78</td>\n",
              "      <td>1.7</td>\n",
              "      <td>78</td>\n",
              "      <td>88.1</td>\n",
              "      <td>159</td>\n",
              "      <td>115</td>\n",
              "      <td>100</td>\n",
              "      <td>fire</td>\n",
              "      <td>90.5</td>\n",
              "      <td>1</td>\n",
              "      <td>0</td>\n",
              "    </tr>\n",
              "    <tr>\n",
              "      <th>6</th>\n",
              "      <td>7</td>\n",
              "      <td>Squirtle</td>\n",
              "      <td>48</td>\n",
              "      <td>65</td>\n",
              "      <td>0.5</td>\n",
              "      <td>44</td>\n",
              "      <td>88.1</td>\n",
              "      <td>50</td>\n",
              "      <td>64</td>\n",
              "      <td>43</td>\n",
              "      <td>water</td>\n",
              "      <td>9.0</td>\n",
              "      <td>1</td>\n",
              "      <td>0</td>\n",
              "    </tr>\n",
              "    <tr>\n",
              "      <th>7</th>\n",
              "      <td>8</td>\n",
              "      <td>Wartortle</td>\n",
              "      <td>63</td>\n",
              "      <td>80</td>\n",
              "      <td>1.0</td>\n",
              "      <td>59</td>\n",
              "      <td>88.1</td>\n",
              "      <td>65</td>\n",
              "      <td>80</td>\n",
              "      <td>58</td>\n",
              "      <td>water</td>\n",
              "      <td>22.5</td>\n",
              "      <td>1</td>\n",
              "      <td>0</td>\n",
              "    </tr>\n",
              "    <tr>\n",
              "      <th>8</th>\n",
              "      <td>9</td>\n",
              "      <td>Blastoise</td>\n",
              "      <td>103</td>\n",
              "      <td>120</td>\n",
              "      <td>1.6</td>\n",
              "      <td>79</td>\n",
              "      <td>88.1</td>\n",
              "      <td>135</td>\n",
              "      <td>115</td>\n",
              "      <td>78</td>\n",
              "      <td>water</td>\n",
              "      <td>85.5</td>\n",
              "      <td>1</td>\n",
              "      <td>0</td>\n",
              "    </tr>\n",
              "    <tr>\n",
              "      <th>9</th>\n",
              "      <td>10</td>\n",
              "      <td>Caterpie</td>\n",
              "      <td>30</td>\n",
              "      <td>35</td>\n",
              "      <td>0.3</td>\n",
              "      <td>45</td>\n",
              "      <td>50.0</td>\n",
              "      <td>20</td>\n",
              "      <td>20</td>\n",
              "      <td>45</td>\n",
              "      <td>bug</td>\n",
              "      <td>2.9</td>\n",
              "      <td>1</td>\n",
              "      <td>0</td>\n",
              "    </tr>\n",
              "  </tbody>\n",
              "</table>\n",
              "</div>\n",
              "      <button class=\"colab-df-convert\" onclick=\"convertToInteractive('df-55429a40-9ce0-4990-a501-c9d3a77b6c23')\"\n",
              "              title=\"Convert this dataframe to an interactive table.\"\n",
              "              style=\"display:none;\">\n",
              "        \n",
              "  <svg xmlns=\"http://www.w3.org/2000/svg\" height=\"24px\"viewBox=\"0 0 24 24\"\n",
              "       width=\"24px\">\n",
              "    <path d=\"M0 0h24v24H0V0z\" fill=\"none\"/>\n",
              "    <path d=\"M18.56 5.44l.94 2.06.94-2.06 2.06-.94-2.06-.94-.94-2.06-.94 2.06-2.06.94zm-11 1L8.5 8.5l.94-2.06 2.06-.94-2.06-.94L8.5 2.5l-.94 2.06-2.06.94zm10 10l.94 2.06.94-2.06 2.06-.94-2.06-.94-.94-2.06-.94 2.06-2.06.94z\"/><path d=\"M17.41 7.96l-1.37-1.37c-.4-.4-.92-.59-1.43-.59-.52 0-1.04.2-1.43.59L10.3 9.45l-7.72 7.72c-.78.78-.78 2.05 0 2.83L4 21.41c.39.39.9.59 1.41.59.51 0 1.02-.2 1.41-.59l7.78-7.78 2.81-2.81c.8-.78.8-2.07 0-2.86zM5.41 20L4 18.59l7.72-7.72 1.47 1.35L5.41 20z\"/>\n",
              "  </svg>\n",
              "      </button>\n",
              "      \n",
              "  <style>\n",
              "    .colab-df-container {\n",
              "      display:flex;\n",
              "      flex-wrap:wrap;\n",
              "      gap: 12px;\n",
              "    }\n",
              "\n",
              "    .colab-df-convert {\n",
              "      background-color: #E8F0FE;\n",
              "      border: none;\n",
              "      border-radius: 50%;\n",
              "      cursor: pointer;\n",
              "      display: none;\n",
              "      fill: #1967D2;\n",
              "      height: 32px;\n",
              "      padding: 0 0 0 0;\n",
              "      width: 32px;\n",
              "    }\n",
              "\n",
              "    .colab-df-convert:hover {\n",
              "      background-color: #E2EBFA;\n",
              "      box-shadow: 0px 1px 2px rgba(60, 64, 67, 0.3), 0px 1px 3px 1px rgba(60, 64, 67, 0.15);\n",
              "      fill: #174EA6;\n",
              "    }\n",
              "\n",
              "    [theme=dark] .colab-df-convert {\n",
              "      background-color: #3B4455;\n",
              "      fill: #D2E3FC;\n",
              "    }\n",
              "\n",
              "    [theme=dark] .colab-df-convert:hover {\n",
              "      background-color: #434B5C;\n",
              "      box-shadow: 0px 1px 3px 1px rgba(0, 0, 0, 0.15);\n",
              "      filter: drop-shadow(0px 1px 2px rgba(0, 0, 0, 0.3));\n",
              "      fill: #FFFFFF;\n",
              "    }\n",
              "  </style>\n",
              "\n",
              "      <script>\n",
              "        const buttonEl =\n",
              "          document.querySelector('#df-55429a40-9ce0-4990-a501-c9d3a77b6c23 button.colab-df-convert');\n",
              "        buttonEl.style.display =\n",
              "          google.colab.kernel.accessAllowed ? 'block' : 'none';\n",
              "\n",
              "        async function convertToInteractive(key) {\n",
              "          const element = document.querySelector('#df-55429a40-9ce0-4990-a501-c9d3a77b6c23');\n",
              "          const dataTable =\n",
              "            await google.colab.kernel.invokeFunction('convertToInteractive',\n",
              "                                                     [key], {});\n",
              "          if (!dataTable) return;\n",
              "\n",
              "          const docLinkHtml = 'Like what you see? Visit the ' +\n",
              "            '<a target=\"_blank\" href=https://colab.research.google.com/notebooks/data_table.ipynb>data table notebook</a>'\n",
              "            + ' to learn more about interactive tables.';\n",
              "          element.innerHTML = '';\n",
              "          dataTable['output_type'] = 'display_data';\n",
              "          await google.colab.output.renderOutput(dataTable, element);\n",
              "          const docLink = document.createElement('div');\n",
              "          docLink.innerHTML = docLinkHtml;\n",
              "          element.appendChild(docLink);\n",
              "        }\n",
              "      </script>\n",
              "    </div>\n",
              "  </div>\n",
              "  "
            ],
            "text/plain": [
              "   pokedex_number        name  attack  defense  height_m  hp percentage_male  \\\n",
              "0               1   Bulbasaur      49       49       0.7  45            88.1   \n",
              "1               2     Ivysaur      62       63       1.0  60            88.1   \n",
              "2               3    Venusaur     100      123       2.0  80            88.1   \n",
              "3               4  Charmander      52       43       0.6  39            88.1   \n",
              "4               5  Charmeleon      64       58       1.1  58            88.1   \n",
              "5               6   Charizard     104       78       1.7  78            88.1   \n",
              "6               7    Squirtle      48       65       0.5  44            88.1   \n",
              "7               8   Wartortle      63       80       1.0  59            88.1   \n",
              "8               9   Blastoise     103      120       1.6  79            88.1   \n",
              "9              10    Caterpie      30       35       0.3  45            50.0   \n",
              "\n",
              "   sp_attack  sp_defense  speed   type  weight_kg  generation  is_legendary  \n",
              "0         65          65     45  grass        6.9           1             0  \n",
              "1         80          80     60  grass       13.0           1             0  \n",
              "2        122         120     80  grass      100.0           1             0  \n",
              "3         60          50     65   fire        8.5           1             0  \n",
              "4         80          65     80   fire       19.0           1             0  \n",
              "5        159         115    100   fire       90.5           1             0  \n",
              "6         50          64     43  water        9.0           1             0  \n",
              "7         65          80     58  water       22.5           1             0  \n",
              "8        135         115     78  water       85.5           1             0  \n",
              "9         20          20     45    bug        2.9           1             0  "
            ]
          },
          "execution_count": 5,
          "metadata": {},
          "output_type": "execute_result"
        }
      ],
      "source": [
        "#LETS PRINT THE FIRST 10 ROWS OF THE DATA FRAME\n",
        "df.head(n=10)"
      ]
    },
    {
      "cell_type": "markdown",
      "metadata": {
        "dc": {
          "key": "12"
        },
        "deletable": false,
        "editable": false,
        "id": "DQMTKhuETxxD",
        "run_control": {
          "frozen": true
        },
        "tags": [
          "context"
        ]
      },
      "source": [
        "## 2. How many Pokémon are legendary?\n",
        "<p>After browsing the Pokédex, we can see several variables that could feasibly explain what makes a Pokémon legendary. We have a series of numerical fighter stats – <code>attack</code>, <code>defense</code>, <code>speed</code> and so on – as well as a categorization of Pokemon <code>type</code> (bug, dark, dragon, etc.). <code>is_legendary</code> is the binary classification variable we will eventually be predicting, tagged <code>1</code> if a Pokémon is legendary and <code>0</code> if it is not.</p>\n",
        "<p>Before we explore these variables in any depth, let's find out how many Pokémon are legendary out of the 801 total."
      ]
    },
    {
      "cell_type": "code",
      "execution_count": null,
      "metadata": {
        "colab": {
          "base_uri": "https://localhost:8080/"
        },
        "id": "pJU-P5wOTxxD",
        "outputId": "7583715d-27c5-497d-c38e-34e44d6c76fb"
      },
      "outputs": [
        {
          "name": "stdout",
          "output_type": "stream",
          "text": [
            "There are 70 legendary pokemons\n"
          ]
        }
      ],
      "source": [
        "#The column 'is_legendary' takes the value 0 if the pokemon is not legendary and 1 if it is legendary. So if we just\n",
        "#sum the column we will obtain the number of legendary pokemons.\n",
        "leg = df['is_legendary'].sum()\n",
        "print('There are' , leg, 'legendary pokemons')"
      ]
    },
    {
      "cell_type": "code",
      "execution_count": null,
      "metadata": {
        "colab": {
          "base_uri": "https://localhost:8080/"
        },
        "id": "p6Ftn5IbTxxE",
        "outputId": "e0033003-5b49-45c2-bf7b-66e63fb45613"
      },
      "outputs": [
        {
          "data": {
            "text/plain": [
              "0    731\n",
              "1     70\n",
              "Name: is_legendary, dtype: int64"
            ]
          },
          "execution_count": 7,
          "metadata": {},
          "output_type": "execute_result"
        }
      ],
      "source": [
        "#Another way that shows us the number of 0's (non-legendary) and 1's (legendary) in the column\n",
        "df[\"is_legendary\"].value_counts()"
      ]
    },
    {
      "cell_type": "code",
      "execution_count": null,
      "metadata": {
        "colab": {
          "base_uri": "https://localhost:8080/",
          "height": 419
        },
        "dc": {
          "key": "12"
        },
        "id": "29SP3RsaTxxE",
        "outputId": "952b070e-a940-4020-bc38-ac6bb79d3459",
        "tags": [
          "sample_code"
        ],
        "vscode": {
          "languageId": "r"
        }
      },
      "outputs": [
        {
          "data": {
            "text/html": [
              "\n",
              "  <div id=\"df-625f0990-4f71-4e7f-b1b6-e033ceae2294\">\n",
              "    <div class=\"colab-df-container\">\n",
              "      <div>\n",
              "<style scoped>\n",
              "    .dataframe tbody tr th:only-of-type {\n",
              "        vertical-align: middle;\n",
              "    }\n",
              "\n",
              "    .dataframe tbody tr th {\n",
              "        vertical-align: top;\n",
              "    }\n",
              "\n",
              "    .dataframe thead th {\n",
              "        text-align: right;\n",
              "    }\n",
              "</style>\n",
              "<table border=\"1\" class=\"dataframe\">\n",
              "  <thead>\n",
              "    <tr style=\"text-align: right;\">\n",
              "      <th></th>\n",
              "      <th>pokedex_number</th>\n",
              "      <th>name</th>\n",
              "      <th>attack</th>\n",
              "      <th>defense</th>\n",
              "      <th>height_m</th>\n",
              "      <th>hp</th>\n",
              "      <th>percentage_male</th>\n",
              "      <th>sp_attack</th>\n",
              "      <th>sp_defense</th>\n",
              "      <th>speed</th>\n",
              "      <th>type</th>\n",
              "      <th>weight_kg</th>\n",
              "      <th>generation</th>\n",
              "      <th>is_legendary</th>\n",
              "    </tr>\n",
              "  </thead>\n",
              "  <tbody>\n",
              "    <tr>\n",
              "      <th>143</th>\n",
              "      <td>144</td>\n",
              "      <td>Articuno</td>\n",
              "      <td>85</td>\n",
              "      <td>100</td>\n",
              "      <td>1.7</td>\n",
              "      <td>90</td>\n",
              "      <td>None</td>\n",
              "      <td>95</td>\n",
              "      <td>125</td>\n",
              "      <td>85</td>\n",
              "      <td>ice</td>\n",
              "      <td>55.4</td>\n",
              "      <td>1</td>\n",
              "      <td>1</td>\n",
              "    </tr>\n",
              "    <tr>\n",
              "      <th>144</th>\n",
              "      <td>145</td>\n",
              "      <td>Zapdos</td>\n",
              "      <td>90</td>\n",
              "      <td>85</td>\n",
              "      <td>1.6</td>\n",
              "      <td>90</td>\n",
              "      <td>None</td>\n",
              "      <td>125</td>\n",
              "      <td>90</td>\n",
              "      <td>100</td>\n",
              "      <td>electric</td>\n",
              "      <td>52.6</td>\n",
              "      <td>1</td>\n",
              "      <td>1</td>\n",
              "    </tr>\n",
              "    <tr>\n",
              "      <th>145</th>\n",
              "      <td>146</td>\n",
              "      <td>Moltres</td>\n",
              "      <td>100</td>\n",
              "      <td>90</td>\n",
              "      <td>2.0</td>\n",
              "      <td>90</td>\n",
              "      <td>None</td>\n",
              "      <td>125</td>\n",
              "      <td>85</td>\n",
              "      <td>90</td>\n",
              "      <td>fire</td>\n",
              "      <td>60.0</td>\n",
              "      <td>1</td>\n",
              "      <td>1</td>\n",
              "    </tr>\n",
              "    <tr>\n",
              "      <th>149</th>\n",
              "      <td>150</td>\n",
              "      <td>Mewtwo</td>\n",
              "      <td>150</td>\n",
              "      <td>70</td>\n",
              "      <td>2.0</td>\n",
              "      <td>106</td>\n",
              "      <td>None</td>\n",
              "      <td>194</td>\n",
              "      <td>120</td>\n",
              "      <td>140</td>\n",
              "      <td>psychic</td>\n",
              "      <td>122.0</td>\n",
              "      <td>1</td>\n",
              "      <td>1</td>\n",
              "    </tr>\n",
              "    <tr>\n",
              "      <th>150</th>\n",
              "      <td>151</td>\n",
              "      <td>Mew</td>\n",
              "      <td>100</td>\n",
              "      <td>100</td>\n",
              "      <td>0.4</td>\n",
              "      <td>100</td>\n",
              "      <td>None</td>\n",
              "      <td>100</td>\n",
              "      <td>100</td>\n",
              "      <td>100</td>\n",
              "      <td>psychic</td>\n",
              "      <td>4.0</td>\n",
              "      <td>1</td>\n",
              "      <td>1</td>\n",
              "    </tr>\n",
              "    <tr>\n",
              "      <th>...</th>\n",
              "      <td>...</td>\n",
              "      <td>...</td>\n",
              "      <td>...</td>\n",
              "      <td>...</td>\n",
              "      <td>...</td>\n",
              "      <td>...</td>\n",
              "      <td>...</td>\n",
              "      <td>...</td>\n",
              "      <td>...</td>\n",
              "      <td>...</td>\n",
              "      <td>...</td>\n",
              "      <td>...</td>\n",
              "      <td>...</td>\n",
              "      <td>...</td>\n",
              "    </tr>\n",
              "    <tr>\n",
              "      <th>796</th>\n",
              "      <td>797</td>\n",
              "      <td>Celesteela</td>\n",
              "      <td>101</td>\n",
              "      <td>103</td>\n",
              "      <td>9.2</td>\n",
              "      <td>97</td>\n",
              "      <td>None</td>\n",
              "      <td>107</td>\n",
              "      <td>101</td>\n",
              "      <td>61</td>\n",
              "      <td>steel</td>\n",
              "      <td>999.9</td>\n",
              "      <td>7</td>\n",
              "      <td>1</td>\n",
              "    </tr>\n",
              "    <tr>\n",
              "      <th>797</th>\n",
              "      <td>798</td>\n",
              "      <td>Kartana</td>\n",
              "      <td>181</td>\n",
              "      <td>131</td>\n",
              "      <td>0.3</td>\n",
              "      <td>59</td>\n",
              "      <td>None</td>\n",
              "      <td>59</td>\n",
              "      <td>31</td>\n",
              "      <td>109</td>\n",
              "      <td>grass</td>\n",
              "      <td>0.1</td>\n",
              "      <td>7</td>\n",
              "      <td>1</td>\n",
              "    </tr>\n",
              "    <tr>\n",
              "      <th>798</th>\n",
              "      <td>799</td>\n",
              "      <td>Guzzlord</td>\n",
              "      <td>101</td>\n",
              "      <td>53</td>\n",
              "      <td>5.5</td>\n",
              "      <td>223</td>\n",
              "      <td>None</td>\n",
              "      <td>97</td>\n",
              "      <td>53</td>\n",
              "      <td>43</td>\n",
              "      <td>dark</td>\n",
              "      <td>888.0</td>\n",
              "      <td>7</td>\n",
              "      <td>1</td>\n",
              "    </tr>\n",
              "    <tr>\n",
              "      <th>799</th>\n",
              "      <td>800</td>\n",
              "      <td>Necrozma</td>\n",
              "      <td>107</td>\n",
              "      <td>101</td>\n",
              "      <td>2.4</td>\n",
              "      <td>97</td>\n",
              "      <td>None</td>\n",
              "      <td>127</td>\n",
              "      <td>89</td>\n",
              "      <td>79</td>\n",
              "      <td>psychic</td>\n",
              "      <td>230.0</td>\n",
              "      <td>7</td>\n",
              "      <td>1</td>\n",
              "    </tr>\n",
              "    <tr>\n",
              "      <th>800</th>\n",
              "      <td>801</td>\n",
              "      <td>Magearna</td>\n",
              "      <td>95</td>\n",
              "      <td>115</td>\n",
              "      <td>1.0</td>\n",
              "      <td>80</td>\n",
              "      <td>None</td>\n",
              "      <td>130</td>\n",
              "      <td>115</td>\n",
              "      <td>65</td>\n",
              "      <td>steel</td>\n",
              "      <td>80.5</td>\n",
              "      <td>7</td>\n",
              "      <td>1</td>\n",
              "    </tr>\n",
              "  </tbody>\n",
              "</table>\n",
              "<p>70 rows × 14 columns</p>\n",
              "</div>\n",
              "      <button class=\"colab-df-convert\" onclick=\"convertToInteractive('df-625f0990-4f71-4e7f-b1b6-e033ceae2294')\"\n",
              "              title=\"Convert this dataframe to an interactive table.\"\n",
              "              style=\"display:none;\">\n",
              "        \n",
              "  <svg xmlns=\"http://www.w3.org/2000/svg\" height=\"24px\"viewBox=\"0 0 24 24\"\n",
              "       width=\"24px\">\n",
              "    <path d=\"M0 0h24v24H0V0z\" fill=\"none\"/>\n",
              "    <path d=\"M18.56 5.44l.94 2.06.94-2.06 2.06-.94-2.06-.94-.94-2.06-.94 2.06-2.06.94zm-11 1L8.5 8.5l.94-2.06 2.06-.94-2.06-.94L8.5 2.5l-.94 2.06-2.06.94zm10 10l.94 2.06.94-2.06 2.06-.94-2.06-.94-.94-2.06-.94 2.06-2.06.94z\"/><path d=\"M17.41 7.96l-1.37-1.37c-.4-.4-.92-.59-1.43-.59-.52 0-1.04.2-1.43.59L10.3 9.45l-7.72 7.72c-.78.78-.78 2.05 0 2.83L4 21.41c.39.39.9.59 1.41.59.51 0 1.02-.2 1.41-.59l7.78-7.78 2.81-2.81c.8-.78.8-2.07 0-2.86zM5.41 20L4 18.59l7.72-7.72 1.47 1.35L5.41 20z\"/>\n",
              "  </svg>\n",
              "      </button>\n",
              "      \n",
              "  <style>\n",
              "    .colab-df-container {\n",
              "      display:flex;\n",
              "      flex-wrap:wrap;\n",
              "      gap: 12px;\n",
              "    }\n",
              "\n",
              "    .colab-df-convert {\n",
              "      background-color: #E8F0FE;\n",
              "      border: none;\n",
              "      border-radius: 50%;\n",
              "      cursor: pointer;\n",
              "      display: none;\n",
              "      fill: #1967D2;\n",
              "      height: 32px;\n",
              "      padding: 0 0 0 0;\n",
              "      width: 32px;\n",
              "    }\n",
              "\n",
              "    .colab-df-convert:hover {\n",
              "      background-color: #E2EBFA;\n",
              "      box-shadow: 0px 1px 2px rgba(60, 64, 67, 0.3), 0px 1px 3px 1px rgba(60, 64, 67, 0.15);\n",
              "      fill: #174EA6;\n",
              "    }\n",
              "\n",
              "    [theme=dark] .colab-df-convert {\n",
              "      background-color: #3B4455;\n",
              "      fill: #D2E3FC;\n",
              "    }\n",
              "\n",
              "    [theme=dark] .colab-df-convert:hover {\n",
              "      background-color: #434B5C;\n",
              "      box-shadow: 0px 1px 3px 1px rgba(0, 0, 0, 0.15);\n",
              "      filter: drop-shadow(0px 1px 2px rgba(0, 0, 0, 0.3));\n",
              "      fill: #FFFFFF;\n",
              "    }\n",
              "  </style>\n",
              "\n",
              "      <script>\n",
              "        const buttonEl =\n",
              "          document.querySelector('#df-625f0990-4f71-4e7f-b1b6-e033ceae2294 button.colab-df-convert');\n",
              "        buttonEl.style.display =\n",
              "          google.colab.kernel.accessAllowed ? 'block' : 'none';\n",
              "\n",
              "        async function convertToInteractive(key) {\n",
              "          const element = document.querySelector('#df-625f0990-4f71-4e7f-b1b6-e033ceae2294');\n",
              "          const dataTable =\n",
              "            await google.colab.kernel.invokeFunction('convertToInteractive',\n",
              "                                                     [key], {});\n",
              "          if (!dataTable) return;\n",
              "\n",
              "          const docLinkHtml = 'Like what you see? Visit the ' +\n",
              "            '<a target=\"_blank\" href=https://colab.research.google.com/notebooks/data_table.ipynb>data table notebook</a>'\n",
              "            + ' to learn more about interactive tables.';\n",
              "          element.innerHTML = '';\n",
              "          dataTable['output_type'] = 'display_data';\n",
              "          await google.colab.output.renderOutput(dataTable, element);\n",
              "          const docLink = document.createElement('div');\n",
              "          docLink.innerHTML = docLinkHtml;\n",
              "          element.appendChild(docLink);\n",
              "        }\n",
              "      </script>\n",
              "    </div>\n",
              "  </div>\n",
              "  "
            ],
            "text/plain": [
              "     pokedex_number        name  attack  defense  height_m   hp  \\\n",
              "143             144    Articuno      85      100       1.7   90   \n",
              "144             145      Zapdos      90       85       1.6   90   \n",
              "145             146     Moltres     100       90       2.0   90   \n",
              "149             150      Mewtwo     150       70       2.0  106   \n",
              "150             151         Mew     100      100       0.4  100   \n",
              "..              ...         ...     ...      ...       ...  ...   \n",
              "796             797  Celesteela     101      103       9.2   97   \n",
              "797             798     Kartana     181      131       0.3   59   \n",
              "798             799    Guzzlord     101       53       5.5  223   \n",
              "799             800    Necrozma     107      101       2.4   97   \n",
              "800             801    Magearna      95      115       1.0   80   \n",
              "\n",
              "    percentage_male  sp_attack  sp_defense  speed      type  weight_kg  \\\n",
              "143            None         95         125     85       ice       55.4   \n",
              "144            None        125          90    100  electric       52.6   \n",
              "145            None        125          85     90      fire       60.0   \n",
              "149            None        194         120    140   psychic      122.0   \n",
              "150            None        100         100    100   psychic        4.0   \n",
              "..              ...        ...         ...    ...       ...        ...   \n",
              "796            None        107         101     61     steel      999.9   \n",
              "797            None         59          31    109     grass        0.1   \n",
              "798            None         97          53     43      dark      888.0   \n",
              "799            None        127          89     79   psychic      230.0   \n",
              "800            None        130         115     65     steel       80.5   \n",
              "\n",
              "     generation  is_legendary  \n",
              "143           1             1  \n",
              "144           1             1  \n",
              "145           1             1  \n",
              "149           1             1  \n",
              "150           1             1  \n",
              "..          ...           ...  \n",
              "796           7             1  \n",
              "797           7             1  \n",
              "798           7             1  \n",
              "799           7             1  \n",
              "800           7             1  \n",
              "\n",
              "[70 rows x 14 columns]"
            ]
          },
          "execution_count": 8,
          "metadata": {},
          "output_type": "execute_result"
        }
      ],
      "source": [
        "#To see which are the legendary ones...\n",
        "df[df['is_legendary']==True]"
      ]
    },
    {
      "cell_type": "markdown",
      "metadata": {
        "dc": {
          "key": "19"
        },
        "deletable": false,
        "editable": false,
        "id": "9ZAbPWV4TxxE",
        "run_control": {
          "frozen": true
        },
        "tags": [
          "context"
        ]
      },
      "source": [
        "## 3. Legendary Pokémon by height and weight\n",
        "<p>We now know that there are 70 legendary Pokémon – a sizable minority at 9% of the population! Let's start to explore some of their distinguishing characteristics.</p>\n",
        "<p>First of all, we'll plot the relationship between <code>height_m</code> and <code>weight_kg</code> for all 801 Pokémon, highlighting those that are classified as legendary. We'll also add conditional labels to the plot, which will only print a Pokémon's name if it is taller than 7.5m or heavier than 600kg.</p>"
      ]
    },
    {
      "cell_type": "code",
      "execution_count": null,
      "metadata": {
        "colab": {
          "base_uri": "https://localhost:8080/",
          "height": 173
        },
        "id": "1QvismL9TxxE",
        "outputId": "57ddd10e-08c0-4c8c-834b-dd0bf69d7b3a"
      },
      "outputs": [
        {
          "data": {
            "text/html": [
              "\n",
              "  <div id=\"df-422cebe2-8e80-4af1-aedc-05ceb0ebe832\">\n",
              "    <div class=\"colab-df-container\">\n",
              "      <div>\n",
              "<style scoped>\n",
              "    .dataframe tbody tr th:only-of-type {\n",
              "        vertical-align: middle;\n",
              "    }\n",
              "\n",
              "    .dataframe tbody tr th {\n",
              "        vertical-align: top;\n",
              "    }\n",
              "\n",
              "    .dataframe thead th {\n",
              "        text-align: right;\n",
              "    }\n",
              "</style>\n",
              "<table border=\"1\" class=\"dataframe\">\n",
              "  <thead>\n",
              "    <tr style=\"text-align: right;\">\n",
              "      <th></th>\n",
              "      <th>pokedex_number</th>\n",
              "      <th>name</th>\n",
              "      <th>attack</th>\n",
              "      <th>defense</th>\n",
              "      <th>height_m</th>\n",
              "      <th>hp</th>\n",
              "      <th>percentage_male</th>\n",
              "      <th>sp_attack</th>\n",
              "      <th>sp_defense</th>\n",
              "      <th>speed</th>\n",
              "      <th>type</th>\n",
              "      <th>weight_kg</th>\n",
              "      <th>generation</th>\n",
              "      <th>is_legendary</th>\n",
              "    </tr>\n",
              "  </thead>\n",
              "  <tbody>\n",
              "    <tr>\n",
              "      <th>94</th>\n",
              "      <td>95</td>\n",
              "      <td>Onix</td>\n",
              "      <td>45</td>\n",
              "      <td>160</td>\n",
              "      <td>8.8</td>\n",
              "      <td>35</td>\n",
              "      <td>50.0</td>\n",
              "      <td>30</td>\n",
              "      <td>45</td>\n",
              "      <td>70</td>\n",
              "      <td>rock</td>\n",
              "      <td>210.0</td>\n",
              "      <td>1</td>\n",
              "      <td>0</td>\n",
              "    </tr>\n",
              "    <tr>\n",
              "      <th>207</th>\n",
              "      <td>208</td>\n",
              "      <td>Steelix</td>\n",
              "      <td>125</td>\n",
              "      <td>230</td>\n",
              "      <td>9.2</td>\n",
              "      <td>75</td>\n",
              "      <td>50.0</td>\n",
              "      <td>55</td>\n",
              "      <td>95</td>\n",
              "      <td>30</td>\n",
              "      <td>steel</td>\n",
              "      <td>400.0</td>\n",
              "      <td>2</td>\n",
              "      <td>0</td>\n",
              "    </tr>\n",
              "    <tr>\n",
              "      <th>320</th>\n",
              "      <td>321</td>\n",
              "      <td>Wailord</td>\n",
              "      <td>90</td>\n",
              "      <td>45</td>\n",
              "      <td>14.5</td>\n",
              "      <td>170</td>\n",
              "      <td>50.0</td>\n",
              "      <td>90</td>\n",
              "      <td>45</td>\n",
              "      <td>60</td>\n",
              "      <td>water</td>\n",
              "      <td>398.0</td>\n",
              "      <td>3</td>\n",
              "      <td>0</td>\n",
              "    </tr>\n",
              "    <tr>\n",
              "      <th>796</th>\n",
              "      <td>797</td>\n",
              "      <td>Celesteela</td>\n",
              "      <td>101</td>\n",
              "      <td>103</td>\n",
              "      <td>9.2</td>\n",
              "      <td>97</td>\n",
              "      <td>None</td>\n",
              "      <td>107</td>\n",
              "      <td>101</td>\n",
              "      <td>61</td>\n",
              "      <td>steel</td>\n",
              "      <td>999.9</td>\n",
              "      <td>7</td>\n",
              "      <td>1</td>\n",
              "    </tr>\n",
              "  </tbody>\n",
              "</table>\n",
              "</div>\n",
              "      <button class=\"colab-df-convert\" onclick=\"convertToInteractive('df-422cebe2-8e80-4af1-aedc-05ceb0ebe832')\"\n",
              "              title=\"Convert this dataframe to an interactive table.\"\n",
              "              style=\"display:none;\">\n",
              "        \n",
              "  <svg xmlns=\"http://www.w3.org/2000/svg\" height=\"24px\"viewBox=\"0 0 24 24\"\n",
              "       width=\"24px\">\n",
              "    <path d=\"M0 0h24v24H0V0z\" fill=\"none\"/>\n",
              "    <path d=\"M18.56 5.44l.94 2.06.94-2.06 2.06-.94-2.06-.94-.94-2.06-.94 2.06-2.06.94zm-11 1L8.5 8.5l.94-2.06 2.06-.94-2.06-.94L8.5 2.5l-.94 2.06-2.06.94zm10 10l.94 2.06.94-2.06 2.06-.94-2.06-.94-.94-2.06-.94 2.06-2.06.94z\"/><path d=\"M17.41 7.96l-1.37-1.37c-.4-.4-.92-.59-1.43-.59-.52 0-1.04.2-1.43.59L10.3 9.45l-7.72 7.72c-.78.78-.78 2.05 0 2.83L4 21.41c.39.39.9.59 1.41.59.51 0 1.02-.2 1.41-.59l7.78-7.78 2.81-2.81c.8-.78.8-2.07 0-2.86zM5.41 20L4 18.59l7.72-7.72 1.47 1.35L5.41 20z\"/>\n",
              "  </svg>\n",
              "      </button>\n",
              "      \n",
              "  <style>\n",
              "    .colab-df-container {\n",
              "      display:flex;\n",
              "      flex-wrap:wrap;\n",
              "      gap: 12px;\n",
              "    }\n",
              "\n",
              "    .colab-df-convert {\n",
              "      background-color: #E8F0FE;\n",
              "      border: none;\n",
              "      border-radius: 50%;\n",
              "      cursor: pointer;\n",
              "      display: none;\n",
              "      fill: #1967D2;\n",
              "      height: 32px;\n",
              "      padding: 0 0 0 0;\n",
              "      width: 32px;\n",
              "    }\n",
              "\n",
              "    .colab-df-convert:hover {\n",
              "      background-color: #E2EBFA;\n",
              "      box-shadow: 0px 1px 2px rgba(60, 64, 67, 0.3), 0px 1px 3px 1px rgba(60, 64, 67, 0.15);\n",
              "      fill: #174EA6;\n",
              "    }\n",
              "\n",
              "    [theme=dark] .colab-df-convert {\n",
              "      background-color: #3B4455;\n",
              "      fill: #D2E3FC;\n",
              "    }\n",
              "\n",
              "    [theme=dark] .colab-df-convert:hover {\n",
              "      background-color: #434B5C;\n",
              "      box-shadow: 0px 1px 3px 1px rgba(0, 0, 0, 0.15);\n",
              "      filter: drop-shadow(0px 1px 2px rgba(0, 0, 0, 0.3));\n",
              "      fill: #FFFFFF;\n",
              "    }\n",
              "  </style>\n",
              "\n",
              "      <script>\n",
              "        const buttonEl =\n",
              "          document.querySelector('#df-422cebe2-8e80-4af1-aedc-05ceb0ebe832 button.colab-df-convert');\n",
              "        buttonEl.style.display =\n",
              "          google.colab.kernel.accessAllowed ? 'block' : 'none';\n",
              "\n",
              "        async function convertToInteractive(key) {\n",
              "          const element = document.querySelector('#df-422cebe2-8e80-4af1-aedc-05ceb0ebe832');\n",
              "          const dataTable =\n",
              "            await google.colab.kernel.invokeFunction('convertToInteractive',\n",
              "                                                     [key], {});\n",
              "          if (!dataTable) return;\n",
              "\n",
              "          const docLinkHtml = 'Like what you see? Visit the ' +\n",
              "            '<a target=\"_blank\" href=https://colab.research.google.com/notebooks/data_table.ipynb>data table notebook</a>'\n",
              "            + ' to learn more about interactive tables.';\n",
              "          element.innerHTML = '';\n",
              "          dataTable['output_type'] = 'display_data';\n",
              "          await google.colab.output.renderOutput(dataTable, element);\n",
              "          const docLink = document.createElement('div');\n",
              "          docLink.innerHTML = docLinkHtml;\n",
              "          element.appendChild(docLink);\n",
              "        }\n",
              "      </script>\n",
              "    </div>\n",
              "  </div>\n",
              "  "
            ],
            "text/plain": [
              "     pokedex_number        name  attack  defense  height_m   hp  \\\n",
              "94               95        Onix      45      160       8.8   35   \n",
              "207             208     Steelix     125      230       9.2   75   \n",
              "320             321     Wailord      90       45      14.5  170   \n",
              "796             797  Celesteela     101      103       9.2   97   \n",
              "\n",
              "    percentage_male  sp_attack  sp_defense  speed   type  weight_kg  \\\n",
              "94             50.0         30          45     70   rock      210.0   \n",
              "207            50.0         55          95     30  steel      400.0   \n",
              "320            50.0         90          45     60  water      398.0   \n",
              "796            None        107         101     61  steel      999.9   \n",
              "\n",
              "     generation  is_legendary  \n",
              "94            1             0  \n",
              "207           2             0  \n",
              "320           3             0  \n",
              "796           7             1  "
            ]
          },
          "execution_count": 9,
          "metadata": {},
          "output_type": "execute_result"
        }
      ],
      "source": [
        "#FIRST WE ARE GOING TO FILTER AND SELECT THE POKEMOnS HEIGHER THAN 7.5 m, AS THEY ARE THE ONES WE WILL LABEL\n",
        "x = df[df['height_m']>7.5]\n",
        "x"
      ]
    },
    {
      "cell_type": "code",
      "execution_count": null,
      "metadata": {
        "colab": {
          "base_uri": "https://localhost:8080/",
          "height": 266
        },
        "id": "qzkg_fESTxxF",
        "outputId": "2af9a3ea-efc6-4c56-91f5-650d60a92b18"
      },
      "outputs": [
        {
          "data": {
            "text/html": [
              "\n",
              "  <div id=\"df-2ba2fbd9-5243-4087-9eea-fdd81e13edb2\">\n",
              "    <div class=\"colab-df-container\">\n",
              "      <div>\n",
              "<style scoped>\n",
              "    .dataframe tbody tr th:only-of-type {\n",
              "        vertical-align: middle;\n",
              "    }\n",
              "\n",
              "    .dataframe tbody tr th {\n",
              "        vertical-align: top;\n",
              "    }\n",
              "\n",
              "    .dataframe thead th {\n",
              "        text-align: right;\n",
              "    }\n",
              "</style>\n",
              "<table border=\"1\" class=\"dataframe\">\n",
              "  <thead>\n",
              "    <tr style=\"text-align: right;\">\n",
              "      <th></th>\n",
              "      <th>pokedex_number</th>\n",
              "      <th>name</th>\n",
              "      <th>attack</th>\n",
              "      <th>defense</th>\n",
              "      <th>height_m</th>\n",
              "      <th>hp</th>\n",
              "      <th>percentage_male</th>\n",
              "      <th>sp_attack</th>\n",
              "      <th>sp_defense</th>\n",
              "      <th>speed</th>\n",
              "      <th>type</th>\n",
              "      <th>weight_kg</th>\n",
              "      <th>generation</th>\n",
              "      <th>is_legendary</th>\n",
              "    </tr>\n",
              "  </thead>\n",
              "  <tbody>\n",
              "    <tr>\n",
              "      <th>382</th>\n",
              "      <td>383</td>\n",
              "      <td>Groudon</td>\n",
              "      <td>180</td>\n",
              "      <td>160</td>\n",
              "      <td>3.5</td>\n",
              "      <td>100</td>\n",
              "      <td>None</td>\n",
              "      <td>150</td>\n",
              "      <td>90</td>\n",
              "      <td>90</td>\n",
              "      <td>ground</td>\n",
              "      <td>950.0</td>\n",
              "      <td>3</td>\n",
              "      <td>1</td>\n",
              "    </tr>\n",
              "    <tr>\n",
              "      <th>482</th>\n",
              "      <td>483</td>\n",
              "      <td>Dialga</td>\n",
              "      <td>120</td>\n",
              "      <td>120</td>\n",
              "      <td>5.4</td>\n",
              "      <td>100</td>\n",
              "      <td>None</td>\n",
              "      <td>150</td>\n",
              "      <td>100</td>\n",
              "      <td>90</td>\n",
              "      <td>steel</td>\n",
              "      <td>683.0</td>\n",
              "      <td>4</td>\n",
              "      <td>1</td>\n",
              "    </tr>\n",
              "    <tr>\n",
              "      <th>486</th>\n",
              "      <td>487</td>\n",
              "      <td>Giratina</td>\n",
              "      <td>120</td>\n",
              "      <td>100</td>\n",
              "      <td>4.5</td>\n",
              "      <td>150</td>\n",
              "      <td>None</td>\n",
              "      <td>120</td>\n",
              "      <td>100</td>\n",
              "      <td>90</td>\n",
              "      <td>ghost</td>\n",
              "      <td>750.0</td>\n",
              "      <td>4</td>\n",
              "      <td>1</td>\n",
              "    </tr>\n",
              "    <tr>\n",
              "      <th>749</th>\n",
              "      <td>750</td>\n",
              "      <td>Mudsdale</td>\n",
              "      <td>125</td>\n",
              "      <td>100</td>\n",
              "      <td>2.5</td>\n",
              "      <td>100</td>\n",
              "      <td>50.0</td>\n",
              "      <td>55</td>\n",
              "      <td>85</td>\n",
              "      <td>35</td>\n",
              "      <td>ground</td>\n",
              "      <td>920.0</td>\n",
              "      <td>7</td>\n",
              "      <td>0</td>\n",
              "    </tr>\n",
              "    <tr>\n",
              "      <th>789</th>\n",
              "      <td>790</td>\n",
              "      <td>Cosmoem</td>\n",
              "      <td>29</td>\n",
              "      <td>131</td>\n",
              "      <td>0.1</td>\n",
              "      <td>43</td>\n",
              "      <td>None</td>\n",
              "      <td>29</td>\n",
              "      <td>131</td>\n",
              "      <td>37</td>\n",
              "      <td>psychic</td>\n",
              "      <td>999.9</td>\n",
              "      <td>7</td>\n",
              "      <td>1</td>\n",
              "    </tr>\n",
              "    <tr>\n",
              "      <th>796</th>\n",
              "      <td>797</td>\n",
              "      <td>Celesteela</td>\n",
              "      <td>101</td>\n",
              "      <td>103</td>\n",
              "      <td>9.2</td>\n",
              "      <td>97</td>\n",
              "      <td>None</td>\n",
              "      <td>107</td>\n",
              "      <td>101</td>\n",
              "      <td>61</td>\n",
              "      <td>steel</td>\n",
              "      <td>999.9</td>\n",
              "      <td>7</td>\n",
              "      <td>1</td>\n",
              "    </tr>\n",
              "    <tr>\n",
              "      <th>798</th>\n",
              "      <td>799</td>\n",
              "      <td>Guzzlord</td>\n",
              "      <td>101</td>\n",
              "      <td>53</td>\n",
              "      <td>5.5</td>\n",
              "      <td>223</td>\n",
              "      <td>None</td>\n",
              "      <td>97</td>\n",
              "      <td>53</td>\n",
              "      <td>43</td>\n",
              "      <td>dark</td>\n",
              "      <td>888.0</td>\n",
              "      <td>7</td>\n",
              "      <td>1</td>\n",
              "    </tr>\n",
              "  </tbody>\n",
              "</table>\n",
              "</div>\n",
              "      <button class=\"colab-df-convert\" onclick=\"convertToInteractive('df-2ba2fbd9-5243-4087-9eea-fdd81e13edb2')\"\n",
              "              title=\"Convert this dataframe to an interactive table.\"\n",
              "              style=\"display:none;\">\n",
              "        \n",
              "  <svg xmlns=\"http://www.w3.org/2000/svg\" height=\"24px\"viewBox=\"0 0 24 24\"\n",
              "       width=\"24px\">\n",
              "    <path d=\"M0 0h24v24H0V0z\" fill=\"none\"/>\n",
              "    <path d=\"M18.56 5.44l.94 2.06.94-2.06 2.06-.94-2.06-.94-.94-2.06-.94 2.06-2.06.94zm-11 1L8.5 8.5l.94-2.06 2.06-.94-2.06-.94L8.5 2.5l-.94 2.06-2.06.94zm10 10l.94 2.06.94-2.06 2.06-.94-2.06-.94-.94-2.06-.94 2.06-2.06.94z\"/><path d=\"M17.41 7.96l-1.37-1.37c-.4-.4-.92-.59-1.43-.59-.52 0-1.04.2-1.43.59L10.3 9.45l-7.72 7.72c-.78.78-.78 2.05 0 2.83L4 21.41c.39.39.9.59 1.41.59.51 0 1.02-.2 1.41-.59l7.78-7.78 2.81-2.81c.8-.78.8-2.07 0-2.86zM5.41 20L4 18.59l7.72-7.72 1.47 1.35L5.41 20z\"/>\n",
              "  </svg>\n",
              "      </button>\n",
              "      \n",
              "  <style>\n",
              "    .colab-df-container {\n",
              "      display:flex;\n",
              "      flex-wrap:wrap;\n",
              "      gap: 12px;\n",
              "    }\n",
              "\n",
              "    .colab-df-convert {\n",
              "      background-color: #E8F0FE;\n",
              "      border: none;\n",
              "      border-radius: 50%;\n",
              "      cursor: pointer;\n",
              "      display: none;\n",
              "      fill: #1967D2;\n",
              "      height: 32px;\n",
              "      padding: 0 0 0 0;\n",
              "      width: 32px;\n",
              "    }\n",
              "\n",
              "    .colab-df-convert:hover {\n",
              "      background-color: #E2EBFA;\n",
              "      box-shadow: 0px 1px 2px rgba(60, 64, 67, 0.3), 0px 1px 3px 1px rgba(60, 64, 67, 0.15);\n",
              "      fill: #174EA6;\n",
              "    }\n",
              "\n",
              "    [theme=dark] .colab-df-convert {\n",
              "      background-color: #3B4455;\n",
              "      fill: #D2E3FC;\n",
              "    }\n",
              "\n",
              "    [theme=dark] .colab-df-convert:hover {\n",
              "      background-color: #434B5C;\n",
              "      box-shadow: 0px 1px 3px 1px rgba(0, 0, 0, 0.15);\n",
              "      filter: drop-shadow(0px 1px 2px rgba(0, 0, 0, 0.3));\n",
              "      fill: #FFFFFF;\n",
              "    }\n",
              "  </style>\n",
              "\n",
              "      <script>\n",
              "        const buttonEl =\n",
              "          document.querySelector('#df-2ba2fbd9-5243-4087-9eea-fdd81e13edb2 button.colab-df-convert');\n",
              "        buttonEl.style.display =\n",
              "          google.colab.kernel.accessAllowed ? 'block' : 'none';\n",
              "\n",
              "        async function convertToInteractive(key) {\n",
              "          const element = document.querySelector('#df-2ba2fbd9-5243-4087-9eea-fdd81e13edb2');\n",
              "          const dataTable =\n",
              "            await google.colab.kernel.invokeFunction('convertToInteractive',\n",
              "                                                     [key], {});\n",
              "          if (!dataTable) return;\n",
              "\n",
              "          const docLinkHtml = 'Like what you see? Visit the ' +\n",
              "            '<a target=\"_blank\" href=https://colab.research.google.com/notebooks/data_table.ipynb>data table notebook</a>'\n",
              "            + ' to learn more about interactive tables.';\n",
              "          element.innerHTML = '';\n",
              "          dataTable['output_type'] = 'display_data';\n",
              "          await google.colab.output.renderOutput(dataTable, element);\n",
              "          const docLink = document.createElement('div');\n",
              "          docLink.innerHTML = docLinkHtml;\n",
              "          element.appendChild(docLink);\n",
              "        }\n",
              "      </script>\n",
              "    </div>\n",
              "  </div>\n",
              "  "
            ],
            "text/plain": [
              "     pokedex_number        name  attack  defense  height_m   hp  \\\n",
              "382             383     Groudon     180      160       3.5  100   \n",
              "482             483      Dialga     120      120       5.4  100   \n",
              "486             487    Giratina     120      100       4.5  150   \n",
              "749             750    Mudsdale     125      100       2.5  100   \n",
              "789             790     Cosmoem      29      131       0.1   43   \n",
              "796             797  Celesteela     101      103       9.2   97   \n",
              "798             799    Guzzlord     101       53       5.5  223   \n",
              "\n",
              "    percentage_male  sp_attack  sp_defense  speed     type  weight_kg  \\\n",
              "382            None        150          90     90   ground      950.0   \n",
              "482            None        150         100     90    steel      683.0   \n",
              "486            None        120         100     90    ghost      750.0   \n",
              "749            50.0         55          85     35   ground      920.0   \n",
              "789            None         29         131     37  psychic      999.9   \n",
              "796            None        107         101     61    steel      999.9   \n",
              "798            None         97          53     43     dark      888.0   \n",
              "\n",
              "     generation  is_legendary  \n",
              "382           3             1  \n",
              "482           4             1  \n",
              "486           4             1  \n",
              "749           7             0  \n",
              "789           7             1  \n",
              "796           7             1  \n",
              "798           7             1  "
            ]
          },
          "execution_count": 10,
          "metadata": {},
          "output_type": "execute_result"
        }
      ],
      "source": [
        "#THE SAME FOR THOSE WHO WEIGHT MORE THAN 600 kg\n",
        "y = df[df['weight_kg']>600]\n",
        "y"
      ]
    },
    {
      "cell_type": "code",
      "execution_count": null,
      "metadata": {
        "colab": {
          "base_uri": "https://localhost:8080/",
          "height": 638
        },
        "dc": {
          "key": "19"
        },
        "id": "rUzljqCwTxxF",
        "outputId": "d60ba352-ca96-49d7-9754-6e4009734ca6",
        "scrolled": true,
        "tags": [
          "sample_code"
        ],
        "vscode": {
          "languageId": "r"
        }
      },
      "outputs": [
        {
          "data": {
            "text/plain": [
              "<matplotlib.legend.Legend at 0x7effb86ffa50>"
            ]
          },
          "execution_count": 11,
          "metadata": {},
          "output_type": "execute_result"
        },
        {
          "data": {
            "image/png": "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",
            "text/plain": [
              "<Figure size 1080x720 with 1 Axes>"
            ]
          },
          "metadata": {
            "needs_background": "light"
          },
          "output_type": "display_data"
        }
      ],
      "source": [
        "#WE CREATE TWO NEW VARIABLES, ONE THAT CONTAINS THE LEGENDARY POKEMON AND OTHER FOR THE NON LEGENDARY\n",
        "legendary = df[df['is_legendary']==True]\n",
        "nolegendary = df[df['is_legendary']==False]\n",
        "\n",
        "#WE STABLISH THE SIZE OF THE FIGURE AND MAKE THE SCATTER PLOT WITH DIFFERENT COLORS AND SIZES TO DISTINGUISH THE\n",
        "#LEGENDARY AND NON-LEGENDARY POKEMONS\n",
        "plt.figure(figsize=(15,10))\n",
        "plt.scatter(legendary['height_m'], legendary['weight_kg'], s=20, color='plum', label = 'Legendary')\n",
        "plt.scatter(nolegendary['height_m'], nolegendary['weight_kg'], s=15, color='olive', alpha=.5, label='No legendary')\n",
        "\n",
        "#IN ORDER TO LABEL THE ONES WE HAVE FILTERED ABOVE, WE USE THE plt.text AND AS THIS COMAND NEEDS NUMBERS AS ARGUMENTS\n",
        "#WE USE IT IN A FOR LOOP THAT GOES OVER x AND y.\n",
        "for i in range(len(x)):\n",
        "    plt.text(x['height_m'].iloc[i]+0.2, x['weight_kg'].iloc[i]+0.2, x['name'].iloc[i])\n",
        "\n",
        "for j in range(len(y)):\n",
        "    plt.text(y['height_m'].iloc[j]+0.2, y['weight_kg'].iloc[j]+0.2, y['name'].iloc[j] )\n",
        "\n",
        "#FOR A BETTER PRESENTATION OF THE GRAPGH WE PRINT THE LABELS FOR THE AXES, A TITLE AND THE LEGEND\n",
        "plt.xlabel(\"Height\")\n",
        "plt.ylabel(\"Weight\")\n",
        "plt.title(\"Relationship between height and weight\")\n",
        "plt.legend()\n"
      ]
    },
    {
      "cell_type": "markdown",
      "metadata": {
        "dc": {
          "key": "26"
        },
        "deletable": false,
        "editable": false,
        "id": "dZgFBtKETxxG",
        "run_control": {
          "frozen": true
        },
        "tags": [
          "context"
        ]
      },
      "source": [
        "## 4. Legendary Pokémon by type\n",
        "<p>It seems that legendary Pokémon are generally taller and heavier, but with many exceptions. For example, Onix (Gen 1), Steelix (Gen 2) and Wailord (Gen 3) are all extremely tall, but none of them have legendary status. There must be other factors at play.</p>\n",
        "<p>We will now look at the effect of a Pokémon's <code>type</code> on its legendary/non-legendary classification. There are 18 possible types, ranging from the common (Grass / Normal / Water) to the rare (Fairy / Flying / Ice). We will calculate the proportion of legendary Pokémon within each category, and then plot these proportions using a simple bar chart.</p>"
      ]
    },
    {
      "cell_type": "code",
      "execution_count": null,
      "metadata": {
        "colab": {
          "base_uri": "https://localhost:8080/",
          "height": 514
        },
        "id": "kBYEM__QTxxG",
        "outputId": "dd474fb7-24ef-4abe-f43d-f434c9ff6a40"
      },
      "outputs": [
        {
          "data": {
            "text/plain": [
              "<matplotlib.axes._subplots.AxesSubplot at 0x7effb869a0d0>"
            ]
          },
          "execution_count": 12,
          "metadata": {},
          "output_type": "execute_result"
        },
        {
          "data": {
            "image/png": "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",
            "text/plain": [
              "<Figure size 1152x576 with 1 Axes>"
            ]
          },
          "metadata": {
            "needs_background": "light"
          },
          "output_type": "display_data"
        }
      ],
      "source": [
        "#WE FIRST DO A BAR CHART WITH THE COMAND COUNTPLOT THAT SHOWS US THE NUMBER OF LEGENDARY POKEMONS OF EACH TYPE,\n",
        "#BECAUSE WE GIVE THE ARGUMENT 'TYPE' TO FILTER BY, AND THE DATA FRAME LEGENDARY THAT ALREADY HAS THE LEGENDARY ONES.\n",
        "plt.figure(figsize=(16,8))\n",
        "sns.countplot(x='type', data=legendary)\n"
      ]
    },
    {
      "cell_type": "code",
      "execution_count": null,
      "metadata": {
        "colab": {
          "base_uri": "https://localhost:8080/",
          "height": 514
        },
        "id": "zik2wOlcTxxG",
        "outputId": "25dd327a-4b87-4204-d662-1d6742785445"
      },
      "outputs": [
        {
          "data": {
            "text/plain": [
              "<matplotlib.axes._subplots.AxesSubplot at 0x7effb8189b50>"
            ]
          },
          "execution_count": 13,
          "metadata": {},
          "output_type": "execute_result"
        },
        {
          "data": {
            "image/png": "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",
            "text/plain": [
              "<Figure size 1152x576 with 1 Axes>"
            ]
          },
          "metadata": {
            "needs_background": "light"
          },
          "output_type": "display_data"
        }
      ],
      "source": [
        "#IN THIS OTHER CHART WE HAVE REPRESENTED BOTH THE LEGENDARY AND NO LEGENDARY POKEMONS BY TYPE...THIS ALREADY GIVES US\n",
        "#A VISUAL INTUITION THAT FLYING AND PSYCHIC ARE THE ONES THAT HAVE MORE PERCENTAGE OF LEGENDARIES OVER THE TOTAL\n",
        "plt.figure(figsize=(16,8))\n",
        "sns.countplot(x='type', hue = 'is_legendary', data=df)"
      ]
    },
    {
      "cell_type": "code",
      "execution_count": null,
      "metadata": {
        "id": "pxffp1tiTxxG"
      },
      "outputs": [],
      "source": [
        "#BUT AS WE WANT THE PERCENTAGE OF LEGENDARY POKEMONS OVER THE TOTAL NUMBER OF EACH TYPE, WE ARE GOING TO COUNT THE\n",
        "#NUMBER OF EACH TYPE IN THE TOTAL DATA FRAME AND IN THE ONE THAT ONLY CONTAINS THE LEGENDARY ONES"
      ]
    },
    {
      "cell_type": "code",
      "execution_count": null,
      "metadata": {
        "colab": {
          "base_uri": "https://localhost:8080/"
        },
        "id": "XbdXgC_lTxxH",
        "outputId": "9c3fdf6f-9bce-4d3c-fb93-c05b46347400"
      },
      "outputs": [
        {
          "data": {
            "text/plain": [
              "water       114\n",
              "normal      105\n",
              "grass        78\n",
              "bug          72\n",
              "psychic      53\n",
              "fire         52\n",
              "rock         45\n",
              "electric     39\n",
              "poison       32\n",
              "ground       32\n",
              "dark         29\n",
              "fighting     28\n",
              "ghost        27\n",
              "dragon       27\n",
              "steel        24\n",
              "ice          23\n",
              "fairy        18\n",
              "flying        3\n",
              "Name: type, dtype: int64"
            ]
          },
          "execution_count": 15,
          "metadata": {},
          "output_type": "execute_result"
        }
      ],
      "source": [
        "total_by_type = df['type'].value_counts()\n",
        "total_by_type"
      ]
    },
    {
      "cell_type": "code",
      "execution_count": null,
      "metadata": {
        "colab": {
          "base_uri": "https://localhost:8080/"
        },
        "dc": {
          "key": "26"
        },
        "id": "-pQ-eCHFTxxH",
        "outputId": "9b1ef668-b53f-4543-8757-3bf1fe69bd19",
        "tags": [],
        "vscode": {
          "languageId": "r"
        }
      },
      "outputs": [
        {
          "data": {
            "text/plain": [
              "psychic     17\n",
              "dragon       7\n",
              "water        6\n",
              "steel        6\n",
              "electric     5\n",
              "fire         5\n",
              "rock         4\n",
              "grass        4\n",
              "normal       3\n",
              "dark         3\n",
              "bug          3\n",
              "ice          2\n",
              "ground       2\n",
              "ghost        1\n",
              "flying       1\n",
              "fairy        1\n",
              "Name: type, dtype: int64"
            ]
          },
          "execution_count": 16,
          "metadata": {},
          "output_type": "execute_result"
        }
      ],
      "source": [
        "legendary_by_type = legendary['type'].value_counts()\n",
        "legendary_by_type"
      ]
    },
    {
      "cell_type": "code",
      "execution_count": null,
      "metadata": {
        "id": "IPxYk3k6TxxH"
      },
      "outputs": [],
      "source": [
        "#AND NOW WE ARE GOING TO CREATE A DATA FRAME THAT MERGES THIS TWO"
      ]
    },
    {
      "cell_type": "code",
      "execution_count": null,
      "metadata": {
        "colab": {
          "base_uri": "https://localhost:8080/",
          "height": 607
        },
        "id": "oAbaRD2VTxxH",
        "outputId": "8307ec30-c381-45c8-cffb-7eff60d64d76"
      },
      "outputs": [
        {
          "data": {
            "text/html": [
              "\n",
              "  <div id=\"df-37206810-f10b-4662-b5e5-7bc20dad2b3c\">\n",
              "    <div class=\"colab-df-container\">\n",
              "      <div>\n",
              "<style scoped>\n",
              "    .dataframe tbody tr th:only-of-type {\n",
              "        vertical-align: middle;\n",
              "    }\n",
              "\n",
              "    .dataframe tbody tr th {\n",
              "        vertical-align: top;\n",
              "    }\n",
              "\n",
              "    .dataframe thead th {\n",
              "        text-align: right;\n",
              "    }\n",
              "</style>\n",
              "<table border=\"1\" class=\"dataframe\">\n",
              "  <thead>\n",
              "    <tr style=\"text-align: right;\">\n",
              "      <th></th>\n",
              "      <th>Total</th>\n",
              "      <th>Legendary</th>\n",
              "    </tr>\n",
              "  </thead>\n",
              "  <tbody>\n",
              "    <tr>\n",
              "      <th>bug</th>\n",
              "      <td>72</td>\n",
              "      <td>3.0</td>\n",
              "    </tr>\n",
              "    <tr>\n",
              "      <th>dark</th>\n",
              "      <td>29</td>\n",
              "      <td>3.0</td>\n",
              "    </tr>\n",
              "    <tr>\n",
              "      <th>dragon</th>\n",
              "      <td>27</td>\n",
              "      <td>7.0</td>\n",
              "    </tr>\n",
              "    <tr>\n",
              "      <th>electric</th>\n",
              "      <td>39</td>\n",
              "      <td>5.0</td>\n",
              "    </tr>\n",
              "    <tr>\n",
              "      <th>fairy</th>\n",
              "      <td>18</td>\n",
              "      <td>1.0</td>\n",
              "    </tr>\n",
              "    <tr>\n",
              "      <th>fighting</th>\n",
              "      <td>28</td>\n",
              "      <td>NaN</td>\n",
              "    </tr>\n",
              "    <tr>\n",
              "      <th>fire</th>\n",
              "      <td>52</td>\n",
              "      <td>5.0</td>\n",
              "    </tr>\n",
              "    <tr>\n",
              "      <th>flying</th>\n",
              "      <td>3</td>\n",
              "      <td>1.0</td>\n",
              "    </tr>\n",
              "    <tr>\n",
              "      <th>ghost</th>\n",
              "      <td>27</td>\n",
              "      <td>1.0</td>\n",
              "    </tr>\n",
              "    <tr>\n",
              "      <th>grass</th>\n",
              "      <td>78</td>\n",
              "      <td>4.0</td>\n",
              "    </tr>\n",
              "    <tr>\n",
              "      <th>ground</th>\n",
              "      <td>32</td>\n",
              "      <td>2.0</td>\n",
              "    </tr>\n",
              "    <tr>\n",
              "      <th>ice</th>\n",
              "      <td>23</td>\n",
              "      <td>2.0</td>\n",
              "    </tr>\n",
              "    <tr>\n",
              "      <th>normal</th>\n",
              "      <td>105</td>\n",
              "      <td>3.0</td>\n",
              "    </tr>\n",
              "    <tr>\n",
              "      <th>poison</th>\n",
              "      <td>32</td>\n",
              "      <td>NaN</td>\n",
              "    </tr>\n",
              "    <tr>\n",
              "      <th>psychic</th>\n",
              "      <td>53</td>\n",
              "      <td>17.0</td>\n",
              "    </tr>\n",
              "    <tr>\n",
              "      <th>rock</th>\n",
              "      <td>45</td>\n",
              "      <td>4.0</td>\n",
              "    </tr>\n",
              "    <tr>\n",
              "      <th>steel</th>\n",
              "      <td>24</td>\n",
              "      <td>6.0</td>\n",
              "    </tr>\n",
              "    <tr>\n",
              "      <th>water</th>\n",
              "      <td>114</td>\n",
              "      <td>6.0</td>\n",
              "    </tr>\n",
              "  </tbody>\n",
              "</table>\n",
              "</div>\n",
              "      <button class=\"colab-df-convert\" onclick=\"convertToInteractive('df-37206810-f10b-4662-b5e5-7bc20dad2b3c')\"\n",
              "              title=\"Convert this dataframe to an interactive table.\"\n",
              "              style=\"display:none;\">\n",
              "        \n",
              "  <svg xmlns=\"http://www.w3.org/2000/svg\" height=\"24px\"viewBox=\"0 0 24 24\"\n",
              "       width=\"24px\">\n",
              "    <path d=\"M0 0h24v24H0V0z\" fill=\"none\"/>\n",
              "    <path d=\"M18.56 5.44l.94 2.06.94-2.06 2.06-.94-2.06-.94-.94-2.06-.94 2.06-2.06.94zm-11 1L8.5 8.5l.94-2.06 2.06-.94-2.06-.94L8.5 2.5l-.94 2.06-2.06.94zm10 10l.94 2.06.94-2.06 2.06-.94-2.06-.94-.94-2.06-.94 2.06-2.06.94z\"/><path d=\"M17.41 7.96l-1.37-1.37c-.4-.4-.92-.59-1.43-.59-.52 0-1.04.2-1.43.59L10.3 9.45l-7.72 7.72c-.78.78-.78 2.05 0 2.83L4 21.41c.39.39.9.59 1.41.59.51 0 1.02-.2 1.41-.59l7.78-7.78 2.81-2.81c.8-.78.8-2.07 0-2.86zM5.41 20L4 18.59l7.72-7.72 1.47 1.35L5.41 20z\"/>\n",
              "  </svg>\n",
              "      </button>\n",
              "      \n",
              "  <style>\n",
              "    .colab-df-container {\n",
              "      display:flex;\n",
              "      flex-wrap:wrap;\n",
              "      gap: 12px;\n",
              "    }\n",
              "\n",
              "    .colab-df-convert {\n",
              "      background-color: #E8F0FE;\n",
              "      border: none;\n",
              "      border-radius: 50%;\n",
              "      cursor: pointer;\n",
              "      display: none;\n",
              "      fill: #1967D2;\n",
              "      height: 32px;\n",
              "      padding: 0 0 0 0;\n",
              "      width: 32px;\n",
              "    }\n",
              "\n",
              "    .colab-df-convert:hover {\n",
              "      background-color: #E2EBFA;\n",
              "      box-shadow: 0px 1px 2px rgba(60, 64, 67, 0.3), 0px 1px 3px 1px rgba(60, 64, 67, 0.15);\n",
              "      fill: #174EA6;\n",
              "    }\n",
              "\n",
              "    [theme=dark] .colab-df-convert {\n",
              "      background-color: #3B4455;\n",
              "      fill: #D2E3FC;\n",
              "    }\n",
              "\n",
              "    [theme=dark] .colab-df-convert:hover {\n",
              "      background-color: #434B5C;\n",
              "      box-shadow: 0px 1px 3px 1px rgba(0, 0, 0, 0.15);\n",
              "      filter: drop-shadow(0px 1px 2px rgba(0, 0, 0, 0.3));\n",
              "      fill: #FFFFFF;\n",
              "    }\n",
              "  </style>\n",
              "\n",
              "      <script>\n",
              "        const buttonEl =\n",
              "          document.querySelector('#df-37206810-f10b-4662-b5e5-7bc20dad2b3c button.colab-df-convert');\n",
              "        buttonEl.style.display =\n",
              "          google.colab.kernel.accessAllowed ? 'block' : 'none';\n",
              "\n",
              "        async function convertToInteractive(key) {\n",
              "          const element = document.querySelector('#df-37206810-f10b-4662-b5e5-7bc20dad2b3c');\n",
              "          const dataTable =\n",
              "            await google.colab.kernel.invokeFunction('convertToInteractive',\n",
              "                                                     [key], {});\n",
              "          if (!dataTable) return;\n",
              "\n",
              "          const docLinkHtml = 'Like what you see? Visit the ' +\n",
              "            '<a target=\"_blank\" href=https://colab.research.google.com/notebooks/data_table.ipynb>data table notebook</a>'\n",
              "            + ' to learn more about interactive tables.';\n",
              "          element.innerHTML = '';\n",
              "          dataTable['output_type'] = 'display_data';\n",
              "          await google.colab.output.renderOutput(dataTable, element);\n",
              "          const docLink = document.createElement('div');\n",
              "          docLink.innerHTML = docLinkHtml;\n",
              "          element.appendChild(docLink);\n",
              "        }\n",
              "      </script>\n",
              "    </div>\n",
              "  </div>\n",
              "  "
            ],
            "text/plain": [
              "          Total  Legendary\n",
              "bug          72        3.0\n",
              "dark         29        3.0\n",
              "dragon       27        7.0\n",
              "electric     39        5.0\n",
              "fairy        18        1.0\n",
              "fighting     28        NaN\n",
              "fire         52        5.0\n",
              "flying        3        1.0\n",
              "ghost        27        1.0\n",
              "grass        78        4.0\n",
              "ground       32        2.0\n",
              "ice          23        2.0\n",
              "normal      105        3.0\n",
              "poison       32        NaN\n",
              "psychic      53       17.0\n",
              "rock         45        4.0\n",
              "steel        24        6.0\n",
              "water       114        6.0"
            ]
          },
          "execution_count": 18,
          "metadata": {},
          "output_type": "execute_result"
        }
      ],
      "source": [
        "by_type = pd.merge(total_by_type, legendary_by_type, how='outer', left_index=True, right_index=True)\n",
        "#LETS CHANGE THE NAME OF THE COLUMNS FOR MAKING IT MORE UNDERSTANDABLE\n",
        "by_type.columns=['Total', 'Legendary']\n",
        "by_type"
      ]
    },
    {
      "cell_type": "code",
      "execution_count": null,
      "metadata": {
        "colab": {
          "base_uri": "https://localhost:8080/",
          "height": 607
        },
        "id": "6SZBjtV7TxxH",
        "outputId": "1b88bd28-3e3a-4291-d47f-2ac255fa3c3f"
      },
      "outputs": [
        {
          "data": {
            "text/html": [
              "\n",
              "  <div id=\"df-e1338afc-524e-4425-8dcc-ed7edb4bed49\">\n",
              "    <div class=\"colab-df-container\">\n",
              "      <div>\n",
              "<style scoped>\n",
              "    .dataframe tbody tr th:only-of-type {\n",
              "        vertical-align: middle;\n",
              "    }\n",
              "\n",
              "    .dataframe tbody tr th {\n",
              "        vertical-align: top;\n",
              "    }\n",
              "\n",
              "    .dataframe thead th {\n",
              "        text-align: right;\n",
              "    }\n",
              "</style>\n",
              "<table border=\"1\" class=\"dataframe\">\n",
              "  <thead>\n",
              "    <tr style=\"text-align: right;\">\n",
              "      <th></th>\n",
              "      <th>Total</th>\n",
              "      <th>Legendary</th>\n",
              "      <th>Percentage</th>\n",
              "    </tr>\n",
              "  </thead>\n",
              "  <tbody>\n",
              "    <tr>\n",
              "      <th>bug</th>\n",
              "      <td>72</td>\n",
              "      <td>3.0</td>\n",
              "      <td>4.166667</td>\n",
              "    </tr>\n",
              "    <tr>\n",
              "      <th>dark</th>\n",
              "      <td>29</td>\n",
              "      <td>3.0</td>\n",
              "      <td>10.344828</td>\n",
              "    </tr>\n",
              "    <tr>\n",
              "      <th>dragon</th>\n",
              "      <td>27</td>\n",
              "      <td>7.0</td>\n",
              "      <td>25.925926</td>\n",
              "    </tr>\n",
              "    <tr>\n",
              "      <th>electric</th>\n",
              "      <td>39</td>\n",
              "      <td>5.0</td>\n",
              "      <td>12.820513</td>\n",
              "    </tr>\n",
              "    <tr>\n",
              "      <th>fairy</th>\n",
              "      <td>18</td>\n",
              "      <td>1.0</td>\n",
              "      <td>5.555556</td>\n",
              "    </tr>\n",
              "    <tr>\n",
              "      <th>fighting</th>\n",
              "      <td>28</td>\n",
              "      <td>0.0</td>\n",
              "      <td>0.000000</td>\n",
              "    </tr>\n",
              "    <tr>\n",
              "      <th>fire</th>\n",
              "      <td>52</td>\n",
              "      <td>5.0</td>\n",
              "      <td>9.615385</td>\n",
              "    </tr>\n",
              "    <tr>\n",
              "      <th>flying</th>\n",
              "      <td>3</td>\n",
              "      <td>1.0</td>\n",
              "      <td>33.333333</td>\n",
              "    </tr>\n",
              "    <tr>\n",
              "      <th>ghost</th>\n",
              "      <td>27</td>\n",
              "      <td>1.0</td>\n",
              "      <td>3.703704</td>\n",
              "    </tr>\n",
              "    <tr>\n",
              "      <th>grass</th>\n",
              "      <td>78</td>\n",
              "      <td>4.0</td>\n",
              "      <td>5.128205</td>\n",
              "    </tr>\n",
              "    <tr>\n",
              "      <th>ground</th>\n",
              "      <td>32</td>\n",
              "      <td>2.0</td>\n",
              "      <td>6.250000</td>\n",
              "    </tr>\n",
              "    <tr>\n",
              "      <th>ice</th>\n",
              "      <td>23</td>\n",
              "      <td>2.0</td>\n",
              "      <td>8.695652</td>\n",
              "    </tr>\n",
              "    <tr>\n",
              "      <th>normal</th>\n",
              "      <td>105</td>\n",
              "      <td>3.0</td>\n",
              "      <td>2.857143</td>\n",
              "    </tr>\n",
              "    <tr>\n",
              "      <th>poison</th>\n",
              "      <td>32</td>\n",
              "      <td>0.0</td>\n",
              "      <td>0.000000</td>\n",
              "    </tr>\n",
              "    <tr>\n",
              "      <th>psychic</th>\n",
              "      <td>53</td>\n",
              "      <td>17.0</td>\n",
              "      <td>32.075472</td>\n",
              "    </tr>\n",
              "    <tr>\n",
              "      <th>rock</th>\n",
              "      <td>45</td>\n",
              "      <td>4.0</td>\n",
              "      <td>8.888889</td>\n",
              "    </tr>\n",
              "    <tr>\n",
              "      <th>steel</th>\n",
              "      <td>24</td>\n",
              "      <td>6.0</td>\n",
              "      <td>25.000000</td>\n",
              "    </tr>\n",
              "    <tr>\n",
              "      <th>water</th>\n",
              "      <td>114</td>\n",
              "      <td>6.0</td>\n",
              "      <td>5.263158</td>\n",
              "    </tr>\n",
              "  </tbody>\n",
              "</table>\n",
              "</div>\n",
              "      <button class=\"colab-df-convert\" onclick=\"convertToInteractive('df-e1338afc-524e-4425-8dcc-ed7edb4bed49')\"\n",
              "              title=\"Convert this dataframe to an interactive table.\"\n",
              "              style=\"display:none;\">\n",
              "        \n",
              "  <svg xmlns=\"http://www.w3.org/2000/svg\" height=\"24px\"viewBox=\"0 0 24 24\"\n",
              "       width=\"24px\">\n",
              "    <path d=\"M0 0h24v24H0V0z\" fill=\"none\"/>\n",
              "    <path d=\"M18.56 5.44l.94 2.06.94-2.06 2.06-.94-2.06-.94-.94-2.06-.94 2.06-2.06.94zm-11 1L8.5 8.5l.94-2.06 2.06-.94-2.06-.94L8.5 2.5l-.94 2.06-2.06.94zm10 10l.94 2.06.94-2.06 2.06-.94-2.06-.94-.94-2.06-.94 2.06-2.06.94z\"/><path d=\"M17.41 7.96l-1.37-1.37c-.4-.4-.92-.59-1.43-.59-.52 0-1.04.2-1.43.59L10.3 9.45l-7.72 7.72c-.78.78-.78 2.05 0 2.83L4 21.41c.39.39.9.59 1.41.59.51 0 1.02-.2 1.41-.59l7.78-7.78 2.81-2.81c.8-.78.8-2.07 0-2.86zM5.41 20L4 18.59l7.72-7.72 1.47 1.35L5.41 20z\"/>\n",
              "  </svg>\n",
              "      </button>\n",
              "      \n",
              "  <style>\n",
              "    .colab-df-container {\n",
              "      display:flex;\n",
              "      flex-wrap:wrap;\n",
              "      gap: 12px;\n",
              "    }\n",
              "\n",
              "    .colab-df-convert {\n",
              "      background-color: #E8F0FE;\n",
              "      border: none;\n",
              "      border-radius: 50%;\n",
              "      cursor: pointer;\n",
              "      display: none;\n",
              "      fill: #1967D2;\n",
              "      height: 32px;\n",
              "      padding: 0 0 0 0;\n",
              "      width: 32px;\n",
              "    }\n",
              "\n",
              "    .colab-df-convert:hover {\n",
              "      background-color: #E2EBFA;\n",
              "      box-shadow: 0px 1px 2px rgba(60, 64, 67, 0.3), 0px 1px 3px 1px rgba(60, 64, 67, 0.15);\n",
              "      fill: #174EA6;\n",
              "    }\n",
              "\n",
              "    [theme=dark] .colab-df-convert {\n",
              "      background-color: #3B4455;\n",
              "      fill: #D2E3FC;\n",
              "    }\n",
              "\n",
              "    [theme=dark] .colab-df-convert:hover {\n",
              "      background-color: #434B5C;\n",
              "      box-shadow: 0px 1px 3px 1px rgba(0, 0, 0, 0.15);\n",
              "      filter: drop-shadow(0px 1px 2px rgba(0, 0, 0, 0.3));\n",
              "      fill: #FFFFFF;\n",
              "    }\n",
              "  </style>\n",
              "\n",
              "      <script>\n",
              "        const buttonEl =\n",
              "          document.querySelector('#df-e1338afc-524e-4425-8dcc-ed7edb4bed49 button.colab-df-convert');\n",
              "        buttonEl.style.display =\n",
              "          google.colab.kernel.accessAllowed ? 'block' : 'none';\n",
              "\n",
              "        async function convertToInteractive(key) {\n",
              "          const element = document.querySelector('#df-e1338afc-524e-4425-8dcc-ed7edb4bed49');\n",
              "          const dataTable =\n",
              "            await google.colab.kernel.invokeFunction('convertToInteractive',\n",
              "                                                     [key], {});\n",
              "          if (!dataTable) return;\n",
              "\n",
              "          const docLinkHtml = 'Like what you see? Visit the ' +\n",
              "            '<a target=\"_blank\" href=https://colab.research.google.com/notebooks/data_table.ipynb>data table notebook</a>'\n",
              "            + ' to learn more about interactive tables.';\n",
              "          element.innerHTML = '';\n",
              "          dataTable['output_type'] = 'display_data';\n",
              "          await google.colab.output.renderOutput(dataTable, element);\n",
              "          const docLink = document.createElement('div');\n",
              "          docLink.innerHTML = docLinkHtml;\n",
              "          element.appendChild(docLink);\n",
              "        }\n",
              "      </script>\n",
              "    </div>\n",
              "  </div>\n",
              "  "
            ],
            "text/plain": [
              "          Total  Legendary  Percentage\n",
              "bug          72        3.0    4.166667\n",
              "dark         29        3.0   10.344828\n",
              "dragon       27        7.0   25.925926\n",
              "electric     39        5.0   12.820513\n",
              "fairy        18        1.0    5.555556\n",
              "fighting     28        0.0    0.000000\n",
              "fire         52        5.0    9.615385\n",
              "flying        3        1.0   33.333333\n",
              "ghost        27        1.0    3.703704\n",
              "grass        78        4.0    5.128205\n",
              "ground       32        2.0    6.250000\n",
              "ice          23        2.0    8.695652\n",
              "normal      105        3.0    2.857143\n",
              "poison       32        0.0    0.000000\n",
              "psychic      53       17.0   32.075472\n",
              "rock         45        4.0    8.888889\n",
              "steel        24        6.0   25.000000\n",
              "water       114        6.0    5.263158"
            ]
          },
          "execution_count": 19,
          "metadata": {},
          "output_type": "execute_result"
        }
      ],
      "source": [
        "#AND LETS CREATE A NEW COLUMN TO THIS DATA FRAME THAT DIVIDES THE LEGENDARY ONES BY THE TOTAL IN ORDER TO GET THE\n",
        "#PERCENTAGE\n",
        "by_type.fillna(0, inplace=True)\n",
        "by_type['Percentage'] = by_type['Legendary']/by_type['Total']*100\n",
        "by_type"
      ]
    },
    {
      "cell_type": "code",
      "execution_count": null,
      "metadata": {
        "id": "8Wf-i40eTxxH"
      },
      "outputs": [],
      "source": [
        "#FOR MAKING OUR PLOT NICER WE FIRST SORT THE DATYFRAME BY THE PERCENTAGE\n",
        "by_type = by_type.sort_values(by=['Percentage'])"
      ]
    },
    {
      "cell_type": "code",
      "execution_count": null,
      "metadata": {
        "colab": {
          "base_uri": "https://localhost:8080/",
          "height": 513
        },
        "id": "BfHX5ZQETxxI",
        "outputId": "ea80c10a-c6a8-47ee-ca1a-442b18d1587d"
      },
      "outputs": [
        {
          "data": {
            "image/png": "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",
            "text/plain": [
              "<Figure size 1152x576 with 1 Axes>"
            ]
          },
          "metadata": {
            "needs_background": "light"
          },
          "output_type": "display_data"
        }
      ],
      "source": [
        "#NOW WE PLOT THE BAR CHART WITH THE PERCENTAGES\n",
        "plt.figure(figsize=(16,8))\n",
        "#FOR THE x AXIS WE USE THE COLUMN PERCENTAGE AND FOR THE y AXIS WE USE THE INDEX OF THE by_type DATAFRAME THAT ARE THE NAMES\n",
        "#AND WE SET HORIZONTAL ORIENTATION TO OUR BAR PLOT\n",
        "sns.barplot(x = by_type['Percentage'], y = by_type.index, orient = 'h',  palette = \"terrain_r\" ,)\n",
        "\n",
        "plt.title('Percentage of legendary by type')\n",
        "plt.ylabel('Type')\n",
        "plt.xlabel('Percentage')\n",
        "plt.grid(color='lightgray', linestyle='--')\n",
        "plt.show()"
      ]
    },
    {
      "cell_type": "markdown",
      "metadata": {
        "dc": {
          "key": "33"
        },
        "deletable": false,
        "editable": false,
        "id": "KVbA0NKuTxxI",
        "run_control": {
          "frozen": true
        },
        "tags": [
          "context"
        ]
      },
      "source": [
        "## 5. Legendary Pokémon by fighter stats\n",
        "<p>There are clear differences between Pokémon types in their relation to legendary status. While more than 30% of flying and psychic Pokémon are legendary, there is no such thing as a legendary poison or fighting Pokémon!</p>\n",
        "<p>Before fitting the model, we will consider the influence of a Pokémon's fighter stats (<code>attack</code>, <code>defense</code>, etc.) on its status. Rather than considering each stat in isolation, we will produce a boxplot for all of them simultaneously using the <code>facet_wrap()</code> function.</p>"
      ]
    },
    {
      "cell_type": "code",
      "execution_count": null,
      "metadata": {
        "colab": {
          "base_uri": "https://localhost:8080/",
          "height": 585
        },
        "dc": {
          "key": "33"
        },
        "id": "6LyhDI_lTxxI",
        "outputId": "06ec03fd-5cf1-40d3-ffea-e1ab08405144",
        "tags": [
          "sample_code"
        ],
        "vscode": {
          "languageId": "r"
        }
      },
      "outputs": [
        {
          "data": {
            "image/png": "iVBORw0KGgoAAAANSUhEUgAABHgAAAI4CAYAAAARel4VAAAABHNCSVQICAgIfAhkiAAAAAlwSFlzAAALEgAACxIB0t1+/AAAADh0RVh0U29mdHdhcmUAbWF0cGxvdGxpYiB2ZXJzaW9uMy4yLjIsIGh0dHA6Ly9tYXRwbG90bGliLm9yZy+WH4yJAAAgAElEQVR4nOzde5idZX3v//c3BAEBCQkph4QwJiDdohZttPozKmiw4LZSQ0VodwwWjW6NClU2EVsB3Va2aMGaLRo8EKcaQInFA0lNkEPTjdqgloNIJekEEwKESTgFAkzm+/vjeQZWwiTkMGvumbXer+uaa9Z9P8+z1mdy5Xpm1nfdh8hMJEmSJEmSNHyNKB1AkiRJkiRJu8YCjyRJkiRJ0jBngUeSJEmSJGmYs8AjSZIkSZI0zFngkSRJkiRJGuYs8EiSJEmSJA1zFnikgiLitIhYWjqHJOnZIuJ/RsR9EfFoRIwpnUeSNDgi4vqIeE/pHFuKiPMi4p9K59DQZYFHalDfzNdHxB4NfV0RMbWh3RERGREjy6SUJG2P+v79eEQ8EhEPRsT/i4j3R8Rz/v0TEbsD/wC8OTP3yczu5ieWpPYWEVPqe/VDEbEuIv4tIl5ZOteOqN8nHN7QPiYiVpXMpPZhgUeqRUQH8DoggbcVDSNJGih/lpn7AocBFwBnA1/fjusOBPYEbm9iNklSLSJeAPwI+BIwGhgHnA88UTKXNJxY4JGe8S7gZ8BlwAyAiOgEJgA/rIfo/y/gxvr8B+u+10TEpIj4aUR0R8QDEfHtiBjV98QRcWhELIiItfU5c/oLEBEXRsTSiNivmT+oJLWbzHwoM38AvBOYEREviYg9IuLzEXF3PRXrKxGxV0S8CLizvvTBiPgpQET8YUQsrj9VvjMiTu57/oi4LCL+b0T8uB4x9POImFQfi4i4KCLuj4iHI+LWiHhJfazfDIP7ryNJQ8KLADJzfmZuyszHM/MnmXkLPL20wb9FxJx6hM9vI+JNfRdHxH4R8fWIWBMRqyPif0fEbg3H/zoi7qhH6/9LRBzWcOy4+vkeqv9Oj62FjIhXRcRN9cjQNXWe59XH+t4n/Ef9PmEGsBA4pG4/GhGHbOs56uc5quH3zX0RcU4/OXaPiPkRcVXjtWpvFnikZ7wL+Hb99acRcWBmTgfupvoEeJ/M/Bzw+vr8UXXfTVS/BD4LHAL8N+BQ4DyA+hfLj4CVQAfVpxGXN75wRIyIiEuBl1FNB3iomT+oJLWrzPwFsIpqxOYFVG8ojgYOp7o/fzIz/xM4qr5kVGa+MSL2BhYD3wH+ADgF+HJEvLjh6U+h+rR5f+Au4DN1/5upfne8CNgPOBnom/LVb4aB/aklaVj4T2BTRMyLiBMiYv9+zvkTYDlwAHAusCAiRtfHLgN6qO6lL6e6974HICJOBM4BpgFjgX8F5tfHDgAWAH9bP+9y4LXbyLkJOLM+9zXAm4APAGRm3/uEP6rfJ8wDTgDuqdv7ZOY923qOiNgXWAIsonpvcThwbWOA+oOAf6Ya3XRyZj65jbxqIxZ4JKr5vlTD96/MzJupbux/ub3XZ+Zdmbk4M5/IzLVU6za8oT78Kqqb81mZuSEzN2Zm48LKu1P9ghlNVUh6bAB+JEnS1t1Ddc+dCZyZmesy8xHg76mKNP15K9CVmd/MzJ7M/BVwFfCOhnO+n5m/yMweqg8Ljq77nwL2Bf4QiMy8IzPXRETsYAZJalmZ+TAwhWq5hEuBtRHxg4g4sOG0+4GLM/OpzLyCarTlf6/PeQtwRv339v3ARTxzP30/8Nn6/ttDda89uh7F8xbg9sz8XmY+BVwM3LuNnDdn5s/q3wVdwFd55u/+7f1Zt/UcbwXuzcwv1O8bHsnMnzdc/gKq4s9y4N2ZuWlHXlutzUVipcoM4CeZ+UDd/k7dd9H2XFz/Uvki1SfC+1IVT9fXhw8FVta/TPpzOPBHwKusvkvSoBhH9TfQ84GbqzoLUI3G3G0r1xwG/ElEPNjQNxLobGg3viF4DNgHIDN/Wg/5/7/AYRGxAPgY1Ro/O5JBklpaZt4BnAbVtFjgn6gKLqfWp6zOzGy4ZCXVB6mHUX1ouqbhfjoC+H39+DDgixHxhYZrg+r3wSEN55GZGRG/Zyvqabz/AEymuoePBG7ekZ/zOZ7jUKrizda8mupnPXWLfwvJETxSPcTxZOANEXFvRNxLNWTyjyLij6g+RWjU34307+v+l2bmC4D/wTNzd38PTIit77p1B/BuYGFEHLlrP40kaVui2o1lHNXQ9seBozJzVP21X2bus5VLfw/c0HBu3zTd/7k9r5uZ/5iZfwy8mGpK1lnAAzuYQZLaRmb+lmra1UsausdFQwWHaq3Me6ju0U8ABzTcT1+QmX3TbX8PvG+Le/hemfn/gDVURRWgWjetsd2PS4DfAkfUf/efwzbW7KH/9w7beo7fAxO38Xw/oVoa4totRjdJFngk4M+p5sG+mGo4/dFU6+j8K9W6PPex+U12LdC7Rd++wKPAQxExjuoP9z6/oPrFcUFE7B0Re0bEZvN6M3M+1Y19Sd+inJKkgRMRL4iIt1KtgfZPmfkfVFMALoqIP6jPGRcRf7qVp/gR8KKImF4vbLl7RLwyIv7bdrz2KyPiT6Laen0DsBHozczeHcwgSS0rqoXsPxoR4+v2oVQjd37WcNofAB+u78HvoPqb/ZrMXENV+PhCfb8fEdUmKH3Tnr4CfDwijqqfe7/6eoAfA0dFxLT6A9kPAwdtI+q+wMPAo/Uooy0L/Vu+d7gPGBObb6Kyref4EXBwRJwR1UL8+0bEnzS+QL0u6HeoijwHbCOr2owFHqmaivXNzLw7M+/t+wLmAH9FVSH/23qV+4/Va+R8Bvi3uu/VVItqvgJ4iOqXxIK+J6/nxf4Z1VSsu6kW93znliHqRdg+Bfw0qi3bJUm77ocR8QjVJ6KfoBoS/+762NlUiyH/LCIeplrUst+RlPX6OG+mWs/hHqrpWP8H2GM7MryAqpCznmo6QTdw4Y5mkKQW9wjVIso/j4gNVIWd24CPNpzzc+AIqhGQnwH+IjP7Fq1/F/A84DdU99vvAQcDZOb3qe7Zl9f32tuoFj+mXqLhHVSL3nfXz/9v28j5Maq1Oh+hurdfscXx84B59fuEk+uRSPOBFXXfIdt6jvr3zXFU7x/uBX4HHLtliMz8NNVo1CUNC02rzYXT9iRJkiRJQ1lEnAa8JzOnlM4iDVWO4JEkSZIkSRrmLPBIkiRJkiQNc07RkiRJkiRJGuYcwSNJkiRJkjTMjSwdYFcdcMAB2dHRUTqGJA1JN9988wOZObZ0joHiPV+S+uf9XpLax9bu+cO+wNPR0cGyZctKx5CkISkiVpbOMJC850tS/wbzfh8RhwLfAg4EEpibmV+st2q+AugAuoCTM3N9RATwReAtwGPAaZn5y229hvd7Sdq6rd3znaIlSZIkaUf0AB/NzBcDrwY+GBEvBmYD12bmEcC1dRvgBOCI+msmcMngR5ak1meBR5IkSdJ2y8w1fSNwMvMR4A5gHHAiMK8+bR7w5/XjE4FvZeVnwKiIOHiQY0tSy7PAI0mSJGmnREQH8HLg58CBmbmmPnQv1RQuqIo/v2+4bFXdt+VzzYyIZRGxbO3atU3LLEmtygKPJEmSpB0WEfsAVwFnZObDjccyM6nW59lumTk3Mydn5uSxY1tmvWhJGjQWeCRJkiTtkIjYnaq48+3MXFB339c39ar+fn/dvxo4tOHy8XWfJGkAWeAR69at4+yzz2bdunWlo0iSmmzZsmVMnTqVX/5ymxvYSNJW1btifR24IzP/oeHQD4AZ9eMZwNUN/e+KyquBhxqmcklqA+vXr+e8887jwQcfLB2lpVngEfPnz+f222/n8ssvLx1FktRkn/rUp+jt7eW8884rHUXS8PVaYDrwxoj4df31FuAC4LiI+B0wtW4DXAOsAO4CLgU+UCCzpIIWLFjAnXfeyVVXXVU6SkuzwNPm1q1bx5IlS8hMFi9e7CgeSWphy5Yt49FHHwXg0UcfdRSPpJ2SmUszMzLzZZl5dP11TWZ2Z+abMvOIzJyamevq8zMzP5iZkzLzpZm5rPTPIGnwrF+/nuuvv57M5IYbbnAUTxNZ4Glz8+fPp7e3F4De3l5H8UhSC/vUpz61WdtRPJIkqdkWLFhAte569Z7TUTzNY4GnzV1//fX09PQA0NPTw3XXXVc4kSSpWfpG72ytLUmSNNCWLl262XvOpUuXFk7UuizwtLljjjmGkSNHAjBy5EiOPfbYwokkSc2yzz77bLMtSZI00KZMmbLZe84pU6YUTtS6LPC0uVNPPZURI6r/BiNGjOCUU04pnEiS1Cyf/OQnN2s7RUuSJDXbtGnTqDbfq95znnTSSYUTta6RpQOorNGjRzN16lQWLlzIcccdx+jRo0tHUmFz585lxYoVRTPcc889ABxyyCHFMkycOJGZM2cWe32pGSZPnsw+++zDo48+yj777MMrXvGK0pEkSVKL23///TnmmGNYsmQJb3jDGxg1alTpSC3LETzi1FNP5aijjnL0joaMjRs3snHjxtIxpJb0yU9+khEjRjh6R5IkDZpp06Zx5JFHOnqnyaJvNevhavLkyblsmTstSq1k9uzZAFxwwQWFkwx/EXFzZk4unWOgeM+XpP55v5ek9rG1e74jeCRJkiRJkoY5CzySJEmSJEnDXFMLPBHxjYi4PyJua+i7IiJ+XX91RcSv6/6OiHi84dhXmplNkiRJkiSpVTR7F63LgDnAt/o6MvOdfY8j4gvAQw3nL8/Mo5ucSZIkSZIkqaU0tcCTmTdGREd/xyIigJOBNzYzgyRJkiRJUqsruQbP64D7MvN3DX0vjIhfRcQNEfG6rV0YETMjYllELFu7dm3zk0qSJEmSJA1hJQs8pwLzG9prgAmZ+XLgb4DvRMQL+rswM+dm5uTMnDx27NhBiCpJkiRJkjR0FSnwRMRIYBpwRV9fZj6Rmd3145uB5cCLSuRrN+vWrePss89m3bp1paNIkiRJkqSd0OxFlrdmKvDbzFzV1xERY4F1mbkpIiYCRwArCuVrK/Pnz+f222/n8ssv5wMf+EDpOJIkSZKkATRv3jy6urqKvf59990HwIEHHlgsA0BHRwczZswomqGZmr1N+nzgJuDIiFgVEafXh05h8+lZAK8Hbqm3Tf8e8P7MdEhJk61bt44lS5aQmSxevNhRPJIkSZKkAbVx40Y2btxYOkbLa/YuWqdupf+0fvquAq5qZh492/z58+nt7QWgt7fXUTySJEmS1GJKj1o5//zzATj33HOL5mh1JRdZ1hBw/fXX09PTA0BPTw/XXXdd4USSJEkayiLiGxFxf0Tc1tB3RUT8uv7qqkflExEdEfF4w7GvlEveXtavX895553Hgw8+WDqKpEFigafNHXPMMYwYUf03GDFiBMcee2zhRJIkSRriLgOOb+zIzHdm5tGZeTTVqPwFDYeX9x3LzPcPYs62tmDBAu68806uuspJElK7sMDT5k499dTNpmidcsophRNJkiRpKMvMG4F+F26MiABO5tnrbWoQrV+/nuuvv57M5IYbbnAUj9QmLPC0uZUrV27WvvvuuwslkSRJUgt4HXBfZv6uoe+FEfGriLghIl5XKlg7WbBgAZkJVB/iOopHag8WeNrc3//932+zLUmSJO2AU9l89M4aYEJmvhz4G+A7EfGC/i6MiJkRsSwilq1du3YQoraupUuXbrbO5tKlSwsnkjQYLPC0uccee2yz9oYNGwolkSRJ0nAWESOBacAVfX2Z+URmdtePbwaWAy/q7/rMnJuZkzNz8tixYwcjcsuaMmUKu+22GwC77bYbU6ZMKZxI0mCwwCNJkqQiuru7OeOMM1i3rt/lXDT8TAV+m5mr+joiYmxE7FY/nggcAawolK9tTJs27el1NjOTk046qXAiSYPBAk+be+UrX7lZ+1WvelWhJJKGs4g4NCKui4jfRMTtEfGRun90RCyOiN/V3/ev+yMi/jEi7oqIWyLiFWV/AkkldHZ2cuutt9LZ2Vk6inZARMwHbgKOjIhVEXF6fegUnr248uuBW+pt078HvD8zregNgmq9a0ntxAJPm/vwhz+8WftDH/pQoSSShrke4KOZ+WLg1cAHI+LFwGzg2sw8Ari2bgOcQPUp7hHATOCSwY8sqaTu7m4WLVpEZrJw4UJH8QwjmXlqZh6cmbtn5vjM/Hrdf1pmfmWLc6/KzKPqLdJfkZk/LJO6vSxYsODpAk9EuMiy1CYs8LS5LbdMdAtFSTsjM9dk5i/rx48AdwDjgBOBefVp84A/rx+fCHwrKz8DRkXEwYMcW1JBnZ2dT08h6e3tdRSPNICWLl3Kpk2bANi0aZOLLEttwgJPm7vwwgs3a3/+858vlERSq4iIDuDlwM+BAzNzTX3oXuDA+vE44PcNl62q+/p7PndVkVrQkiVLNtvlZ/HixYUTSa1jypQpjBw5EoCRI0e6yLLUJizwtLm77757s/bKlSsLJZHUCiJiH+Aq4IzMfLjxWGYmkDv6nO6qIrWmqVOnbvYG9LjjjiucSGod06ZNo/q1W3GRZak9WOBpcxMmTNisfdhhhxVKImm4i4jdqYo7387MBXX3fX1Tr+rv99f9q4FDGy4fX/dJahPTp09nxIjqT9ERI0Ywffr0womk1rH//vuz5557ArDHHnswatSowokkDQYLPG3urLPO2qz9sY99rFASScNZVCs5fh24IzP/oeHQD4AZ9eMZwNUN/e+qd9N6NfBQw1QuSW1gzJgxHH/88UQEJ5xwAqNHjy4dSWoZXV1dbNiwAYANGzY4Sl9qExZ42tzEiROfHsVz2GGHMXHixMKJJA1TrwWmA2+MiF/XX28BLgCOi4jfAVPrNsA1wArgLuBS4AMFMksqbPr06bz0pS919I40wObMmbNZ+0tf+lKhJJIG08jSAVTeWWedxdlnn+3oHUk7LTOXArGVw2/q5/wEPtjUUJKGvDFjxnDxxReXjiG1nFWrVm2zLak1WeApbO7cuaxYsaJohnvuuYe99tqLuXPnFs0xceJEZs6cWTSDJEmSNNyNHz9+s6LO+PHjC6aRNFicoiU2btzIxo0bS8eQJEmSNABmzZq1WftDH/pQoSSSBpMjeAobCiNWZs+eDcAFF1zwHGdKkiRJGuo6OjrYe++92bBhA3vvvbc75UptoqkjeCLiGxFxf0Tc1tB3XkSs3mIRzr5jH4+IuyLizoj402ZmkyRJkqRWtH79+qdH6D/xxBM8+OCDhRNJGgzNnqJ1GXB8P/0XZebR9dc1ABHxYuAU4Kj6mi9HxG5NzidJUlvp7u7mjDPOYN26daWjSJKaZMGCBUQ8s/fBVVddVTCNpMHS1AJPZt4IbO9fkCcCl2fmE5n5X1Rb576qaeEkSWpDnZ2d3HrrrXR2dpaOIklqkqVLl9LT0wNAT08PS5cuLZxI0mAotcjyrIi4pZ7CtX/dNw74fcM5q+q+Z4mImRGxLCKWrV27ttlZJUlqCd3d3SxatIjMZOHChY7ikaQWNWXKFEaOrJZbHTlyJFOmTCmcSNJgKFHguQSYBBwNrAG+sKNPkJlzM3NyZk4eO3bsQOeTJKkldXZ20tvbC0Bvb6+jeCSpRU2bNu3pKVojRozgpJNOKpxI0mAY9AJPZt6XmZsysxe4lGemYa0GDm04dXzdJ0mSBsCSJUs2G7K/ePHiwokkSc2w//7785rXvAaAV7/61YwaNapwIkmDYdALPBFxcEPz7UDfDls/AE6JiD0i4oXAEcAvBjufJEmtaurUqZu1jzvuuEJJJEmDpXGxZUmtrdnbpM8HbgKOjIhVEXE68LmIuDUibgGOBc4EyMzbgSuB3wCLgA9m5qZm5pMkqZ1suQbD6173ukJJJEnNtH79em666SYAbrrpJrdJl9pEs3fROjUzD87M3TNzfGZ+PTOnZ+ZLM/Nlmfm2zFzTcP5nMnNSZh6ZmQubmU2SpHbz5S9/ebP2nDlzCiWRJDXTggULnl5zbdOmTW6TLrWJUrtoSZKkQdbV1bXNtiRtj3on3Psj4raGvvMiYnVE/Lr+ekvDsY9HxF0RcWdE/GmZ1O1l6dKlbNpUTYbYtGmT26RLbcICjyRJbaKjo2ObbUnaTpcBx/fTf1FmHl1/XQMQES8GTgGOqq/5ckTsNmhJ29QrX/nKbbYltSYLPJIktYlzzjlns/YnPvGJQkkkDWeZeSOwbjtPPxG4PDOfyMz/Au7imV10NUhcaFlqDxZ4JElqE4cffvjTo3Y6OjqYNGlS2UCSWs2siLilnsK1f903Dvh9wzmr6r5niYiZEbEsIpatXbu22Vlb2r//+79v1v7FL9ycWGoHFngkSWoj55xzDnvvvbejdyQNtEuAScDRwBrgCzv6BJk5NzMnZ+bksWPHDnS+tjJlyhR2262aCbfbbrs9axdFSa3JAo8kSW3k8MMP54c//KGjdyQNqMy8LzM3ZWYvcCnPTMNaDRzacOr4uk9NNG3aNEaMqN7q7bbbbpx00kmFE0kaDBZ4JEmSJO2SiDi4ofl2oG+HrR8Ap0TEHhHxQuAIwPlCTbb//vtzzDHHEBG84Q1vYNSoUaUjSRoEFngkSWoj3d3dnHHGGaxbt73ro0rS5iJiPnATcGRErIqI04HPRcStEXELcCxwJkBm3g5cCfwGWAR8MDM3FYreVqZNm8aRRx7p6B2pjYwsHUCSJA2ezs5Obr31Vjo7O/nIRz5SOo6kYSgzT+2n++vbOP8zwGeal2jomTdvHl1dXUUz3HfffQB88YtfLJqjo6ODGTNmFM0gtQtH8EiS1Ca6u7tZtGgRmcnChQsdxSNJLWzjxo1s3LixdAxJg8gRPJIktYnOzk56e3sB6O3tdRSPJDXJUBixcv755wNw7rnnFk4iabA4gkeSpDaxZMkSenp6AOjp6WHx4sWFE0mSJGmgWOCRJKlNTJ06lZEjq8G7I0eO5LjjjiucSJIkSQPFAo8kSW1i+vTpjBhR/eofMWIE06dPL5xIkiRJA8UCjyRJbWLMmDEcc8wxABx77LGMHj26bCC1ve7ubs444wwX/JYkaQBY4JEkSVIRnZ2d3HrrrXR2dpaOIknSsOcuWtIQMnfuXFasWFE6RnF9/wazZ88unKSsiRMnMnPmzNIx1EK6u7u5/vrrAbjuuut473vf6ygeFdPd3c2iRYvITBYuXMj06dP9/yhJ0i6wwCMNIStWrOCW39wJe48pHaWspxKAW1Y+UDhIQRu6SydQC3KbdA0l/n+UJGlgWeCRhpq9x5AveWvpFCosbvtR6QhqQf1tk+4bapXi/0dJkgZWU9fgiYhvRMT9EXFbQ9+FEfHbiLglIr4fEaPq/o6IeDwifl1/faWZ2SRJajduk66hxP+PkiQNrGYvsnwZcPwWfYuBl2Tmy4D/BD7ecGx5Zh5df72/ydkkSWorbpOuocT/j5IkDaymFngy80Zg3RZ9P8nMnrr5M2B8MzNIkqSK26RrKBkzZgzHH388EcEJJ5zg/0dJknZR6W3S/xpY2NB+YUT8KiJuiIjXbe2iiJgZEcsiYtnatWubn1KSJEkDbvr06bz0pS919I4kSQOg2CLLEfEJoAf4dt21BpiQmd0R8cfAP0fEUZn58JbXZuZcYC7A5MmTc7AyS5I0nHV3d/PTn/4UgGuvvdZt0lXcmDFjuPjii0vHkKSmmjdvHl1dXaVjFLVy5UoAzj///MJJyuvo6GDGjBlNee4iBZ6IOA14K/CmzEyAzHwCeKJ+fHNELAdeBCwrkVGStGMi4htU9/b7M/Mldd95wHuBvuGW52TmNfWxjwOnA5uAD2fmvwx66DbT2dm52a5FbkstSVLzdXV1cedv72KP5+1XOkoxT/b0AtC1or1n4Dzx5ENNff5BL/BExPHA/wLekJmPNfSPBdZl5qaImAgcAawY7HySpJ12GTAH+NYW/Rdl5ucbOyLixcApwFHAIcCSiHhRZm4ajKDtatGiRZu1Fy5caIFHkqRBsMfz9uOwg99QOoYKW7nmhqY+f1MLPBExHzgGOCAiVgHnUu2atQewOCIAflbvmPV64FMR8RTQC7w/M9f1+8SSpCEnM2+MiI7tPP1E4PJ69OZ/RcRdwKuAm5oUT8BTTz21zbbay5w5c1i+fHnRDKtXrwZg3LhxRXNMmjSJWbNmFc0gSdKuamqBJzNP7af761s59yrgqmbmkSQVMSsi3kU15fajmbkeGEe1k2KfVXXfs0TETGAmwIQJE5octbXVs6K32pYG2+OPP146giRJLaPYIsuSpLZwCfBpIOvvX6DaQXG7ubD+wBk5cuTTa/D0tdW+hsKIlTPPPBOAiy66qHAS7YitrLl2IfBnwJPAcuDdmflgPbLzDuDO+vK+0fuSpAFWept0SVILy8z7MnNTZvYCl1JNwwJYDRzacOr4uk9NdNppp23WPv3008sEkTTcXQYcv0XfYuAlmfky4D+plmXoszwzj66/LO5IUpNY4JEkNU1EHNzQfDtwW/34B8ApEbFHRLyQamH9Xwx2vnazZMmSzdr/8i9uXCZpx2XmjcC6Lfp+kpl9QwR/RlW4lyQNIsdmS5IGxFYW1j8mIo6mmqLVBbwPIDNvj4grgd8APcAH3UGr+bq6urbZlqQB8tfAFQ3tF0bEr4CHgb/NzH/t7yLXXJOkXWOBR5I0IHZkYf36/M8An2leIm2po6Njs6JOR0dHsSySWlNEfIKqcP/tumsNMCEzuyPij4F/joijMvPhLa91zTVJ2jVO0ZIkqU2cc845m7U/8YlPFEoiqRVFxGlUiy//Vdbb9GXmE5nZXT++mWoB5hcVCylJLcwCjyRJbeIXv9h8maNly5YVSiKp1UTE8cD/At6WmY819I+NiN3qxxOp1lxbUSalJLU2CzySJLWJr33ta5u1v/rVrxZKImkoqKdMbdn31u24bj5wE3BkRKyKiNOBOcC+wOKI+HVEfKU+/fXALRHxa+B7wPszc12/TyxJ2iWuwSNJkiS1p0sj4l2ZeRtARJwKnAH8aFsX7ciaa5l5FXDVrgaVJD03CzySJElSe/oL4HsR8ZfA64B3AW8uG0mStLOcoiVJUpt4z3ves1n7fe97X6EkkoaCzFwBnAIsAE4C3pyZD1JTZbgAACAASURBVJVNJUnaWRZ4JEnPEhFTIuLd9eOxEfHC0pm06/7yL/9ys/Y73/nOQkkklRQRt0bELRFxC9W6OKOBFwI/r/skScOQU7QkSZuJiHOBycCRwDeB3YF/Al5bMlcrmDNnDsuXLy+aYa+99uLxxx/noIMO4swzzyyWY9KkScyaNavY60tt7jkXUpYkDT+O4JEkbentwNuADQCZeQ/VzihqASNGjGDvvffmwAMPLB1FUiGZuTIzVwIHA+sa2uuBg8qmkyTtLEfwSJK29GRmZkQkQETsXTpQqxgKI1b6Ru1cdNFFhZNIGgIuAV7R0H60nz5Ju+jee+/liScfYeWaG0pHUWFPPPkg9967qWnPv90jeCIi+unbY2DjSJKGgCsj4qvAqIh4L7AEuLRwJknSwIvMzL5GZvbiB8CSNGztyA3868Bf9zUiYh/gauBNAx1KklROZn4+Io4DHqZah+eTmbm4cCxJ0sBbEREfphq1A/ABYEXBPFJLOuigg9j42G4cdvAbSkdRYSvX3MBBB41t2vPvSIFnVUR8OTM/EBH7Az/GT3SlAXXPPffAhkeI235UOopK29DNPfc8WeSl6ylZP83MxRFxJHBkROyemU8VCSRJapb3A/8I/C2QwLXAzKKJJEk7bbsLPJn5yYj4XER8Bfhj4ILMvKp50SRJhdwIvK4u5i8ClgHvBP6qaCpJ0oDKzPuBU0rnkCQNjOcs8ETEtIbmz4G/A34BZERMy8wF27j2G1TbMN6fmS+p+0YDVwAdQBdwcmaur9f4+SLwFuAx4LTM/OXO/FDScHXIIYfwwFMPkC9x99J2F7f9iEMOOaDYy2fmYxFxOnBJZn4uIn5dKowkqTkiYk/gdOAoYM++/sz8661eJEkasrZnkeU/a/h6K/ArYPeG9rZcBhy/Rd9s4NrMPIJqGOjsuv8E4Ij6aybPzAWWJA2uiIjXUI3Y+XHdt1vBPJKk5uik2hb9T4EbgPHAI0UTSZJ22nOO4MnMd+/sk2fmjRHRsUX3icAx9eN5wPXA2XX/t+qV/H8WEaMi4uDMXLOzry9J2ikfAT4OfD8zb4+IicB1hTNJkgbe4Zn5jog4MTPnRcR3gH8tHUqStHN2ZJv0eRExqqG9fz0Fa0cd2FC0uRc4sH48Dvh9w3mr6j5J0iDKzBsz822Z+X/q9orM/HDpXJKkAde3eP6DEfESYD/gDwrmkSTtgh3ZRetlmflgX6NeN+flu/LimZkRkTt6XUTMpF7hf8KECbsSQZK0hYh4EfAxqrXSnv49kZlvLJVJktQUc+sF9f8W+AGwD9V6m5KkYWhHCjwjImL/zFwPTy+WvCPX97mvb+pVRBwM3F/3rwYObThvfN33LJk5F5gLMHny5B0uEEmStum7wFeArwGbCmeRJDXPtfXf9jcCEwEi4oVlI0mSdtaOFGi+ANwUEd8FAvgL4DM78Zo/AGYAF9Tfr27onxURlwN/Ajzk+juSVERPZrrQvSS1vquAV2zR9z3gjwtkkSTtou0u8GTmtyLiZuDYumtaZv5mW9dExHyqBZUPiIhVwLlUhZ0r6+13VwIn16dfQ7VF+l1U26Tv9OLOkqRd8sOI+ADwfeCJvs7MXFcukiRpoETEH1Jtjb5fRExrOPQCGrZLlyQNLzs0xareTWUt9Y0/IiZk5t3bOP/UrRx6Uz/nJvDBHckzEObOncuKFSsG+2WHlL6ff/bs2c9xZuubOHEiM2fOLB1DKm1G/f2shr6kHr4vSRr2jgTeCowC/qyh/xHgvc91cb3RyluB+zPzJXXfaOAKqvXbuoCT6zU7A/gi1Qe5jwGnZeYvB+wnkSQ9bbsLPBHxNqppWodQrZtzGHAHVfV/2FqxYgV3/u4uDjiojTfsGlH9N+h+5PHCQcp64N5+l3yS2k5muv6CJLWwzLwauDoiXp+ZNzYei4jXbsdTXAbMAb7V0Debak2fCyJidt0+GzgBOKL++hPgkvq7JGmA7cgInk8DrwaWZObLI+JY4H80J9bgOuCgcZz4njNKx1BhV3/t4tIRpCEhIp4P/A0wITNnRsQRwJGZ+aPC0SRJA+tinr0Gz5f66dtMZt4YER1bdJ9ItTQDwDzgeqoCz4nAt+rR+j+LiFF9G67sUnJJ0rPsSIHnqczsjogRETEiM6+LCN8RS1Lr+SZwM/D/1e3VVDtrWeCRBsicOXNYvnx56RjF3XXXXQCceeaZhZOUN2nSJGbNmjUorxURr6G6x4+NiL9pOPQCYLedfNoDG4o29wIH1o/HAb9vOG9V3WeBR5IG2I4UeB6MiH2otlH8dkTcD2xoTixJUkGTMvOdEXEqQGY+Vq+hIGmALF++nP/4zS2w3+6lo5S1qQeA/1h9R+EghT301GC/4vOAfajeC+zb0P8w1U65uyQzMyJyR6+LiJnATIAJEybsagxJajs7UuA5EXgcOBP4K2A/4PxmhJIkFfVkROxFtbAyETGJht20JA2Q/XZnt9cfUDqFhoBNNz4wqK+XmTcAN0TEZZm5coCe9r6+qVcRcTDVmp1QjQI9tOG88XVff7nmAnMBJk+evMMFIklqdztS4PlkZp4N9FLNqyUi/g/V3FpJA2VDN3Fbm8+E2fhQ9X3P/crmKGlDN1Dsjd+5wCLg0Ij4NvBa4LRSYSRJTfNYRFxItWnK09ujZ+Ybd+K5fkC1C+MF9ferG/pnRcTlVIsrP+T6O5LUHDtS4DmOZxdzTuinT9JOmjjRXagBVqx4GICJh7XzJ9sHDPr/h4h4bWb+G9VU3GlUC+sH8JHMHNyPlyVJg+HbVFubvxV4P1VhZu1zXRQR86kWVD4gIlZRfTBwAXBlRJwOrAROrk+/hmqL9Luotkl/98D+CJKkPs9Z4ImI/wl8AJgUEbc0HNoX+H/NCia1o5kzZ5aOMCTMnj0bgAsuuKBwkrbzj8AfAzdl5iuAHxfOI0lqrjGZ+fWI+EjDtK1/f66LMvPUrRx6Uz/nJvDBXcwpSdoO2zOC5zvAQuCzwOyG/kcyc11TUkmSSngqIuYC4yPiH7c8mJkfLpBJktQ8fas7r4mI/w7cA4wumEeStAues8CTmQ8BD0VEz5aLsEVEZ2ZOb1o6SdJgeiswFfhTqm3SJUmt7X9HxH7AR4EvUW2T7p71kjRM7cgaPEc1NiJiJNVQfklSC6jX2bk8Iu7IzP8onUeS1FyZ2berw0PAsVsej4iPZ+ZnBzeV1JqeePIhVq65oXSMYp7seRSA543cp3CSsp548iFgbNOef3vW4Pk4cA6wV0Q83HDoKeptDCVJLeXxiLgWODAzXxIRLwPelpn/u3QwSdKgegfVMg2SdkFHR0fpCMWtXPkYAIcd1rzixvAwtqn/H7ZnitZngc9GxGeBzwEv4pltFLNpySRJpVwKnAV8FSAzb4mI7wAWeCSpvUTpAFIrmDFjRukIxZ1//vkAnHvuuYWTtLYRO3DuCqqtcxcB5zV8lyS1ludn5i+26Ot5rosi4hsRcX9E3NbQNzoiFkfE7+rv+9f9ERH/GBF3RcQtEfGKAf4ZJEm7zg9zJWkY2ZECz4eBVwIrM/NY4OXAg01JJUkq6YGImET9h31E/AWwZjuuuww4fou+2cC1mXkEcC3P7MZ4AnBE/TUTuGTXY0uSBpgjeCRpGNmRRZY3ZubGiCAi9sjM30bEkU1LJkkq5YNUa6z9YUSsBv4L+Kvnuigzb4yIji26TwSOqR/PA64Hzq77v5WZCfwsIkZFxMGZuT2FJGnYW716NTz4FJtufKB0FA0FDz7FalaXTtGf75YOIEnafjtS4FkVEaOAfwYWR8R6YOVzXCNJGiYi4m8amtcA11GN9NwAnAT8w0487YENRZt7gQPrx+OA3zect6rue1aBJyJmUo3yYcKECTsRQZLUn4iYCHwReA3QC9wEnJmZKwAy8+8LxpMk7aDtLvBk5tvrh+dFxHXAflTr8EiSWsO+9fcjqabkXk01PH86sOWaPDssMzMidng9h8ycS71r4+TJk10PQi1h3LhxPMDD7Pb6A0pH0RCw6cYHGDduXImX/g7wf4G+v/NPAeYDf1IijCRp1+zICJ6nZeYNAx1EklRWZp4PEBE3Aq/IzEfq9nnAj3fyae/rm3oVEQcD99f9q4FDG84bX/dJkgbP8zOzs6H9TxFxVrE0A2TevHl0dXWVjlHcypXVZIu+3YvaWUdHhztZqS3sVIFHktTSDgSebGg/yTNTq3bUD4AZwAX196sb+mdFxOVUnxQ/5Po7kjToFkbEbOByqoX13wlcExGjATJzXclwO6urq4sVK/6LsWMPLh2lqBEjqrd6jzyysXCSstau9c8LtY8iBZ56ceYrGromAp8ERgHvBdbW/edk5jWDHE+S2t23gF9ExPfr9p9T7ZC1TRExn2pB5QMiYhVwLlVh58qIOJ1q3baT69OvAd4C3AU8Brx7APNLkrZP3z35fTyzJXpQTdVKqr/Rh6WxYw/m5HfOLB1DQ8CVV8wtHUEaNEUKPJl5J3A0QETsRjUs//tUf+BflJmfL5FLkgSZ+ZmIWAi8ru56d2b+ajuuO3Urh97Uz7lJtVuXJKmcs4FFmflwRPwd8Arg05n5y8K5JEk7YShM0XoTsDwzV0ZE6SySJKD+494/8CWptf1tZl4ZEVOANwKfBy7BRZYlaVgaUToAz6zW32dWRNwSEd+IiP37uyAiZkbEsohYtnbt2v5OkSRJkrRtm+rv/x24NDN/DDyvYB5J0i4oWuCJiOcBbwO+W3ddAkyimr61BvhCf9dl5tzMnJyZk8eOHTsoWSVJkqQWszoivsoziyvvwdD4AFiStBNKT9E6AfhlZt4H0PcdICIuBX5UKpgkSVJTPfQUm258oHSKsh7tqb7vU/pP0sIeegrGFXnlk4Hjgc9n5oMRcTAw7LdJl6R2Vfq36ak0TM+KiIMbtsl9O3BbkVSSJElNNGnSpNIRhoS77roLgMPHHV44SWHjyvyfyMzHgAUN7TVUo+glScNQsQJPROwNHEe1LWOfz0XE0VTbMnZtcUySJKklzJo1q3SEIeHMM88E4KKLLiqcRAMhIo4Ermjomgh8EhgFvBfoWzzznMy8ZpDjSVLLK1bgycwNwJgt+qYPdo577rmHRx7dwNVfu3iwX1pDzANrVvHEI3uXjiFJkjQsZeadVGtpEhG7AauB7wPvBi7KzM8XjCdJLa/0FC1JkgbFnDlzWL58eekYxfVNiekbOdGuJk2a5CgaqbneBCzPzJURUTqLJLWFti/wHHLIIXQ/8jgnvueM0lFU2NVfu5gx++5VOoakJlm+fDm//c87GDu+vXdfjN2r792Pte/ivmtXrX3ukyTtqlNoWGsTmBUR7wKWAR/NzPVbXhARM4GZABMmTBiUkJLUStq+wCNJah9jx4/l5DOnlY6hwq68aMFznyRpp0XE84C3AR+vuy4BPk21zuangS8Af73ldZk5F5gLMHny5ByUsJLUQkaUDiBJkiSppZwA/DIz7wPIzPsyc1Nm9gKXAq8qmk6SWpQFHkmSJEkD6VQapmdFxMENx94O3DboiSSpDThFS5IkSdKAiIi9geOA9zV0fy4ijqaaotW1xTFJ0gCxwCNJkiRpQGTmBmDMFn3TC8WRpLbiFC1JkiRJkqRhzgKPJEmSJEnSMGeBR5IkSZIkaZizwCNJkiRJkjTMWeCRJEmSJEka5izwSJIkSZIkDXMWeCRJkiRJkoY5CzySJEmSJEnD3MjSASRJkiRpoNx7771s2PA4V14xt3QUDQH337+GDRv2Kh1DGhSO4JEkSZIkSRrmHMEjSZIkqWUcdNBBPPLIRk5+58zSUTQEXHnFXPbdd8/SMaRBYYEHeODe1Vz9tYtLxyjmoe61AOw3ZmzhJGU9cO9qxux7eOkYkppk9erVPLzhYa68aEHpKCrs/lVr2bj3E6VjSJIkDahiBZ6I6AIeATYBPZk5OSJGA1cAHUAXcHJmrm9mjokTJzbz6YeFh9b2ADBm3/aemzpm38P9/yBJkiRJGpZKj+A5NjMfaGjPBq7NzAsiYnbdPruZAWbOdOjm7NmzAbjgggsKJ5Gk5hk3bhx7PrYHJ585rXQUFXblRQsY8/wDSseQJEkaUKULPFs6ETimfjwPuJ4mF3gkbW7u3LmsWLGiaIa+1+8rPpYwceJEC8CSJEmSho2Su2gl8JOIuDki+t5FHZiZa+rH9wIH9ndhRMyMiGURsWzt2rWDkVXSINpzzz3Zc08Xw5MkSZKk7VVyBM+UzFwdEX8ALI6I3zYezMyMiOzvwsycC8wFmDx5cr/nSNo5jlqRJEmSpOGn2AiezFxdf78f+D7wKuC+iDgYoP5+f6l8kiRJkiRJw0WRAk9E7B0R+/Y9Bt4M3Ab8AJhRnzYDuLpEPkmSJEmSpOGk1BStA4HvR0Rfhu9k5qKI+Hfgyog4HVgJnFwonyRJkqQdFBFdwCPAJqAnMydHxGjgCqAD6AJOzsz1pTJKUqsqUuDJzBXAH/XT3w28afATSZIkSRogx2bmAw3t2cC1mXlBRMyu2+6UK0kDbKhtky5JkiSptZwIHFM/ngdcjwUeaVDNmzePrq6uYq+/cuVKAM4///xiGQA6OjqYMWPGc584TFngkSQ1nUP2paFnzpw5LF++vGiGu+66C4AzzzyzaI5JkyYxa9asohlaSAI/qXfD/Wq9++2BmbmmPn4v1XINzxIRM4GZABMmTBiMrJIGyZ577lk6QluwwCNJGiwO2Ze0mb322qt0BA28KZm5OiL+AFgcEb9tPJiZWRd/nqUuBs0FmDx5cr/nSNo5rTxqRc+wwCNJKmXQh+yvXbWWKy9a0MyXGPIeXPsgAKPGjiqcpJy1q9Yy5kUHlI5R3FAYsdLd3c2nP/1p/u7v/o7Ro0eXjqMBkJmr6+/3R8T3gVcB90XEwZm5JiIOBu4vGlKSWpQFHknSYCg+ZH/SpEk7fW0rWf9UVeAZ8/z2LXCMedEB/n8YIjo7O7n11lvp7OzkIx/5SOk42kURsTcwIjMfqR+/GfgU8ANgBnBB/f3qciklqXVZ4JEkDYbiQ/aHwmiFoaBvrZOLLrqocBK1u+7ubhYtWkRmsnDhQqZPn+4onuHvQOD7EQHV+4zvZOaiiPh34MqIOB1YCZzc7CBr167hyivmNvtlhrQHH+wGYNSoMYWTlLV27Rr23feFpWNIg8ICjySp6RyyL2lLnZ2d9Pb2AtDb2+sonhaQmSuAP+qnvxt402Dl6OjoGKyXGtLWresBYN9923tx2333faH/J9Q2LPBIkprKIfuS+rNkyRJ6eqo3oD09PSxevNgCjwaEi8lW+rajPvfccwsnkTRYRpQOIElqeQcCSyPiP4BfAD/OzEVUhZ3jIuJ3wNS6LalNTJ06lZEjq88aR44cyXHHHVc4kSRJw5sjeCRJTTVUhuxLGlqmT5/OokWLABgxYgTTp08vnEiSpOHNETySJEkadGPGjOH4448nIjjhhBNcYFmSpF3kCB5JkiQVMX36dLq6uhy9I0nSAHAEjyRJkiRJ0jBngUeSJElFdHZ2cuutt9LZ2Vk6iiRJw54FHklDzooVK3jHO97BihUrSkeRJDVJd3c3ixYtIjNZuHAh69atKx1JkqRhzQKPpCHnwgsv5LHHHuPzn/986SiSpCbp7Oykt7cXgN7eXkfxSJK0iyzwSBpSVqxYwd133w3AypUrHcUjSS1qyZIl9PT0ANDT08PixYsLJ5IkaXizwCNpSLnwwgs3azuKR5Ja09SpUxk5strQdeTIkRx33HGFE0mSNLxZ4JE0pPSN3umzcuXKQkkkSc00ffp0IgKAESNGuFW6JEm7qEiBJyIOjYjrIuI3EXF7RHyk7j8vIlZHxK/rr7eUyCepnAkTJmzWPuywwwolkSQ105gxYxg3bhwAhxxyCKNHjy6cSJKk4a3UCJ4e4KOZ+WLg1cAHI+LF9bGLMvPo+uuaQvkkFXLWWWdt1v7Yxz5WKIkkqZm6u7tZvXo1AKtXr3YXLUlqYV1dXbz73e92dH6TFSnwZOaazPxl/fgR4A5gXIkskoaWiRMnPj2K57DDDmPixImFE0mSmqGzs5PMBCAz3UVLklrYnDlzePzxx/nSl75UOkpLK74GT0R0AC8Hfl53zYqIWyLiGxGxf7Fgkoo566yzeP7zn+/oHUlqYe6iJUntoauri1WrVgGwatUqR/E0UdECT0TsA1wFnJGZDwOXAJOAo4E1wBe2ct3MiFgWEcvWrl07aHklDY6JEyfy3e9+19E7ktTC3EVLktrDnDlzNms7iqd5ihV4ImJ3quLOtzNzAUBm3peZmzKzF7gUeFV/12bm3MycnJmTx44dO3ihJUmSNCCmT5/OiBHVn6LuoiVJratv9M7W2ho4pXbRCuDrwB2Z+Q8N/Qc3nPZ24LbBziZJkqTmGzNmDMcffzwRwQknnOAuWi3AnXIl9Wf8+PHbbGvglBrB81pgOvDGLW70n4uIWyPiFuBY4MxC+SRJktRk06dP56Uvfamjd1qHO+VKepZZs2Zt1v7Qhz5UKEnrG1niRTNzKRD9HPJmL0mS1CbGjBnDxRdfXDqGBkhmrqFaR5PMfCQi3ClXEh0dHYwfP55Vq1Yxfvx4DjvssNKRWlbxXbQkSZIktRZ3ypXUaNasWey1116O3mkyCzySJEmSBow75UraUkdHB9/85jcdvdNkFngkSZIkDQh3ypWkcizwSJIkSdpl7pQrSWUVWWRZkiRJUsvp2yn31oj4dd13DnBqRBwNJNAFvK9MPElqbRZ4JEmSJO0yd8qVpLKcoiVJkiRJkjTMWeCRJEnS/8/evYfZVdZ3/39/cwDklEOJhBAIBiktUEBNNG0ogkJlrC2Gh2pSfgJijVZFofZ5iFXQSmmxJ0AQa0AEWpuoSCrPI1NBBCLRYBAhgkpJYtIcITphDKFAZvL9/bHX4J6QTGaS2XvN3vv9uq65Zq97nT4zTNbafPe97luSJDU4CzySJEmSJEkNzgKPJEmSJElSg7PAI0mSJEmS1OAs8EiSJEmSJDU4CzySJEmSJEkNzgKPJEmSJElSg7PAI0mSJEmS1OAs8EiSJEmSJDW4EWUHaHVz585lxYoVpWboOf+cOXNKzTF58mRmz55dagZJqqXrrruO5cuXl5ph2bJlAFx88cWl5jjyyCP50Ic+VGoGSaqVW265hZUrV5aaYdWqVQD89V//dak5jjjiCM4777xSM0itwgKP2GeffcqOIEmqk1e84hVlR5Ak1YHv8aXWY4GnZPZYkdTKIuIM4BpgOHBjZl5ZcqSasseKJLUGe6xIKoNj8EiSShERw4HPAW3AMcCsiDim3FSSJElSYxpyBZ6IOCMinoiIZRFR7qAwkqRaej2wLDNXZOaLwHzgzJIzSZIkSQ1pSBV4/DRXklrKocDqquU1RZskSZKkARpSBR78NFeStJ2ImB0RD0XEQxs3biw7jiRJkjQkDbUCT78+zfXNviQ1hbXAYVXLE4u2XjJzbmZOycwp48aNq1s4SZIkqZEMtQJPv/hmX5KawhLgqIh4VUTsBcwE7ig5kyRJktSQhto06f36NFeS1PgysysiPgR8i8o06Tdl5uMlx5IkSZIa0lAr8Lz0aS6Vws5M4E/LjSRJqpXMvBO4s+wckiRJUqOLzCw7Qy8R8Vbgan79ae4Vu9h+I7CqHtma3EHAL8oOIVXxb3JwTMrMpnmW1Wv+oPHfl4YS/x4Hh9d77Yj/vjSU+Pc4eHZ4zR9yBR6VIyIeyswpZeeQevg3KdWO/740lPj3KNWO/740lPj3WHsNOciyJEmSJEmSfs0CjyRJkiRJUoOzwKMec8sOIG3Hv0mpdvz3paHEv0epdvz3paHEv8cacwweSZIkSZKkBmcPHkmSJEmSpAZngUeSJEmSJKnBWeAREXFGRDwREcsiYk7ZedTaIuKmiHg6Ih4rO4vUbLzeayjxei/Vltd8DRVe7+vHAk+Li4jhwOeANuAYYFZEHFNuKrW4m4Ezyg4hNRuv9xqCbsbrvVQTXvM1xNyM1/u6sMCj1wPLMnNFZr4IzAfOLDmTWlhmLgQ6ys4hNSGv9xpSvN5LNeU1X0OG1/v6scCjQ4HVVctrijZJUnPxei9JrcNrvtSCLPBIkiRJkiQ1OAs8WgscVrU8sWiTJDUXr/eS1Dq85kstyAKPlgBHRcSrImIvYCZwR8mZJEmDz+u9JLUOr/lSC7LA0+Iyswv4EPAt4KfAVzPz8XJTqZVFxDzg+8DREbEmIt5TdiapGXi911Dj9V6qHa/5Gkq83tdPZGbZGSRJkiRJkrQH7MEjSZIkSZLU4CzwSJIkSZIkNTgLPJIkSZIkSQ3OAo8kSZIkSVKDs8AjSZIkSZLU4CzwSJIkSZIkNTgLPGpKEfG93dhnZUQcVIs8/Tj3pyLiL8s4tyQ1Mq/3ktQ6vOZLfbPAo6aUmb9XdoZaiogRZWeQpKHA670ktQ6v+VLfLPCoKUXEs8X3QyJiYUQ8EhGPRcTv93P//y8iflDs94WIGF60vyci/qtYd0NEXFe0j4uIr0fEkuJretH+qYi4KSLui4gVEfHhqnN8vDjWA8DRVe3vLY7xaHHMfYv2myPiXyLiQeDvI+LJiBhXrBsWEct6liWpVXi9l6TW4TVf6psFHjW7PwW+lZknAicAj+xqh4j4beCdwPRiv27gnIiYAFwKTAOmA79Vtds1wFWZORX4X8CNVet+C3gL8HrgkxExMiJeB8wETgTeCkyt2v72zJyamScAPwXeU7VuIvB7mfkXwL8B5xTtpwGPZubGXf18ktSkvN5LUuvwmi/tgF3A1OyWADdFxEjgPzJzlxd/4M3A64AlEQHwCuBpKhfv+zOzAyAivgb8ZrHPacAxxfYAB0bE/sXrb2bmC8ALEfE0cDDw+8CCzHyuONYdVec/LiL+BhgN7A98q2rd1zKzu3h9E/AN4GrgAuBL/fjZJKlZeb2XpNbhNV/aAQs8amqZuTAiTgb+ELg5Iv45M2/dxvdoXwAAIABJREFUxW4B3JKZH+vVGPH2PvYZBkzLzOe32wfghaqmbnb97+5m4O2Z+WhEnA+cUrVuS8+LzFwdEU9FxJuo3JjOQZJalNd7SWodXvOlHfMRLTW1iJgEPJWZN1DpUvnafux2D3B2RLyyOMbY4jhLgDdGxJioDID2v6r2uQu4sOq8J+7iHAuBt0fEKyLiAOCPqtYdAKwvPpHY1QX9RirdOKur/pLUcrzeS1Lr8Jov7ZgFHjW7U4BHI+JHVJ65vWZXO2TmT4BPAHdFxFLgbuCQzFwL/C3wA2ARsBLoLHb7MDAlIpZGxE+A9+/iHA8DXwEeBdqp3Fh6XAo8WJzjZ7uIeweVLp523ZTU6k7B670ktYpT8JovvUxkZtkZpIYREftn5rNFdX8BcFNmLigxzxQqA7/1a+YASVL/eL2XpNbhNV/Nwh480sB8KiIeAR4Dfg78R1lBImIO8HXgY7vaVpI0YF7vJal1eM1XU7AHj1pORDwI7L1d87sy88dl5JEk1YbXe0lqHV7zJQs8kiRJkiRJDc9HtCRJkiRJkhqcBR5JkiRJkqQGZ4FHkiRJkiSpwVngkSRJkiRJanAWeCRJkiRJkhqcBR5JkiRJkqQGZ4FHkiRJkiSpwVngkSRJkiRJanAWeCRJkiRJkhqcBR6pnyLivoj4s35ue0pErOnnthERX4qITRHxgz1LKUlqFAO5r0iS9kxEZES8uo/1KyPitDrk+KuIuLHW51FrssCjIS8iToqI70VEZ0R0RMSiiJhadq5BdBJwOjAxM19fdhhJagUtcG+RpIayowJLRJwfEQ/U4Fw3R8TfDPZx+yMz/zYz+/uh8aci4t9qnUnNY0TZAaS+RMSBwP8D/hz4KrAX8PvAC2XmGmSTgJWZuaXsIJLUClrk3iJJklqMPXg01P0mQGbOy8zuzPyfzLwrM5fCS1X9RRFxXfEp7M8i4s09O0fEqIj4YkSsj4i1EfE3ETG8av0FEfHT4vGob0XEpKp1pxfH64yI64DYWciIeEXxScCmiPgJMHW79RMi4usRsTEifh4RHy7a3wPcCPxuRDwbEX9dtL8tIh6JiGeKT5iPrzrWyoj4y4hYWmT7SkTsU6w7KCL+X7FfR0R8NyKG9ZVBklrQTu8tQ+W+Ikl6ub7ez0bE6yPi+8X74PXFdXyvHRxjNnAO8H+K99//t2r1iTt6j72DY+zqXjEhIu4o3o8vi4j3Vq17qVdORBwRlUfHzouI/46IX0TEx4t1ZwB/BbyzyPlo1blXRMTm4ndwzh79UtVULPBoqPsvoDsibomItogYs4Nt3gAsBw4CPgncHhFji3U3A13Aq4HXAH8A/BlARJxJ5aJ5FjAO+C4wr1h3EHA78IniuMuB6X3k/CRwZPH1FuC8nhVFgeX/Ao8ChwJvBi6KiLdk5heB9wPfz8z9M/OTEfEa4CbgfcBvAF8A7oiIvavO9w7gDOBVwPHA+UX7R4E1xc9zcPHzZV8Z+viZJKlZ7ereMhTuK5KkKv14P9sNXEzlGvu7xfoPbH+czJwLfBn4++L99x9Vrd7Ze+wd6eteMZ/Ke/IJwNnA30bEm/o41knA0UXmyyLitzPzP4G/Bb5S5DwhIvYDPgu0ZeYBwO8Bj/RxXLUYCzwa0jLzV1QueAncAGwsquEHV232NHB1Zm7NzK8ATwB/WGzzVuCizNySmU8DVwEzi/3eD/xdZv40M7uoXEBPLD5tfSvweGbelplbgauBDX1EfQdwRWZ2ZOZqKhfeHlOBcZn56cx8MTNXFD/LzB0dCJgNfCEzHyw+Wb6FymMD06q2+WxmrsvMDio3uhOL9q3AIcCk4vfx3czM3cggSU2rH/eWoXBfkaRW9B9FD5xnIuIZ4PqqdX2+n83MH2bm4szsysyVVD4kfeMAz7+z99g7srN7xWFUCviXZObzmfkIlR775/ZxrL8uepM+SqWAdUIf224DjouIV2Tm+sx8fAA/n5qcBR4NecUb5fMzcyJwHJVK+NVVm6wtihg9VhXbTAJGAuurbhJfAF5ZbDcJuKZqXQeV7vKHFvuvrsqQ1cs7MGG79auqXk8CJmx3s/orKj1sdmQS8NHttj+sOEeP6v8peA7Yv3j9D8Ay4K6i6+ac3cwgSU1tF/eWoXBfkaRW9PbMHN3zRe8eOH2+n42I34zKUAUbIuJXVIrsBw3w/Dt7j70jO7tXTAA6MnPzdusO3dPzFmN2vpPKBwrrI+KbEfFbfRxXLcYCjxpKZv6MSvf446qaD42I6nEMDgfWUXnj/AJwUNWN4sDMPLbYbjXwvuqbSGa+IjO/B6ynUlQBKlOZVy/vwPrt1h9e9Xo18PPtznNAZr51J8daTaU3UPX2+2bmvD7OD0Bmbs7Mj2bmZOCPgb8ongceaAZJahk7uLcMhfuKJKm3Xb2f/TzwM+CozDyQSvFnZ2Od5U7aB2Jn94p1wNiIOGC7dWt34xwvy5mZ38rM06n02v8ZlV5MEmCBR0NcRPxWRHw0IiYWy4cBs4DFVZu9EvhwRIyMiD8Bfhu4MzPXA3cB/xQRB0bEsIg4MiJ6umr+C/CxiDi2OPaoYn+AbwLHRsRZETEC+DAwvo+oXy2ONabIemHVuh8AmyPikqgMxjw8Io6LnU/HewPw/oh4Q1TsFxF/uN1NYme/r7dFxKuLm00nlWeRt+1GBklqWv24twyF+4okqbddvZ89APgV8GzRq+XP+zjWU8DkPcyzs3vFauB7wN9FxD5RmSzlPcDuTHf+FHBE/HrSlIMj4sxiLJ4XgGepvNeXAAs8Gvo2UxnA7MGI2ELlzfdjVAYT7vEgcBTwC+AK4OzM/GWx7lwq09/+BNgE3Eal2k1mLgA+A8wvunE+BrQV634B/AlwJfDL4viL+sj511S6Xv6cypv/f+1ZkZndwNuoPMP78yLnjcCoHR0oMx8C3gtcV2ReRt8DvFU7Cvg2lYv994HrM/PegWaQpCa3q3vLULivSJKq9OP97F8Cf0rlGn8D8JU+DvdF4JjiUa//2M1Ifd0rZgFHUOnNswD4ZGZ+ezfO8bXi+y8j4mEq///+F8VxO6iMMdRXIUstJno/Nig1log4H/izzDyp7CySpMbnfUWStCveKzRU2YNHkiRJkiSpwVngkSRJkiRJanA+oiVJkiRJktTg7MEjSZIkSZLU4EaUHWBPHXTQQXnEEUeUHUOShqQf/vCHv8jMcWXnGCxe8yVpx7zeS1Lr2Nk1v+ELPEcccQQPPfRQ2TEkaUiKiFVlZxhMXvMlace83ktS69jZNd9HtCRJkiRJkhqcBR5JkiRJkqQGZ4FHkiRJkiSpwVngkSRJkiRJanAWeERHRweXXHIJHR0dZUeRJEktZNOmTXz605/mmWeeKTuK1HQ6Ozu56qqr6OzsLDuKpDqxwCPmzZvH448/zvz588uOIkmSWsiCBQt44oknuP3228uOIjWd9vZ2li9fTnt7e9lRJNWJBZ4W19HRwbe//W0yk7vvvttePJIkqS42bdrE/fffT2aycOFCe/FIg6izs5PFixeTmSxevNhePFKLsMDT4ubNm8e2bdsA2LZtm714JElSXSxYsIDMBCrvQezFIw2e9vb2Xu/x7cUjtQYLPC3uvvvuo6urC4Curi7uvffekhNJkqRWsGjRol7vQRYtWlRyIql5LFmyhO7ubgC6u7tZsmRJyYkk1YMFnhZ3yimnMGLECABGjBjBqaeeWnIiSZLUCqZPn97rPcj06dNLTqT+iojDIuLeiPhJRDweER8p2j8VEWsj4pHi661V+3wsIpZFxBMR8Zby0reGqVOnEhEARARTp04tOZGkerDA0+JmzZrFsGGVP4Nhw4Yxc+bMkhNJkqRWMGPGjJf+B3TYsGGcddZZJSfSAHQBH83MY4BpwAcj4phi3VWZeWLxdSdAsW4mcCxwBnB9RAwvI3irmD59+kuPQGYmJ510UsmJJNWDBZ4WN3bsWE477TQigtNPP52xY8eWHUlSg4qImyLi6Yh4rKrtK1Wf5K6MiEeK9iMi4n+q1v1LeckllWHMmDG88Y1vJCI4+eSTGT16dNmR1E+ZuT4zHy5ebwZ+Chzaxy5nAvMz84XM/DmwDHh97ZO2ru0feXzggQdKSiKpnizwiFmzZnHsscfae0fSnrqZyiezL8nMd/Z8kgt8HageRXV51ae8769jTklDxIwZMzj66KPtvdPAIuII4DXAg0XThyJiaVH0H1O0HQqsrtptDTsoCEXE7Ih4KCIe2rhxYw1TN7/tx9xxDB6pNVjgEWPHjuUzn/mMvXck7ZHMXAh07GhdVJ7DeAcwr66hJA1pY8aM4bLLLrP3ToOKiP2pFO8vysxfAZ8HjgROBNYD/zSQ42Xm3MyckplTxo0bN+h5W8nUqVMZPrzyFNzw4cMdg0dqERZ4JEn18PvAU5n5ZFXbqyLiRxFxf0T8/s529BNdSRp6ImIkleLOlzPzdoDMfCozuzNzG3ADv34May1wWNXuE4s21UhbW1uvcTbb2tpKTiSpHizwSJLqYRa9e++sBw7PzNcAfwH8e0QcuKMd/URXkoaWolfmF4GfZuY/V7UfUrXZDKBnTLY7gJkRsXdEvAo4CvhBvfK2olGjRjFt2jQigmnTpjFq1KiyI0mqgxFlB5AkNbeIGAGcBbyupy0zXwBeKF7/MCKWA78JPFRKSEnSQEwH3gX8uGfwfOCvgFkRcSKQwErgfQCZ+XhEfBX4CZUZuD6Ymd11T91i2traWL9+vb13pBZigUeSVGunAT/LzDU9DRExDujIzO6ImEzl09wVZQWUJPVfZj4AxA5W3dnHPlcAV9QslF5m1KhRXHzxxWXHkFRHPqIlSRoUETEP+D5wdESsiYj3FKtm8vLBlU8Glhaf/N4GvD8zdzhAsyRJkqRdswePJGlQZOasnbSfv4O2r1MZnFOSJEnSILAHjyRJkiRJUoOzwCNJkiRJktTgLPBIkiRJkiQ1OAs8kiRJkiRJDc4CjyRJkiRJUoOzwCNJkiRJktTgLPBIkiRJkiQ1OAs8kiS1kE2bNvHpT3+aZ555puwokiRJGkQWeCRJaiELFizgiSee4Pbbby87iiRJkgaRBR5JklrEpk2buP/++8lMFi5caC8eSZKkJmKBR5KkFrFgwQIyE4Bt27bZi0eSJNVFZ2cnV111FZ2dnWVHaWoWeCRJahGLFi2iq6sLgK6uLhYtWlRyIkmS1Ara29tZvnw57e3tZUdpahZ4JElqEdOnT2fEiBEAjBgxgunTp5ecSJIkNbvOzk4WL15MZrJ48WJ78dSQBR5JQ05HRweXXHIJHR0dZUeRmsqMGTOICACGDRvGWWedVXIiSZLU7Nrb29m2bRtQeUTcXjy1U9MCT0QcFhH3RsRPIuLxiPhI0T42Iu6OiCeL72OK9oiIz0bEsohYGhGvrWU+SUPTvHnzePzxx5k/f37ZUaSmMmbMGN74xjcSEZx88smMHj267EiSJKnJLVmyhO7ubgC6u7tZsmRJyYmaV6178HQBH83MY4BpwAcj4hhgDnBPZh4F3FMsA7QBRxVfs4HP1zifpCGmo6ODb3/722Qmd999t714pEE2Y8YMjj76aHvvSJKkupg6dSrDhw8HYPjw4UydOrXkRM2rpgWezFyfmQ8XrzcDPwUOBc4Ebik2uwV4e/H6TODWrFgMjI6IQ2qZUdLQMm/evF5dOO3FIw2uMWPGcNlll9l7R5Ik1UVbW9tLs3hmJm1tbSUnal51G4MnIo4AXgM8CBycmeuLVRuAg4vXhwKrq3ZbU7Rtf6zZEfFQRDy0cePGmmWWVH/33Xdfr1l+7r333pITSZIkSdoT1QUe1U5dCjwRsT/wdeCizPxV9bqs/Bce0H/lzJybmVMyc8q4ceMGMamksp1yyim9Zvk59dRTS04kSaqVTZs28elPf5pnnnmm7CiSpBppb29/aZKHiHCQ5RqqeYEnIkZSKe58OTNvL5qf6nn0qvj+dNG+FjisaveJRZukFjFr1iyGDatcmoYNG8bMmTNLTiQ1l6VLl3LOOefw2GOPlR1FYsGCBTzxxBPcfvvtu95YktSQlixZ0msIBgdZrp1az6IVwBeBn2bmP1etugM4r3h9HvCNqvZzi9m0pgGdVY9ySWoBY8eO5bTTTiMiOP300xk7dmzZkdRPEXFTRDwdEY9VtX0qItZGxCPF11ur1n2smDXxiYh4SzmpW8+1115LZnLNNdeUHUUtbtOmTdx///1kJgsXLrQXjyQ1KQdZrp9a9+CZDrwLeNN2b+6vBE6PiCeB04plgDuBFcAy4AbgAzXOJ2kImjVrFscee6y9dxrPzcAZO2i/KjNPLL7uBChmVJwJHFvsc31EDK9b0ha1dOlStmzZAsCWLVvsxaNSLViw4KWxGLZt22YvHklqUm1tbb166DvIcu3UehatBzIzMvP46jf3mfnLzHxzZh6VmadlZkexfWbmBzPzyMz8ncx8qJb5JA1NY8eO5TOf+Yy9dxpMZi4E+juv/ZnA/Mx8ITN/TqWw//qahRNQ6b1TzV48KtOiRYt6Daq/aNGikhNJkmph1KhRTJs2jYhg2rRpjBo1quxITatus2hJklrWhyJiafEI15iirV+zJoIzJw6mnt47O1uW6mn69Om9BtWfPn16yYkkSbXS1tbGkUceae+dGrPAI0mqpc8DRwInAuuBfxroAZw5cfDst99+fS5L9TRjxoyXZlUZNmwYZ511VsmJJEm1MmrUKC6++GJ779SYBR5JUs1k5lOZ2Z2Z26iMrdbzGJazJpbgwgsv7LX8kY98pKQkEowZM4Y3vvGNRAQnn3wyo0ePLjuSJEkNzQKPJKlmIuKQqsUZQM+ovncAMyNi74h4FXAU8IN652s1xx9/fK/l4447rqQkUsWMGTM4+uij7b0jSdIgGFF2AElSc4iIecApwEERsQb4JHBKRJwIJLASeB9AZj4eEV8FfgJ0AR/MzO4ycreSpUuX9lp+7LHHLPKoVGPGjOGyyy4rO4YkSU3BAo8kaVBk5qwdNH+xj+2vAK6oXSJtb0ezaN1www0lpZEkSdJg8hEtSZJahLNoSRoMEXFYRNwbET+JiMcj4iNF+9iIuDsiniy+jynaIyI+GxHLilkVX1vuTyBJzckCjyRJLcJZtCQNki7go5l5DDAN+GBEHAPMAe7JzKOAe4plgDYqY60dBcymMsOiJGmQWeCRJKlFOIuWpMGQmesz8+Hi9Wbgp8ChwJnALcVmtwBvL16fCdyaFYuB0dsNwi9JGgQWeCRJahHHH3/8S7129ttvPwdYlrTHIuII4DXAg8DBmbm+WLUBOLh4fSiwumq3NUXb9seaHREPRcRDGzdurFlmSWpWFngkSWohF154IRFh7x1Jeywi9ge+DlyUmb+qXpeZSWUGxX7LzLmZOSUzp4wbN24Qk0pSa3AWLUmSWsjxxx/Pl7/85bJjaAi49dZbWbVqVakZNmzYAMD48eNLzTFp0iTOPffcUjM0mogYSaW48+XMvL1ofioiDsnM9cUjWE8X7WuBw6p2n1i0SZIGkT14JEmSVIoXXniBF154oewYGqCICOCLwE8z85+rVt0BnFe8Pg/4RlX7ucVsWtOAzqpHuSRJg8QePJIkSS1oKPRYufzyywG49NJLS06iAZoOvAv4cUQ8UrT9FXAl8NWIeA+wCnhHse5O4K3AMuA54N31jduaOjs7uemmm7jgggsYNWpU2XEk1YEFHkmSJEn9lpkPALGT1W/ewfYJfLCmofQy7e3tLF++nPb2dmbOnFl2HEl14CNakiRJktREOjs7Wbx4MZnJ4sWL6ezsLDuSpDqwwCNJkiRJTaS9vZ1t27YBsG3bNtrb20tOJKkefERLkqQ6cdaiX3PWIkmqnSVLltDd3Q1Ad3c3S5Ys8TEtqQXYg0eSpBbirEWS1PymTp3K8OHDARg+fDhTp04tOZGkerAHjyRJdTIUeqw4a5EkNb+2tjYWL15Md3c3w4YNo62trexIkurAHjySJEmS1ERGjRrFtGnTiAimTZvmNOlSi7AHjyRJkiQ1mba2NtavX2/vHamFWOCRJEmSpCYzatQoLr744rJjSKojH9GSJEmSJElqcBZ4JEmSJEmSGpwFHkmSJEmSpAZngUeSNCgi4qaIeDoiHqtq+4eI+FlELI2IBRExumg/IiL+JyIeKb7+pbzkkiRJUuOzwCNJGiw3A2ds13Y3cFxmHg/8F/CxqnXLM/PE4uv9dcooSZIkNSULPJKkQZGZC4GO7druysyuYnExMLHuwSRJkqQWYIFHklQvFwDtVcuviogfRcT9EfH7O9spImZHxEMR8dDGjRtrn1KSpCbQ2dnJVVddRWdnZ9lRJNWJBR5JUs1FxMeBLuDLRdN64PDMfA3wF8C/R8SBO9o3M+dm5pTMnDJu3Lj6BJYkqcG1t7ezfPly2tvbd72xpKZggUeSVFMRcT7wNuCczEyAzHwhM39ZvP4hsBz4zdJCSpLURDo7O1m8eDGZyeLFi+3FI7WIEWUHkDS0zJ07lxUrVpSaYd26dQBMmDChtAyTJ09m9uzZpZ2/WUTEGcD/Ad6Ymc9VtY8DOjKzOyImA0cB5f7hSZLUJNrb29m2bRsA27Zto729nZkzZ5acSlKt2YNH0pDz/PPP8/zzz5cdQwMUEfOA7wNHR8SaiHgPcB1wAHD3dtOhnwwsjYhHgNuA92dmxw4PLEmSBmTJkiV0d3cD0N3dzZIlS0pOJKke7MEjqZeh0Gtlzpw5AFx55ZUlJ9FAZOasHTR/cSfbfh34em0TSZLUmqZOncp3v/vdXsuSmp89eERHRweXXHIJHR1+eC5JkiQ1uunTp/daPumkk0pKIqmeLPCIefPm8fjjjzN//vyyo0iSJEnaQ4sWLSIiAIgIHnjggZITSaoHCzwtrqOjg29/+9tkJnfffbe9eCRJkqQGt2TJEoqJK8lMx+CRWoQFnhY3b968XiPs24tHkiRJamxTp07t1YPHMXik1mCBp8Xdd999dHV1AdDV1cW9995bciJJkiRJe2L69Om9evA4Bo/UGmpa4ImImyLi6Yh4rKrtUxGxtpgu95GIeGvVuo9FxLKIeCIi3lLLbKo45ZRTei2feuqp5QSRJEmSNCgWLVrUa9kxeKTWUOsePDcDZ+yg/arMPLH4uhMgIo4BZgLHFvtcHxHDa5yv5f3O7/xOn8uSJEmSGsv2Y+44Bo/UGvpd4ImI34yIe3p640TE8RHxib72ycyFQH9H7T0TmJ+ZL2Tmz4FlwOv7m0+753Of+1yv5euuu66kJJIkSZIGw9SpUxk+vPJZ+fDhwx2DR2oRA+nBcwPwMWArQGYupdLjZnd8KCKWFo9wjSnaDgVWV22zpmh7mYiYHREPRcRDGzdu3M0IAnj22Wf7XJYkSZLUWNra2hg2rPK/esOGDaOtra3kRJLqYSAFnn0z8wfbtXXtxjk/DxwJnAisB/5poAfIzLmZOSUzp4wbN243IqjH/vvv3+eyJEmSpMYyatQopk2bRkQwbdo0Ro0aVXYkSXUwkALPLyLiSCABIuJsKgWaAcnMpzKzOzO3UekV1PMY1lrgsKpNJxZtqqE5c+b0Wv7Yxz5WUhJJkiRJg+WEE04A4MQTTyw5iQSdnZ1cddVVdHZ2lh2lqQ2kwPNB4AvAb0XEWuAi4M8HesKIOKRqcQbQM8PWHcDMiNg7Il4FHAVs32NIg+w1r3kN++67LwD77ruvNwBJkiT1yZlyG8PXv/51MpPbbrut7CgS7e3tLF++nPb29rKjNLV+F3gyc0VmngaMA34rM0/KzJV97RMR84DvA0dHxJqIeA/w9xHx44hYCpwKXFwc/3Hgq8BPgP8EPpiZ3bvzQ2lgjjvuOMAZtCRJktQvN+NMuUPa6tWrWb++8rDF+vXrWbNmTcmJ1Mo6OztZvHgxmcnixYvtxVNDI/q7YUR8BPgSsBm4ISJeC8zJzLt2tk9mztpB8xf72P4K4Ir+ZtKe6+jo4Ec/+hEADz/8MB0dHYwdO7bkVJIkNbdbb72VVatWlR2jdD2/g8svv7zkJOWbNGkS5557btkx+iUzF0bEEf3c/KWZcoGfR0TPTLnfr1E8Abfcckuv5ZtvvplPfKLPCZClmmlvb2fbtm0AbNu2jfb2dmbO3N35mtSXfhd4gAsy85qiW+VvAO8C/hXYaYFHQ9+8efPo6qqMld3V1cX8+fP5wAc+UHIqSZKa26pVq/j5f/2MQ/cfWXaUUo0s3oO8uG55yUnKtfbZrWVHGCwfiohzgYeAj2bmJiqz4i6u2qbPmXKB2QCHH354jaM2t57eOztbluppyZIldHdXHs7p7u5myZIlFnhqZCAFnii+vxW4NTMfj4joawcNfffeey+ZCUBm8p3vfMcCjyRJdXDo/iO58PhXlh1DQ8C1S58uO8Jg+DxwOZUJWS6nMlPuBQM5QGbOBeYCTJkyJQc7YCs55JBDehV1DjnkkD62lmpr6tSpfO9736O7u5vhw4czderUsiM1rYEMsvzDiLiLSoHnWxFxALCtNrFUL9tPM//KV/pGU5IkSQPjTLlDy3nnnddr+fzzzy8niAS0tbUxbFil9DBs2DDa2tpKTtS8BlLgeQ8wB5iamc8BewHvrkkq1c3TT/f+xOipp54qKYkkSZIalTPlDi0HHnhgr+UDDjigpCQSjBo1imnTphERTJs2jVGjRpUdqWkNZBatbcBTwDERcTKVkfBH1yqY6mP7HjsHH3xwSUkkSZLUCJwpd+hrb2/v1WPCqalVtra2No488kh779TYQGbR+gzwTioX556LcgILa5BLdbJx48Zey9v36JEkSZKqOVPu0LdkyZJesxY5qK3KNmrUKC6++OKyYzS9gQyy/Hbg6GKKQzWJU089lfb2djKTiOBNb3pT2ZEklSQiXtvX+sx8eBf73wS8DXg6M48r2sYCXwGOAFYC78jMTcUg/ddQGdftOeD8XR1fkiT1zwknnMCDDz7Ya1lS8xtIgWcFMBLN+IYmAAAgAElEQVSwwDOI5s6dy4oVK0o7/9atW1+aRQtg+fLlzJkzp5QskydPZvbs2aWcWxJQmfEEYB9gCvAolRkUj6cy5e3v7mL/m4HrgFur2uYA92TmlRExp1i+BGijMg7DUcAbqMy+8oZB+SkkSZKkFjSQAs9zwCMRcQ9VRZ7M/PCgp1LdjBw5khEjRtDV1cWYMWMYOXJk2ZEklSQzTwWIiNuB12bmj4vl44BP9WP/hRFxxHbNZwKnFK9vAe6jUuA5E7g1KxXmxRExOiIOycz1SJKkPfLoo4/2uSypOQ2kwHNH8aVBNBR6rHz0ox/lv//7v7nmmmsYO3Zs2XEkle/onuIOQGY+FhG/vZvHOriqaLMB6BnJ/VBgddV2a4q2lxV4ImI2MBvg8MMP380YkiS1jqlTp/Ld736317Kk5tfvAk9m3hIRrwAOz8wnaphJdTZy5EiOPPJIizuSeiyNiBuBfyuWzwGW7ulBMzMjIne95cv2mwvMBZgyZcqA95ckqdVMnz69V4HnpJNOKjGNhoLbbruNNWvWlHb+nsl9xo0bV1oGgIkTJ3L22WeXmqGWBjKL1h8B/wjsBbwqIk4EPp2Zf1yrcJKkUrwb+HPgI8XyQipj5OyOp3oevYqIQ4CeqfrWAodVbTexaJNawoYNG/ifZ7dy7VJnrxSsfXYrr9iwoewYaiKLFi0iIl6aSOWBBx5wFi2V6oUXHMq3HgbyiNangNdTGT+BzHwkIibXIJMkqUSZ+XxE/Atw5yD02LwDOA+4svj+jar2D0XEfCqDK3c6/o4kSYNjyZIlL02kkplOk67Se61cffXVAFx00UWl5mh2AynwbM3MzsrMti/ZNsh5JEkli4g/Bv6BAfbYjIh5VAZUPigi1gCfpFLY+WpEvAdYBbyj2PxOKlOkL6MyiP+7a/CjSEPW+PHjeXHbFi48/pVlR9EQcO3Sp9lr/PiyY6iJOAaP1JoGUuB5PCL+FBgeEUcBHwa+V5tYkqQSfZKX99h81a52ysxZO1n15h1sm8AH9yCjJGkQRcSBVC7Pm8vOoj336le/uleB56ijjioxjaR6GTaAbS8EjqUyRfq/A52A/askqflszczO7doc3FiSmlBETI2IH1MZTP+xiHg0Il5Xdi7tma985Su9lufPn19SEkn1tMsePBHxr5n5LuC9mflx4OO1jyVJKpE9NiWpdXwR+EBmfhcgIk4CvgQcX2oq7ZHnnnuuz2VJzak/PXheFxETgAsiYkxEjK3+qnVASVLd2WNTklpHd09xByAzHwC6SsyjQbDvvvv2uSypOfVnDJ5/Ae4BJgMPb7cui3ZJUpPIzOeAj0fEFcVrSVLzuj8ivgDMo/Le/p3AfRHxWoDM3P79vxrAO9/5Tr70pS+9tOwMWlJr2GWBJzM/C3w2Ij6fmX9eh0ySpBJFxO8BNwL7A4dHxAnA+zLzA+UmkyTVwAnF98uK70Gl0POa4vubygilPbNs2bJey08++SSve51DK0nNrt+DLGfmn0fESRHxboCIOKg/s6pIkhrOVcBbgF8CZOajwMmlJpIk1UoblaL+PcD9VGZQvC8zT81MizsN6sEHH+xzWVJz6vc06RHxSWAKcDSVgdf2Av4NmF6baJKksmTm6oiobuouK4skqab+A3iGylAMzxdtzpzY4EaMGMGLL77Ya1lS8xvIv/QZVLpqPgyQmesi4oCapJJa1Ny5c1mxYkXZMUrX8zuYM2dOyUnKNXnyZGbPnl3GqVcXj2llRIwEPgL8tIwgkqSam5iZZ5QdQoPLWbSk1jSQAs+LmZkRkQARsV+NMkkta8WKFTz52COMH/nirjduYsO6RgKw+YkflJykPBu27lXm6d8PXAMcCqwDvgV8sMxAkqSa+V5E/E5m/rjsIM3ktttuY82aNaWdf+TIkWzduvWl5b322ourr766lCwTJ07k7LPPLuXcUqsZSIHnq8UI+6Mj4r3ABcANtYklta7xI1/kz8ZtKDuGSnbjxvGlnTszfwGcU1oASVLNRcSPqTyKNQJ4d0SsAF6gGGQ5M48vM5/2zPjx41m9evVLywcffHCJaSTVS78LPJn5jxFxOvArKuPwXJaZd9csmSSpFBExmUoPnmlU3vx/H7g4M31+UJKax9vKDtDMhkKPlYsuuoitW7dyyCGHtPxj71KrGNBoW0VBx6KOJDW3fwc+R2XsNYCZwDzgDaUlkprQ2me3cu3Sp8uOUapf/E8XAAe9orUHgF377FbqPTVtZq6q8ylVZ+PHj2fNmjWcf/75ZUeRVCe7vJtGxGb6GEk/Mw8c1ESSpLLtm5n/WrX8bxHxv0tLIzWhSZMmlR1hSNi6qlJj2GtCa/8+XoV/Exp8++yzD69+9auZOHFi2VEk1ckuCzyZeQBARFwOrAf+lcqzuecAh9Q0nSSpDO0RMQeYT6XA/07gzogYC5CZHWWGk5rBueeeW3aEIeHyyy8H4NJLLy05iSRJjW8g/WH/ODNPqFr+fEQ8Clw2yJkkSeV6R/H9ffy6B2dQeVQrgcllhJIkSZK0cwMp8GyJiHP49Se6s4AtNUklSSrTJcB/ZuavIuJS4LXA5Zn5cMm59sitt97KqlUOOdHzO+jpOdGqJk2aZC8aSZLUVAZS4PlTKrOqXEOlwLOoaJMkNZdPZOZXI+Ik4E3APwKfp8EHWV61ahU/W/YkI8ceUHaUUnXRDcDyjg0lJynP1o7NZUeQJEkadAOZJn0lcObO1kfExzLz7wYjlCSpVN3F9z8EbsjMb0bE35QZaLCMHHsAv/EHDV2n0iD45V0Plh1BkiRp0A0bxGP9ySAeS5JUnrUR8QV+Pbjy3gzu/UKSJEnSIBvMN+wxiMeSJJXnHcC3gLdk5jPAWMBp0iVJkqQhbCBj8OxK7noTSdJQl5nPAbdXLa8H1u/u8SLiaOArVU2TqczAOBp4L7CxaP+rzLxzd88jSZIktbLBLPDYg0eS9DKZ+QRwIkBEDAfWAguAdwNXZeY/lhhPkiSppm677TbWrFlTdoxS9fz8V199dclJyjdx4kTOPvvsmhx7MAs8XxvEY0mSmtObgeWZuSrCzwUkqRFFxE3A24CnM/O4om0sld6aRwArgXdk5qaoXOyvAd4KPAecn5kPl5FbKsuaNWtYvXolEyaMKjtKaUaOrDzw0929qeQk5Vq3rrOmx+93gSciJlO5OP8usA34PnBxZq4AyMy/rUlCSVIzmQnMq1r+UEScCzwEfDQzX3bXj4jZwGyAww8/vC4hJUl9uhm4Dri1qm0OcE9mXhkRc4rlS4A24Kji6w3A54vvUkuZMGEUH/jAyWXHUMmuv35hTY8/kEGW/x34KjAemEClx868vnaIiJsi4umIeKyqbWxE3B0RTxbfxxTtERGfjYhlEbE0Il478B9HkjRURcRewB/z6x6fnweOpPL41nrgn3a0X2bOzcwpmTll3LhxdckqSdq5zFwIdGzXfCZwS/H6FuDtVe23ZsViYHREHFKfpJLUWgZS4Nk3M/81M7uKr38D9tnFPjcDZ2zX1lPdPwq4p1iG3tX92VTe+EuSmkcb8HBmPgWQmU9lZndmbgNuAF5fajpJ0p44uBiUH2ADcHDx+lBgddV2a4q2l4mI2RHxUEQ8tHHjxh1tIknqw0DG4GkvulvOpzJj1juBO4vnbcnM7av4ZObCiDhiu+YzgVOK17cA91HpvvlSdR9YHBGjI+KQqhuF1PTWrVvHs1v34saN48uOopKt37oXm9etKzvGYJtFVc/P7a7xM4DHdriXJKmhZGZGxIBn2M3MucBcgClTpjhDryQN0EAKPO8ovr+PX0+JHlTGU0gq0972x0Cr+y8r8DgegyQ1lojYDzidyj2kx99HxIlU7iErt1snSWosT/UU7otHsJ4u2tcCh1VtN7FokyQNsoEUeC4B/jMzfxURlwKvBS7fk1Hwre5LvU2YMIHNm9fwZ+M2lB1FJbtx43gOmDCh7BiDJjO3AL+xXdu7SoojSRp8dwDnAVcW379R1f6hiJhPZXDlTnvoS1JtDGQMnk8UxZ2TgDcBN7J74+Q81TOwmtV9SZIkqbFExDwqM+oeHRFrIuI9VAo7p0fEk8BpxTLAncAKYBmV8dY+UEJkSWoJA+nB0118/0Pghsz8ZkT8zW6c0+q+JEmS1KAyc9ZOVr15B9sm8MHaJpIkwcAKPGsj4gtUxlD4TETszS56ABXV/VOAgyJiDfBJKoWdrxaV/lX8emyfO4G3UqnuPwe8ewDZJEmSJEmSWtZAB1k+A/jHzHymeLzqf/e1g9V9SZIkSVIr27hxI88//yzXX7+w7Cgq2bp1z7DPPl01O36/CzyZ+Rxwe9XyenYww5UkSZIkSZLqayA9eCRJkiRJ0gCMGzeO7u4RfOADJ5cdRSW7/vqFDB8+pmbHH8gsWpIkSZIkSRqC7MEjDTEbtu7FjRvHlx2jVL/sGgnAb4zYWnKS8mzYuhcHlB1CkiRJUsOwwCMNIZMnTy47wpCwccUKAA5o4d/HAfj3IEmSJKn/LPBIQ8js2bPLjjAkzJkzB4Arr7yy5CSSJEmS1Bgs8EiSJLWgW2+9lVWrVpWaoef8l19+eak5Jk2axLnnnltqBkmS9pQFHklSS9iwYQNbn93ML+96sOwoKtnWjs1seLHsFALYe++9y44gSXWxbl0n11+/sOwYpfnFL54F4KCD9i85SbnWrevksMNqN4tWyxd45s6dy4pivI9W1fPz9zwW08omT57sY1KSpJZgjxVJqo+JEyeWHaF0W7duAajpFOGN4LDDxtT076HlCzwrVqxg+RM/5fBxrVtJ3IvKTEVbO1aXnKRc/73x2bIjSKqh8ePHs6UDfuMP3lB2FJXsl3c9yPixrT1bodTMbrvtNtasWVN2jNL1/A6uvvrqkpOUb+LEiZx99tmlnb/Mcw8VPX+HF110UclJmlvLF3gADh+3Px//k9eVHUMlu+JrPyw7giRJkvbQmjVrWL5yJfuMHV12lFJtjcr3tb96ptwgJXu+o7V/frUWCzySJEmSmso+Y0czue1NZcfQELCi/TtlR5DqZljZASRJkiRJkrRnLPBIkiRJkiQ1OAs8kiRJkiRJDc4CjyRJkkqxdOlSzjnnHB577LGyo0iS1PAs8EiSai4iVkbEjyPikYh4qGgbGxF3R8STxfcxZeeUVF/XXnstmck111xTdhRJkhqeBR5JUr2cmpknZuaUYnkOcE9mHgXcUyxLahFLly5ly5YtAGzZssVePJIk7SELPJKkspwJ3FK8vgV4e4lZJNXZtdde22vZXjySJO2ZEWUHkCS1hATuiogEvpCZc4GDM3N9sX4DcPCOdoyI2cBsgMMPP7weWSXVQU/vnZ0tS7tr48aNPL9lCyvav1N2FA0Bz3c8w8YXtpYdQ6oLCzySpHo4KTPXRsQrgbsj4mfVKzMzi+LPyxTFoLkAU6ZM2eE2khrPfvvt16uos99++5WYRpKkxmeBR5JUc5m5tvj+dEQsAF4PPBURh2Tm+og4BHi61JCS6urCCy/kyiuvfGn5Ix/5SIlp1EzGjRvHi3uPZHLbm8qOoiFgRft3GHfg6LJjSHXhGDySpJqKiP0i4oCe18AfAI8BdwDnFZudB3yjnISSynD88ce/1Gtnv/3247jjjis5kSRJjc0CjySp1g4GHoiIR4EfAN/MzP8ErgROj4gngdOKZUkt5MILLyQi7L0jSdIg8BEtSVJNZeYK4IQdtP8SeHP9E0kaKg477DCOPvpoJk6cWHYUSZIanj14JEmSVIoFCxbwxBNPcPvtt5cdRZKkhmeBR5IkSXW3adMm7r//fjKThQsX8swzz5QdSZKkhtbyj2itW7eO5zZv5oqv/bDsKCrZqo2b2ff5dWXHkFRDWzs288u7Hiw7Rqm6Nj8HwIgD9i05SXm2dmyGsePLjtHyFixYQGYCsG3bNm6//XYuuOCCklNJktS4Wr7AI0lqDZMmTSo7wpCwavMqACa1coFj7Hj/HoaARYsW0dXVBUBXVxeLFi2ywCNJ0h5o+QLPhAkT2NrRzcf/5HVlR1HJrvjaDxk5dkLZMSTVyLnnnlt2hCHh8ssvB+DSSy8tOYla3fTp07nvvvvo6upixIgRTJ8+vexIGgQRsRLYDHQDXZk5JSLGAl8BjgBWAu/IzE1lZZSkZuUYPJIkSaq7GTNm9Fo+66yzSkqiGjg1M0/MzCnF8hzgnsw8CrinWJYkDbKW78EjSZKk+hszZgx77703XV1d7L333owePbrsSKqdM4FTite3APcBl9TyhM93PMOK9u/U8hRD3oubnwVgrwP2LzlJuZ7veAYO9Ppy2223sWbNmtLO33Puq6++urQMABMnTuTss88uNUMtWeCRJElS3a1cuZItW7YAsGXLFlatWuXYSM0hgbsiIoEvZOZc4ODMXF+s3wAcvKMdI2I2MBvg8MMP3+0AEydO3O19m8maX1UKPIe2enHjwNH+TQwBe++9d9kRWoIFHkmSJNXd5z73uV7L1113Hf/wD/9QUhoNopMyc21EvBK4OyJ+Vr0yM7Mo/rxMUQyaCzBlypQdbtMfzfzp/ED09JS46KKLSk6iocB/F63BMXgkSZJUd2vXru1zWY0pM9cW358GFgCvB56K+P/bu//YuurzjuPvJwmNobC0UVPkJXFSI9aOTYKtDovKuoWWdaTTBFNRZ8ZK0NCsScm6MYhItVVDYp1QgZJKq7aakiVoW2gDpUQqLgQEQ4wFTDtCCbQreOSXPJLVa9asgir2sz983N1Qg0Pie7/3x/slWb7fc+655xPp3CfKk+/5nugGqH4fLJdQUgn79u3j2muvLXqbWCewwSNJkqSGW7x48ZuO1Xoi4u0RccbUa+AjwHPAdmBN9bY1wH1lEkoqZcuWLbz66qts3ry5dJS2ZoNHkiRJDbd27dpjxuvWrSuURLPoTODxiNgFPAV8PTO/AdwE/EZEfA+4qBpL6hD79u1jdHRyGa7R0VFn8dSRDR5JkiQ13PLly38ya2fx4sUusNwGMnMkM8+tfn4hMz9Tbf9+Zn44M8/OzIsyc6x0VkmNs2XLlmPGzuKpHxs8kiRJKmLt2rWceuqpzt6RpDY2NXvnjcaaPcWeohURLwM/BMaBo5nZFxELgS8Dy4GXgY9n5n+Xyih1osHBQUZGRopmmDr/hg0bimXo7e1lYGCg2PklqRMsX76cO+64o3QMSVIddXd3H9PU6e7uLpimvZWewXNhZp6XmX3VeAPwcGaeDTxcjSV1mK6uLrq6ukrHkCRJknSS1qxZc8z4qquuKhOkAxSbwfMGLgFWVa+3AI8C15cKI3UiZ61IkiRJmi1Lly79ySye7u5ulixZUjpS2yrZ4EngwYhI4IuZOQicmZlTc7f+k8mV+Otu76EjfGbbNxtxqqb0yg9+BMCZ7zitcJKy9h46wlkLS6eQJEmSpPayZs0aNm7c6OydOivZ4PnVzDwQEe8GdkTEd2p3ZmZWzZ+fEhEDwABAT0/PSYXo7e09qePbwY9/MLneySkLlxZOUtZZC70eJEmSJGm2LV26lFtvvbV0jLZXrMGTmQeq3wcj4l7gfOCViOjOzNGI6AYOvsGxg8AgQF9f37RNoOPl7Sj/v5DtTTfdVDiJJEmSJEk6EUUWWY6It0fEGVOvgY8AzwHbgakVmNYA95XIJ0maPRGxNCIeiYjnI2J3RPxJtf2GiDgQEc9UPx8tnVWSJElqVaVm8JwJ3BsRUxn+KTO/ERHDwFci4mpgD/DxQvkkSbPnKHBtZn6rau5/MyJ2VPtuy8xbCmaTJEmS2kKRBk9mjgDnTrP9+8CHG59IklQv1eL5o9XrH0bEC8DisqkkSZKk9lLkFi1JUmeKiOXALwFPVpvWRcSzEbEpIt75BscMRMTTEfH0oUOHGpRUkiRJai02eCRJDRERpwP3AH+amf8D/C1wFnAekzN8pn20QmYOZmZfZvYtWrSoYXklSZKkVmKDR5JUdxFxCpPNnX/MzK8CZOYrmTmemRPA7Uw+TVGSJEnSCbDBI6npjI2Ncf311zM2NlY6imZBTK6ofwfwQmZ+rmZ7d83bfofJpylKkiRJOgE2eCQ1na1bt7J7927uuuuu0lE0Oy4APgF86HWPRP9sRHw7Ip4FLgSuKZpSkiRJamGlHpMuSdMaGxvjoYceIjPZsWMH/f39LFy4sHQsnYTMfByIaXbd3+gskiRJUrtyBo+kprJ161YmJiYAmJiYcBaPJEmSJB0HGzySmsqjjz7K0aNHATh69CiPPPJI4USSJEmS1Pxs8EhqKqtWrWLevMm7R+fNm8eFF15YOJEkSZIkNT8bPJKayuWXX37MuL+/v1ASSZIkSWodNngkNZWFCxfS1dUFQFdXlwssS5IkSdJxsMEjqamMjIxw5MgRAI4cOcLIyEjhRJIkSZLU/GzwSGoqN9988zHjW265pVASSZIkSWodNngkNZW9e/ceM96zZ0+hJJIkSZLUOmzwSGoqPT09x4yXLVtWKIkkSZIktQ4bPJKayvr1648ZX3fddYWSSJIkSVLrmFc6gCTV6u3tpaenh71797Js2TJ6e3tLR5IkSXpL7r77bvbv3180w9T5N27cWDTHkiVLuOyyy4pmkDqFM3gkNZ3169dz2mmnOXtHkiTpBM2fP5/58+eXjiGpgZzBI6np9Pb2sm3bttIxJEmSTogzViSV4AweSZIkSZKkFmeDR5IkSZLazOHDh7nttts4fPhw6SiSGsQGjyRJkqS6ioiLI+K7EfFiRGwonacTDA0N8dJLLzE0NFQ6iqQGscEjSZIkqW4iYi7wBWA1cA5weUScUzZVezt8+DA7d+4kM9m5c6ezeKQO4SLLhQ0ODjIyMlI0w9T5N2wo+58pvb29DAwMFM0gSfV05513smfPnqIZps5/4403Fs2xbNkyrrzyyqIZJDXM+cCLmTkCEBF3AZcAzxdN1caGhoaYmJgAYGJigqGhIfr7+wunklRvzuARXV1ddHV1lY4hSWoAH5srqYDFwL6a8f5qm+pkeHiY8fFxAMbHxxkeHi6cSFIjOIOnMGesSFLncMaKJL2xiBgABgB6enoKp2ltK1as4IknnmB8fJy5c+eyYsWK0pEkNYAzeCRJxbjopiR1hAPA0prxkmrbMTJzMDP7MrNv0aJFDQvXjlavXs2cOZP/1JszZw6rV68unEhSI9jgkSQV4aKbktQxhoGzI+I9EfE2oB/YXjhTW1uwYAErV64kIli5ciULFiwoHUlSA3iLliSpFBfdlKQOkJlHI2Id8AAwF9iUmbsLx2p7q1evZnR01Nk7UgexwSNJKmW6RTd/pVAWSVIdZeb9wP2lc3SSBQsWcM0115SOIamBvEVLktTUImIgIp6OiKcPHTpUOo4kSZLUlGzwSJJKcdFNSZIkaZbY4JEkleKim5IkSdIscQ0eSVIRLropSZIkzZ7IzNIZTkpEHAL2lM7RBt4F/FfpEFINr8nZsSwz2+a+Jmv+rPH7pWbi9Tg7rPeajt8vNROvx9kzbc1v+QaPZkdEPJ2ZfaVzSFO8JqX68fulZuL1KNWP3y81E6/H+nMNHkmSJEmSpBZng0eSJEmSJKnF2eDRlMHSAaTX8ZqU6sfvl5qJ16NUP36/1Ey8HuvMNXgkSZIkSZJanDN4JEmSJEmSWpwNHkmSJEmSpBZng0dExMUR8d2IeDEiNpTOo84WEZsi4mBEPFc6i9RurPdqJtZ7qb6s+WoW1vvGscHT4SJiLvAFYDVwDnB5RJxTNpU63Gbg4tIhpHZjvVcT2oz1XqoLa76azGas9w1hg0fnAy9m5khm/hi4C7ikcCZ1sMx8DBgrnUNqQ9Z7NRXrvVRX1nw1Det949jg0WJgX814f7VNktRerPeS1Dms+VIHssEjSZIkSZLU4mzw6ACwtGa8pNomSWov1ntJ6hzWfKkD2eDRMHB2RLwnIt4G9APbC2eSJM0+670kdQ5rvtSBbPB0uMw8CqwDHgBeAL6SmbvLplIni4itwL8C742I/RFxdelMUjuw3qvZWO+l+rHmq5lY7xsnMrN0BkmSJEmSJJ0EZ/BIkiRJkiS1OBs8kiRJkiRJLc4GjyRJkiRJUouzwSNJkiRJktTibPBIkiRJkiS1OBs8kiRJkiRJLc4Gj9pSRDxxAse8HBHvqkee4zj3DRFxXYlzS1Irs95LUuew5ktvzgaP2lJmfqB0hnqKiHmlM0hSM7DeS1LnsOZLb84Gj9pSRBypfndHxGMR8UxEPBcRHzzO438/Ip6qjvtiRMyttl8dEf9e7bs9Iv6m2r4oIu6JiOHq54Jq+w0RsSkiHo2IkYj4ZM05/rz6rMeB99Zs/8PqM3ZVn3latX1zRPxdRDwJfDYivhcRi6p9cyLixamxJHUK670kdQ5rvvTmbPCo3f0e8EBmngecCzwz0wER8fPA7wIXVMeNA1dExM8CnwZWAhcA76s57PPAbZm5AvgY8KWafe8DfhM4H/jLiDglIt4P9APnAR8FVtS8/6uZuSIzzwVeAK6u2bcE+EBm/hnwD8AV1faLgF2ZeWimP58ktSnrvSR1Dmu+NA2ngKndDQObIuIU4GuZOWPxBz4MvB8YjgiAU4GDTBbvf87MMYCI2Ab8XHXMRcA51fsBfiYiTq9efz0zXwNei4iDwJnAB4F7M/NH1Wdtrzn/L0bEXwHvAE4HHqjZty0zx6vXm4D7gI3AHwB/fxx/NklqV9Z7Seoc1nxpGjZ41NYy87GI+DXgt4DNEfG5zLxzhsMC2JKZnzpmY8Slb3LMHGBlZr76umMAXqvZNM7M37vNwKWZuSsirgJW1ez736kXmbkvIl6JiA8x+RfTFUhSh7LeS1LnsOZL0/MWLbW1iFgGvJKZtzM5pfKXj+Owh4HLIuLd1WcsrD5nGPj1iHhnTC6A9rGaYx4E/rjmvOfNcI7HgEsj4tSIOAP47Zp9ZwCj1f9IzFTQv8TkNM7arr8kdRzrvSR1Dmu+ND0bPGp3q4BdEdbZy3YAAAEFSURBVPFvTN5z+/mZDsjM54G/AB6MiGeBHUB3Zh4A/hp4CvgX4GXgcHXYJ4G+iHg2Ip4H/miGc3wL+DKwCxhi8i+WKZ8GnqzO8Z0Z4m5ncoqnUzcldbpVWO8lqVOswpov/ZTIzNIZpJYREadn5pGqu38vsCkz7y2Yp4/Jhd+O68kBkqTjY72XpM5hzVe7cAaP9NbcEBHPAM8B/wF8rVSQiNgA3AN8aqb3SpLeMuu9JHUOa77agjN41HEi4klg/us2fyIzv10ijySpPqz3ktQ5rPmSDR5JkiRJkqSW5y1akiRJkiRJLc4GjyRJkiRJUouzwSNJkiRJktTibPBIkiRJkiS1uP8D1glq5L4odfgAAAAASUVORK5CYII=",
            "text/plain": [
              "<Figure size 1152x576 with 6 Axes>"
            ]
          },
          "metadata": {
            "needs_background": "light"
          },
          "output_type": "display_data"
        }
      ],
      "source": [
        "#NOW WE ARE GOING TO CREATE A BOXPLOT FOR EACH CHARACTERISTIC DISTINGUISHING THE LEGENDARY FROM THE NON LEGENDARY\n",
        "plt.figure(figsize=(16,8))\n",
        "\n",
        "plt.subplot(2,3,1)\n",
        "sns.boxplot (x=df['is_legendary'], y=df['attack'], palette='Blues')\n",
        "plt.title('Attack')\n",
        "\n",
        "\n",
        "plt.subplot(2,3,2)\n",
        "sns.boxplot (x=df['is_legendary'], y=df['defense'], palette='Greens')\n",
        "plt.title('Defense')\n",
        "\n",
        "plt.subplot(2,3,3)\n",
        "sns.boxplot (x=df['is_legendary'], y=df['sp_attack'], palette='Purples')\n",
        "plt.title('Speed attack')\n",
        "\n",
        "plt.subplot(2,3,4)\n",
        "sns.boxplot (x=df['is_legendary'], y=df['sp_defense'], palette='Oranges')\n",
        "plt.title('Speed defense')\n",
        "\n",
        "plt.subplot(2,3,5)\n",
        "sns.boxplot (x=df['is_legendary'], y=df['speed'], palette='Set2')\n",
        "plt.title('Speed')\n",
        "\n",
        "\n",
        "plt.subplot(2,3,6)\n",
        "sns.boxplot (x=df['is_legendary'], y=df['hp'], palette='Set3')\n",
        "plt.title('Health points')\n",
        "\n",
        "plt.tight_layout()"
      ]
    },
    {
      "cell_type": "markdown",
      "metadata": {
        "dc": {
          "key": "40"
        },
        "deletable": false,
        "editable": false,
        "id": "DOVuFVVXTxxI",
        "run_control": {
          "frozen": true
        },
        "tags": [
          "context"
        ]
      },
      "source": [
        "## 6. Create a training/test split\n",
        "<p>As we might expect, legendary Pokémon outshine their ordinary counterparts in all fighter stats. Although we haven't formally tested a difference in means, the boxplots suggest a significant difference with respect to all six variables. Nonetheless, there are a number of outliers in each case, meaning that some legendary Pokémon are anomalously weak.</p>\n",
        "<p>We have now explored all of the predictor variables we will use to explain what makes a Pokémon legendary. Before fitting our model, we will split the <code>pokedex</code> into a training set (<code>pokedex_train</code>) and a test set (<code>pokedex_test</code>). Follow a 80%-20% split. This will allow us to test the model on unseen data.</p>"
      ]
    },
    {
      "cell_type": "code",
      "execution_count": null,
      "metadata": {
        "colab": {
          "base_uri": "https://localhost:8080/"
        },
        "id": "4JkImU4oTxxI",
        "outputId": "2bcc2099-bc49-488c-8779-78415d931b78"
      },
      "outputs": [
        {
          "name": "stderr",
          "output_type": "stream",
          "text": [
            "/usr/local/lib/python3.7/dist-packages/pandas/core/frame.py:3678: SettingWithCopyWarning: \n",
            "A value is trying to be set on a copy of a slice from a DataFrame.\n",
            "Try using .loc[row_indexer,col_indexer] = value instead\n",
            "\n",
            "See the caveats in the documentation: https://pandas.pydata.org/pandas-docs/stable/user_guide/indexing.html#returning-a-view-versus-a-copy\n",
            "  self[col] = igetitem(value, i)\n"
          ]
        }
      ],
      "source": [
        "\n",
        "types = ['attack' , 'defense' , 'height_m' , 'hp' , 'sp_attack' , 'sp_defense' , 'speed' , 'weight_kg']\n",
        "#WE CREATE A NEW DATAFRAME THAT CONTAINS ONLY THE COLUMNS OF TYPES THAT IS GOING TO BE OUR X VARIABLE AND THE y VARIABLE IS THE COLUMN 'is_legendary'\n",
        "\n",
        "X = df[types]\n",
        "y = df['is_legendary']\n",
        "#AS WE ARE WORKING WITH CATEGORICAL DATA WE HAVE TO DO SOME PREVIOUS WORK...\n",
        "#WE CREATE AS MANY NEW COLUMNS AS NUMBER OF POKEMON TYPES WE HAVE, SO NOW IF WE HAVE A GRASS POKEMON IT WILL TAKE THE VALUE 1 IN THE NEW COLUMN 'Grass'\n",
        "#AND 0 FOR THE REST OF NEW COLUMNS.\n",
        "\n",
        "#FIRST WE CREATE THE ENCODER\n",
        "from sklearn.preprocessing import OneHotEncoder\n",
        "encoder = OneHotEncoder()\n",
        "\n",
        "\n",
        "#WE CREATE THE ARRAY OF 0's AND 1's, AND WITH THIS CODE WE ARE ALREADY DELETING THE COLUMN TYPE\n",
        "types_values = encoder.fit_transform(df[['type']]).toarray()\n",
        "#WE ASSIGN THE NAME OF EACH TYPE TO THE COLUMNS\n",
        "types_names = encoder.categories_[0]\n",
        "\n",
        "#NOW WE ADD TO OUR DATA FRAME X THESE NEW COLUMNS WE HAVE CREATED\n",
        "X[types_names]= types_values\n",
        "\n",
        "#AND TO OUR PREVIOUS LIST types THE NAMES OF THESE COLUMNS\n",
        "types = types + list(types_names)\n",
        "\n",
        "#NOW WE ARE READY TO SPLIT THE DATA SET AS WE ARE ASKED TO...80% FOR TRAINING AND 20% FOR TESTING\n",
        "X_train, X_test, y_train, y_test = train_test_split(X, y, test_size=0.2, random_state=1812)\n",
        "\n"
      ]
    },
    {
      "cell_type": "markdown",
      "metadata": {
        "dc": {
          "key": "47"
        },
        "deletable": false,
        "editable": false,
        "id": "4o3TQONzTxxI",
        "run_control": {
          "frozen": true
        },
        "tags": [
          "context"
        ]
      },
      "source": [
        "## 7. Fit a decision tree\n",
        "<p>Now we have our training and test sets, we can go about building our classifier. But before we fit a random forest, we will fit a simple <strong>classification decision tree</strong>. This will give us a baseline fit against which to compare the results of the random forest, as well as an informative graphical representation of the model.</p>\n",
        "\n",
        "I warn you that you will find a technical problem if you just estimate your tree using the data as-is... What might be going on?\n",
        "\n",
        "Remember to plot your tree!"
      ]
    },
    {
      "cell_type": "code",
      "execution_count": null,
      "metadata": {
        "colab": {
          "base_uri": "https://localhost:8080/"
        },
        "dc": {
          "key": "47"
        },
        "id": "iZnLF98eTxxJ",
        "outputId": "94094a3b-a0fd-4348-857a-a947282836e1",
        "tags": [
          "sample_code"
        ],
        "vscode": {
          "languageId": "r"
        }
      },
      "outputs": [
        {
          "data": {
            "text/plain": [
              "array([0, 0, 0, 1, 0, 0, 0, 0, 0, 0, 1, 0, 1, 1, 0, 0, 0, 0, 0, 0, 0, 0,\n",
              "       0, 0, 0, 0, 0, 0, 0, 0, 0, 0, 0, 0, 0, 0, 0, 0, 0, 0, 0, 0, 0, 0,\n",
              "       0, 0, 0, 0, 0, 0, 0, 1, 0, 0, 0, 0, 0, 0, 0, 0, 0, 0, 0, 0, 0, 0,\n",
              "       0, 1, 0, 0, 0, 0, 1, 0, 0, 0, 0, 0, 0, 0, 0, 0, 0, 0, 0, 0, 0, 0,\n",
              "       0, 0, 0, 0, 0, 0, 1, 0, 0, 0, 0, 0, 0, 0, 0, 0, 0, 0, 0, 0, 0, 0,\n",
              "       0, 0, 0, 0, 0, 0, 0, 0, 0, 0, 0, 0, 0, 0, 0, 0, 0, 0, 0, 0, 0, 0,\n",
              "       0, 0, 0, 0, 0, 0, 0, 0, 1, 0, 0, 0, 0, 0, 0, 0, 0, 0, 0, 0, 0, 0,\n",
              "       0, 0, 0, 0, 0, 0, 0])"
            ]
          },
          "execution_count": 24,
          "metadata": {},
          "output_type": "execute_result"
        }
      ],
      "source": [
        "#IMPORT PACKAGES.\n",
        "from sklearn.tree import DecisionTreeClassifier\n",
        "from sklearn.metrics import accuracy_score\n",
        "from sklearn.metrics import roc_auc_score\n",
        "\n",
        "#FIRST WE CREATE AN OBJECT WITH THE TREE CLASSIFIER THAT IS THE MODEL WE WANT TO FIT, SO WE CAN AFTERWARDS APPLY IT TO OUR DATA\n",
        "tree_clf = DecisionTreeClassifier(max_depth=3 , random_state=27)\n",
        "\n",
        "#WE FIT THE MODEL IN THE TRAINING SET WE HAVE ALREADY CREATED: X_train, y_train, FOR THAT WE USE THE COMMAND: .fit\n",
        "tree_clf.fit(X_train, y_train)\n",
        "\n",
        "#NOW LETS PREDICT WHICH WILL BE THE RESPONSE FOR THE TEST SET WE HAVE CREATED\n",
        "predictions = tree_clf.predict(X_test)\n",
        "predictions\n"
      ]
    },
    {
      "cell_type": "code",
      "execution_count": null,
      "metadata": {
        "id": "DOdrMSZgSRlN"
      },
      "outputs": [],
      "source": [
        "#SO FOR THE POKEMONS INCLUDED IN THE TEST SET, THIS ARRAY IS INDICATING WHICH ONES ARE LEGENDARY: 1 AND WHICH ONES ARE NOT:0\n",
        "#SO FOR EXAMPLE THE FIRST ONE SHOULD NOT BE LEGENDARY...LETS CHECK IT"
      ]
    },
    {
      "cell_type": "code",
      "execution_count": null,
      "metadata": {
        "colab": {
          "base_uri": "https://localhost:8080/",
          "height": 173
        },
        "id": "PxSzYYtDQICa",
        "outputId": "d73c0ba8-21a7-440a-f2ee-91f25cbb6144"
      },
      "outputs": [
        {
          "data": {
            "text/html": [
              "\n",
              "  <div id=\"df-f630dc78-1b6e-44a8-8ec5-94598893f0c2\">\n",
              "    <div class=\"colab-df-container\">\n",
              "      <div>\n",
              "<style scoped>\n",
              "    .dataframe tbody tr th:only-of-type {\n",
              "        vertical-align: middle;\n",
              "    }\n",
              "\n",
              "    .dataframe tbody tr th {\n",
              "        vertical-align: top;\n",
              "    }\n",
              "\n",
              "    .dataframe thead th {\n",
              "        text-align: right;\n",
              "    }\n",
              "</style>\n",
              "<table border=\"1\" class=\"dataframe\">\n",
              "  <thead>\n",
              "    <tr style=\"text-align: right;\">\n",
              "      <th></th>\n",
              "      <th>attack</th>\n",
              "      <th>defense</th>\n",
              "      <th>height_m</th>\n",
              "      <th>hp</th>\n",
              "      <th>sp_attack</th>\n",
              "      <th>sp_defense</th>\n",
              "      <th>speed</th>\n",
              "      <th>weight_kg</th>\n",
              "      <th>bug</th>\n",
              "      <th>dark</th>\n",
              "      <th>...</th>\n",
              "      <th>ghost</th>\n",
              "      <th>grass</th>\n",
              "      <th>ground</th>\n",
              "      <th>ice</th>\n",
              "      <th>normal</th>\n",
              "      <th>poison</th>\n",
              "      <th>psychic</th>\n",
              "      <th>rock</th>\n",
              "      <th>steel</th>\n",
              "      <th>water</th>\n",
              "    </tr>\n",
              "  </thead>\n",
              "  <tbody>\n",
              "    <tr>\n",
              "      <th>615</th>\n",
              "      <td>40</td>\n",
              "      <td>85</td>\n",
              "      <td>0.4</td>\n",
              "      <td>50</td>\n",
              "      <td>40</td>\n",
              "      <td>65</td>\n",
              "      <td>25</td>\n",
              "      <td>7.7</td>\n",
              "      <td>1.0</td>\n",
              "      <td>0.0</td>\n",
              "      <td>...</td>\n",
              "      <td>0.0</td>\n",
              "      <td>0.0</td>\n",
              "      <td>0.0</td>\n",
              "      <td>0.0</td>\n",
              "      <td>0.0</td>\n",
              "      <td>0.0</td>\n",
              "      <td>0.0</td>\n",
              "      <td>0.0</td>\n",
              "      <td>0.0</td>\n",
              "      <td>0.0</td>\n",
              "    </tr>\n",
              "  </tbody>\n",
              "</table>\n",
              "<p>1 rows × 26 columns</p>\n",
              "</div>\n",
              "      <button class=\"colab-df-convert\" onclick=\"convertToInteractive('df-f630dc78-1b6e-44a8-8ec5-94598893f0c2')\"\n",
              "              title=\"Convert this dataframe to an interactive table.\"\n",
              "              style=\"display:none;\">\n",
              "        \n",
              "  <svg xmlns=\"http://www.w3.org/2000/svg\" height=\"24px\"viewBox=\"0 0 24 24\"\n",
              "       width=\"24px\">\n",
              "    <path d=\"M0 0h24v24H0V0z\" fill=\"none\"/>\n",
              "    <path d=\"M18.56 5.44l.94 2.06.94-2.06 2.06-.94-2.06-.94-.94-2.06-.94 2.06-2.06.94zm-11 1L8.5 8.5l.94-2.06 2.06-.94-2.06-.94L8.5 2.5l-.94 2.06-2.06.94zm10 10l.94 2.06.94-2.06 2.06-.94-2.06-.94-.94-2.06-.94 2.06-2.06.94z\"/><path d=\"M17.41 7.96l-1.37-1.37c-.4-.4-.92-.59-1.43-.59-.52 0-1.04.2-1.43.59L10.3 9.45l-7.72 7.72c-.78.78-.78 2.05 0 2.83L4 21.41c.39.39.9.59 1.41.59.51 0 1.02-.2 1.41-.59l7.78-7.78 2.81-2.81c.8-.78.8-2.07 0-2.86zM5.41 20L4 18.59l7.72-7.72 1.47 1.35L5.41 20z\"/>\n",
              "  </svg>\n",
              "      </button>\n",
              "      \n",
              "  <style>\n",
              "    .colab-df-container {\n",
              "      display:flex;\n",
              "      flex-wrap:wrap;\n",
              "      gap: 12px;\n",
              "    }\n",
              "\n",
              "    .colab-df-convert {\n",
              "      background-color: #E8F0FE;\n",
              "      border: none;\n",
              "      border-radius: 50%;\n",
              "      cursor: pointer;\n",
              "      display: none;\n",
              "      fill: #1967D2;\n",
              "      height: 32px;\n",
              "      padding: 0 0 0 0;\n",
              "      width: 32px;\n",
              "    }\n",
              "\n",
              "    .colab-df-convert:hover {\n",
              "      background-color: #E2EBFA;\n",
              "      box-shadow: 0px 1px 2px rgba(60, 64, 67, 0.3), 0px 1px 3px 1px rgba(60, 64, 67, 0.15);\n",
              "      fill: #174EA6;\n",
              "    }\n",
              "\n",
              "    [theme=dark] .colab-df-convert {\n",
              "      background-color: #3B4455;\n",
              "      fill: #D2E3FC;\n",
              "    }\n",
              "\n",
              "    [theme=dark] .colab-df-convert:hover {\n",
              "      background-color: #434B5C;\n",
              "      box-shadow: 0px 1px 3px 1px rgba(0, 0, 0, 0.15);\n",
              "      filter: drop-shadow(0px 1px 2px rgba(0, 0, 0, 0.3));\n",
              "      fill: #FFFFFF;\n",
              "    }\n",
              "  </style>\n",
              "\n",
              "      <script>\n",
              "        const buttonEl =\n",
              "          document.querySelector('#df-f630dc78-1b6e-44a8-8ec5-94598893f0c2 button.colab-df-convert');\n",
              "        buttonEl.style.display =\n",
              "          google.colab.kernel.accessAllowed ? 'block' : 'none';\n",
              "\n",
              "        async function convertToInteractive(key) {\n",
              "          const element = document.querySelector('#df-f630dc78-1b6e-44a8-8ec5-94598893f0c2');\n",
              "          const dataTable =\n",
              "            await google.colab.kernel.invokeFunction('convertToInteractive',\n",
              "                                                     [key], {});\n",
              "          if (!dataTable) return;\n",
              "\n",
              "          const docLinkHtml = 'Like what you see? Visit the ' +\n",
              "            '<a target=\"_blank\" href=https://colab.research.google.com/notebooks/data_table.ipynb>data table notebook</a>'\n",
              "            + ' to learn more about interactive tables.';\n",
              "          element.innerHTML = '';\n",
              "          dataTable['output_type'] = 'display_data';\n",
              "          await google.colab.output.renderOutput(dataTable, element);\n",
              "          const docLink = document.createElement('div');\n",
              "          docLink.innerHTML = docLinkHtml;\n",
              "          element.appendChild(docLink);\n",
              "        }\n",
              "      </script>\n",
              "    </div>\n",
              "  </div>\n",
              "  "
            ],
            "text/plain": [
              "     attack  defense  height_m  hp  sp_attack  sp_defense  speed  weight_kg  \\\n",
              "615      40       85       0.4  50         40          65     25        7.7   \n",
              "\n",
              "     bug  dark  ...  ghost  grass  ground  ice  normal  poison  psychic  rock  \\\n",
              "615  1.0   0.0  ...    0.0    0.0     0.0  0.0     0.0     0.0      0.0   0.0   \n",
              "\n",
              "     steel  water  \n",
              "615    0.0    0.0  \n",
              "\n",
              "[1 rows x 26 columns]"
            ]
          },
          "execution_count": 26,
          "metadata": {},
          "output_type": "execute_result"
        }
      ],
      "source": [
        "#LETS SEE WHICH IS THE FIRST POKEMON INCLUDED IN THE TEST SET\n",
        "X_test.head(1)"
      ]
    },
    {
      "cell_type": "code",
      "execution_count": null,
      "metadata": {
        "colab": {
          "base_uri": "https://localhost:8080/"
        },
        "id": "WxtBVt4_RJXX",
        "outputId": "b541b126-0255-406e-fae9-393521e35c01"
      },
      "outputs": [
        {
          "data": {
            "text/plain": [
              "0"
            ]
          },
          "execution_count": 27,
          "metadata": {},
          "output_type": "execute_result"
        }
      ],
      "source": [
        "#THE VALUE OF THE COLUMN 'is_legendary' FOR THIS POKEMON SHOULD BE 0...\n",
        "df.iloc[614, df.columns.get_loc('is_legendary')]\n",
        "\n",
        "#IT SEEMS TO WORK :)"
      ]
    },
    {
      "cell_type": "code",
      "execution_count": null,
      "metadata": {
        "colab": {
          "base_uri": "https://localhost:8080/"
        },
        "id": "MLbw3TjCGraR",
        "outputId": "855abfc8-fcca-41f8-fbaa-dbfd151cc143"
      },
      "outputs": [
        {
          "name": "stdout",
          "output_type": "stream",
          "text": [
            "The accuracy of this model is: 0.906832298136646\n"
          ]
        }
      ],
      "source": [
        "# HOW GOOD IS OUR CLASSIFIER? TO SEE THIS WE HAVE TO LOOK FOR THE MODEL ACCURACY, THAT TELLS US HOW OFTEN THE CLASSIFIER IS CORRECT\n",
        "tree_acc = accuracy_score(y_test, predictions)\n",
        "print(\"The accuracy of this model is:\", tree_acc)"
      ]
    },
    {
      "cell_type": "code",
      "execution_count": null,
      "metadata": {
        "colab": {
          "base_uri": "https://localhost:8080/",
          "height": 598
        },
        "id": "J7db_UJ5Hqt3",
        "outputId": "a654eab7-e1d0-4867-a968-04f17d2964ce"
      },
      "outputs": [
        {
          "data": {
            "image/svg+xml": [
              "<?xml version=\"1.0\" encoding=\"UTF-8\" standalone=\"no\"?>\n",
              "<!DOCTYPE svg PUBLIC \"-//W3C//DTD SVG 1.1//EN\"\n",
              " \"http://www.w3.org/Graphics/SVG/1.1/DTD/svg11.dtd\">\n",
              "<!-- Generated by graphviz version 2.40.1 (20161225.0304)\n",
              " -->\n",
              "<!-- Title: Tree Pages: 1 -->\n",
              "<svg width=\"848pt\" height=\"433pt\"\n",
              " viewBox=\"0.00 0.00 848.00 433.00\" xmlns=\"http://www.w3.org/2000/svg\" xmlns:xlink=\"http://www.w3.org/1999/xlink\">\n",
              "<g id=\"graph0\" class=\"graph\" transform=\"scale(1 1) rotate(0) translate(4 429)\">\n",
              "<title>Tree</title>\n",
              "<polygon fill=\"#ffffff\" stroke=\"transparent\" points=\"-4,4 -4,-429 844,-429 844,4 -4,4\"/>\n",
              "<!-- 0 -->\n",
              "<g id=\"node1\" class=\"node\">\n",
              "<title>0</title>\n",
              "<path fill=\"#e88f4e\" stroke=\"#000000\" d=\"M586,-425C586,-425 452,-425 452,-425 446,-425 440,-419 440,-413 440,-413 440,-354 440,-354 440,-348 446,-342 452,-342 452,-342 586,-342 586,-342 592,-342 598,-348 598,-354 598,-354 598,-413 598,-413 598,-419 592,-425 586,-425\"/>\n",
              "<text text-anchor=\"middle\" x=\"519\" y=\"-409.8\" font-family=\"Helvetica,sans-Serif\" font-size=\"14.00\" fill=\"#000000\">height_m &lt;= 2.8</text>\n",
              "<text text-anchor=\"middle\" x=\"519\" y=\"-394.8\" font-family=\"Helvetica,sans-Serif\" font-size=\"14.00\" fill=\"#000000\">gini = 0.175</text>\n",
              "<text text-anchor=\"middle\" x=\"519\" y=\"-379.8\" font-family=\"Helvetica,sans-Serif\" font-size=\"14.00\" fill=\"#000000\">samples = 640</text>\n",
              "<text text-anchor=\"middle\" x=\"519\" y=\"-364.8\" font-family=\"Helvetica,sans-Serif\" font-size=\"14.00\" fill=\"#000000\">value = [578, 62]</text>\n",
              "<text text-anchor=\"middle\" x=\"519\" y=\"-349.8\" font-family=\"Helvetica,sans-Serif\" font-size=\"14.00\" fill=\"#000000\">class = No Legendary</text>\n",
              "</g>\n",
              "<!-- 1 -->\n",
              "<g id=\"node2\" class=\"node\">\n",
              "<title>1</title>\n",
              "<path fill=\"#e78a48\" stroke=\"#000000\" d=\"M498,-306C498,-306 364,-306 364,-306 358,-306 352,-300 352,-294 352,-294 352,-235 352,-235 352,-229 358,-223 364,-223 364,-223 498,-223 498,-223 504,-223 510,-229 510,-235 510,-235 510,-294 510,-294 510,-300 504,-306 498,-306\"/>\n",
              "<text text-anchor=\"middle\" x=\"431\" y=\"-290.8\" font-family=\"Helvetica,sans-Serif\" font-size=\"14.00\" fill=\"#000000\">sp_attack &lt;= 117.5</text>\n",
              "<text text-anchor=\"middle\" x=\"431\" y=\"-275.8\" font-family=\"Helvetica,sans-Serif\" font-size=\"14.00\" fill=\"#000000\">gini = 0.127</text>\n",
              "<text text-anchor=\"middle\" x=\"431\" y=\"-260.8\" font-family=\"Helvetica,sans-Serif\" font-size=\"14.00\" fill=\"#000000\">samples = 615</text>\n",
              "<text text-anchor=\"middle\" x=\"431\" y=\"-245.8\" font-family=\"Helvetica,sans-Serif\" font-size=\"14.00\" fill=\"#000000\">value = [573, 42]</text>\n",
              "<text text-anchor=\"middle\" x=\"431\" y=\"-230.8\" font-family=\"Helvetica,sans-Serif\" font-size=\"14.00\" fill=\"#000000\">class = No Legendary</text>\n",
              "</g>\n",
              "<!-- 0&#45;&gt;1 -->\n",
              "<g id=\"edge1\" class=\"edge\">\n",
              "<title>0&#45;&gt;1</title>\n",
              "<path fill=\"none\" stroke=\"#000000\" d=\"M488.2219,-341.8796C481.6949,-333.0534 474.7401,-323.6485 468.0092,-314.5466\"/>\n",
              "<polygon fill=\"#000000\" stroke=\"#000000\" points=\"470.6695,-312.2574 461.9095,-306.2981 465.0412,-316.4195 470.6695,-312.2574\"/>\n",
              "<text text-anchor=\"middle\" x=\"458.2068\" y=\"-327.3224\" font-family=\"Helvetica,sans-Serif\" font-size=\"14.00\" fill=\"#000000\">True</text>\n",
              "</g>\n",
              "<!-- 8 -->\n",
              "<g id=\"node9\" class=\"node\">\n",
              "<title>8</title>\n",
              "<path fill=\"#6ab6ec\" stroke=\"#000000\" d=\"M663,-306C663,-306 551,-306 551,-306 545,-306 539,-300 539,-294 539,-294 539,-235 539,-235 539,-229 545,-223 551,-223 551,-223 663,-223 663,-223 669,-223 675,-229 675,-235 675,-235 675,-294 675,-294 675,-300 669,-306 663,-306\"/>\n",
              "<text text-anchor=\"middle\" x=\"607\" y=\"-290.8\" font-family=\"Helvetica,sans-Serif\" font-size=\"14.00\" fill=\"#000000\">hp &lt;= 84.0</text>\n",
              "<text text-anchor=\"middle\" x=\"607\" y=\"-275.8\" font-family=\"Helvetica,sans-Serif\" font-size=\"14.00\" fill=\"#000000\">gini = 0.32</text>\n",
              "<text text-anchor=\"middle\" x=\"607\" y=\"-260.8\" font-family=\"Helvetica,sans-Serif\" font-size=\"14.00\" fill=\"#000000\">samples = 25</text>\n",
              "<text text-anchor=\"middle\" x=\"607\" y=\"-245.8\" font-family=\"Helvetica,sans-Serif\" font-size=\"14.00\" fill=\"#000000\">value = [5, 20]</text>\n",
              "<text text-anchor=\"middle\" x=\"607\" y=\"-230.8\" font-family=\"Helvetica,sans-Serif\" font-size=\"14.00\" fill=\"#000000\">class = Legendary</text>\n",
              "</g>\n",
              "<!-- 0&#45;&gt;8 -->\n",
              "<g id=\"edge8\" class=\"edge\">\n",
              "<title>0&#45;&gt;8</title>\n",
              "<path fill=\"none\" stroke=\"#000000\" d=\"M549.7781,-341.8796C556.3051,-333.0534 563.2599,-323.6485 569.9908,-314.5466\"/>\n",
              "<polygon fill=\"#000000\" stroke=\"#000000\" points=\"572.9588,-316.4195 576.0905,-306.2981 567.3305,-312.2574 572.9588,-316.4195\"/>\n",
              "<text text-anchor=\"middle\" x=\"579.7932\" y=\"-327.3224\" font-family=\"Helvetica,sans-Serif\" font-size=\"14.00\" fill=\"#000000\">False</text>\n",
              "</g>\n",
              "<!-- 2 -->\n",
              "<g id=\"node3\" class=\"node\">\n",
              "<title>2</title>\n",
              "<path fill=\"#e68742\" stroke=\"#000000\" d=\"M322,-187C322,-187 188,-187 188,-187 182,-187 176,-181 176,-175 176,-175 176,-116 176,-116 176,-110 182,-104 188,-104 188,-104 322,-104 322,-104 328,-104 334,-110 334,-116 334,-116 334,-175 334,-175 334,-181 328,-187 322,-187\"/>\n",
              "<text text-anchor=\"middle\" x=\"255\" y=\"-171.8\" font-family=\"Helvetica,sans-Serif\" font-size=\"14.00\" fill=\"#000000\">defense &lt;= 84.5</text>\n",
              "<text text-anchor=\"middle\" x=\"255\" y=\"-156.8\" font-family=\"Helvetica,sans-Serif\" font-size=\"14.00\" fill=\"#000000\">gini = 0.082</text>\n",
              "<text text-anchor=\"middle\" x=\"255\" y=\"-141.8\" font-family=\"Helvetica,sans-Serif\" font-size=\"14.00\" fill=\"#000000\">samples = 562</text>\n",
              "<text text-anchor=\"middle\" x=\"255\" y=\"-126.8\" font-family=\"Helvetica,sans-Serif\" font-size=\"14.00\" fill=\"#000000\">value = [538, 24]</text>\n",
              "<text text-anchor=\"middle\" x=\"255\" y=\"-111.8\" font-family=\"Helvetica,sans-Serif\" font-size=\"14.00\" fill=\"#000000\">class = No Legendary</text>\n",
              "</g>\n",
              "<!-- 1&#45;&gt;2 -->\n",
              "<g id=\"edge2\" class=\"edge\">\n",
              "<title>1&#45;&gt;2</title>\n",
              "<path fill=\"none\" stroke=\"#000000\" d=\"M369.4437,-222.8796C355.1082,-213.1868 339.7405,-202.7961 325.0675,-192.8752\"/>\n",
              "<polygon fill=\"#000000\" stroke=\"#000000\" points=\"326.7661,-189.7987 316.5215,-187.0969 322.8452,-195.5976 326.7661,-189.7987\"/>\n",
              "</g>\n",
              "<!-- 5 -->\n",
              "<g id=\"node6\" class=\"node\">\n",
              "<title>5</title>\n",
              "<path fill=\"#f2c29f\" stroke=\"#000000\" d=\"M498,-187C498,-187 364,-187 364,-187 358,-187 352,-181 352,-175 352,-175 352,-116 352,-116 352,-110 358,-104 364,-104 364,-104 498,-104 498,-104 504,-104 510,-110 510,-116 510,-116 510,-175 510,-175 510,-181 504,-187 498,-187\"/>\n",
              "<text text-anchor=\"middle\" x=\"431\" y=\"-171.8\" font-family=\"Helvetica,sans-Serif\" font-size=\"14.00\" fill=\"#000000\">attack &lt;= 82.5</text>\n",
              "<text text-anchor=\"middle\" x=\"431\" y=\"-156.8\" font-family=\"Helvetica,sans-Serif\" font-size=\"14.00\" fill=\"#000000\">gini = 0.449</text>\n",
              "<text text-anchor=\"middle\" x=\"431\" y=\"-141.8\" font-family=\"Helvetica,sans-Serif\" font-size=\"14.00\" fill=\"#000000\">samples = 53</text>\n",
              "<text text-anchor=\"middle\" x=\"431\" y=\"-126.8\" font-family=\"Helvetica,sans-Serif\" font-size=\"14.00\" fill=\"#000000\">value = [35, 18]</text>\n",
              "<text text-anchor=\"middle\" x=\"431\" y=\"-111.8\" font-family=\"Helvetica,sans-Serif\" font-size=\"14.00\" fill=\"#000000\">class = No Legendary</text>\n",
              "</g>\n",
              "<!-- 1&#45;&gt;5 -->\n",
              "<g id=\"edge5\" class=\"edge\">\n",
              "<title>1&#45;&gt;5</title>\n",
              "<path fill=\"none\" stroke=\"#000000\" d=\"M431,-222.8796C431,-214.6838 431,-205.9891 431,-197.5013\"/>\n",
              "<polygon fill=\"#000000\" stroke=\"#000000\" points=\"434.5001,-197.298 431,-187.2981 427.5001,-197.2981 434.5001,-197.298\"/>\n",
              "</g>\n",
              "<!-- 3 -->\n",
              "<g id=\"node4\" class=\"node\">\n",
              "<title>3</title>\n",
              "<path fill=\"#e5823a\" stroke=\"#000000\" d=\"M146,-68C146,-68 12,-68 12,-68 6,-68 0,-62 0,-56 0,-56 0,-12 0,-12 0,-6 6,0 12,0 12,0 146,0 146,0 152,0 158,-6 158,-12 158,-12 158,-56 158,-56 158,-62 152,-68 146,-68\"/>\n",
              "<text text-anchor=\"middle\" x=\"79\" y=\"-52.8\" font-family=\"Helvetica,sans-Serif\" font-size=\"14.00\" fill=\"#000000\">gini = 0.01</text>\n",
              "<text text-anchor=\"middle\" x=\"79\" y=\"-37.8\" font-family=\"Helvetica,sans-Serif\" font-size=\"14.00\" fill=\"#000000\">samples = 404</text>\n",
              "<text text-anchor=\"middle\" x=\"79\" y=\"-22.8\" font-family=\"Helvetica,sans-Serif\" font-size=\"14.00\" fill=\"#000000\">value = [402, 2]</text>\n",
              "<text text-anchor=\"middle\" x=\"79\" y=\"-7.8\" font-family=\"Helvetica,sans-Serif\" font-size=\"14.00\" fill=\"#000000\">class = No Legendary</text>\n",
              "</g>\n",
              "<!-- 2&#45;&gt;3 -->\n",
              "<g id=\"edge3\" class=\"edge\">\n",
              "<title>2&#45;&gt;3</title>\n",
              "<path fill=\"none\" stroke=\"#000000\" d=\"M189.4641,-103.9815C173.7138,-94.0034 156.9346,-83.3733 141.3346,-73.4904\"/>\n",
              "<polygon fill=\"#000000\" stroke=\"#000000\" points=\"143.1239,-70.4807 132.8033,-68.0856 139.3777,-76.394 143.1239,-70.4807\"/>\n",
              "</g>\n",
              "<!-- 4 -->\n",
              "<g id=\"node5\" class=\"node\">\n",
              "<title>4</title>\n",
              "<path fill=\"#e99559\" stroke=\"#000000\" d=\"M322,-68C322,-68 188,-68 188,-68 182,-68 176,-62 176,-56 176,-56 176,-12 176,-12 176,-6 182,0 188,0 188,0 322,0 322,0 328,0 334,-6 334,-12 334,-12 334,-56 334,-56 334,-62 328,-68 322,-68\"/>\n",
              "<text text-anchor=\"middle\" x=\"255\" y=\"-52.8\" font-family=\"Helvetica,sans-Serif\" font-size=\"14.00\" fill=\"#000000\">gini = 0.24</text>\n",
              "<text text-anchor=\"middle\" x=\"255\" y=\"-37.8\" font-family=\"Helvetica,sans-Serif\" font-size=\"14.00\" fill=\"#000000\">samples = 158</text>\n",
              "<text text-anchor=\"middle\" x=\"255\" y=\"-22.8\" font-family=\"Helvetica,sans-Serif\" font-size=\"14.00\" fill=\"#000000\">value = [136, 22]</text>\n",
              "<text text-anchor=\"middle\" x=\"255\" y=\"-7.8\" font-family=\"Helvetica,sans-Serif\" font-size=\"14.00\" fill=\"#000000\">class = No Legendary</text>\n",
              "</g>\n",
              "<!-- 2&#45;&gt;4 -->\n",
              "<g id=\"edge4\" class=\"edge\">\n",
              "<title>2&#45;&gt;4</title>\n",
              "<path fill=\"none\" stroke=\"#000000\" d=\"M255,-103.9815C255,-95.618 255,-86.7965 255,-78.3409\"/>\n",
              "<polygon fill=\"#000000\" stroke=\"#000000\" points=\"258.5001,-78.2636 255,-68.2637 251.5001,-78.2637 258.5001,-78.2636\"/>\n",
              "</g>\n",
              "<!-- 6 -->\n",
              "<g id=\"node7\" class=\"node\">\n",
              "<title>6</title>\n",
              "<path fill=\"#e68843\" stroke=\"#000000\" d=\"M498,-68C498,-68 364,-68 364,-68 358,-68 352,-62 352,-56 352,-56 352,-12 352,-12 352,-6 358,0 364,0 364,0 498,0 498,0 504,0 510,-6 510,-12 510,-12 510,-56 510,-56 510,-62 504,-68 498,-68\"/>\n",
              "<text text-anchor=\"middle\" x=\"431\" y=\"-52.8\" font-family=\"Helvetica,sans-Serif\" font-size=\"14.00\" fill=\"#000000\">gini = 0.095</text>\n",
              "<text text-anchor=\"middle\" x=\"431\" y=\"-37.8\" font-family=\"Helvetica,sans-Serif\" font-size=\"14.00\" fill=\"#000000\">samples = 20</text>\n",
              "<text text-anchor=\"middle\" x=\"431\" y=\"-22.8\" font-family=\"Helvetica,sans-Serif\" font-size=\"14.00\" fill=\"#000000\">value = [19, 1]</text>\n",
              "<text text-anchor=\"middle\" x=\"431\" y=\"-7.8\" font-family=\"Helvetica,sans-Serif\" font-size=\"14.00\" fill=\"#000000\">class = No Legendary</text>\n",
              "</g>\n",
              "<!-- 5&#45;&gt;6 -->\n",
              "<g id=\"edge6\" class=\"edge\">\n",
              "<title>5&#45;&gt;6</title>\n",
              "<path fill=\"none\" stroke=\"#000000\" d=\"M431,-103.9815C431,-95.618 431,-86.7965 431,-78.3409\"/>\n",
              "<polygon fill=\"#000000\" stroke=\"#000000\" points=\"434.5001,-78.2636 431,-68.2637 427.5001,-78.2637 434.5001,-78.2636\"/>\n",
              "</g>\n",
              "<!-- 7 -->\n",
              "<g id=\"node8\" class=\"node\">\n",
              "<title>7</title>\n",
              "<path fill=\"#f3f9fd\" stroke=\"#000000\" d=\"M652,-68C652,-68 540,-68 540,-68 534,-68 528,-62 528,-56 528,-56 528,-12 528,-12 528,-6 534,0 540,0 540,0 652,0 652,0 658,0 664,-6 664,-12 664,-12 664,-56 664,-56 664,-62 658,-68 652,-68\"/>\n",
              "<text text-anchor=\"middle\" x=\"596\" y=\"-52.8\" font-family=\"Helvetica,sans-Serif\" font-size=\"14.00\" fill=\"#000000\">gini = 0.5</text>\n",
              "<text text-anchor=\"middle\" x=\"596\" y=\"-37.8\" font-family=\"Helvetica,sans-Serif\" font-size=\"14.00\" fill=\"#000000\">samples = 33</text>\n",
              "<text text-anchor=\"middle\" x=\"596\" y=\"-22.8\" font-family=\"Helvetica,sans-Serif\" font-size=\"14.00\" fill=\"#000000\">value = [16, 17]</text>\n",
              "<text text-anchor=\"middle\" x=\"596\" y=\"-7.8\" font-family=\"Helvetica,sans-Serif\" font-size=\"14.00\" fill=\"#000000\">class = Legendary</text>\n",
              "</g>\n",
              "<!-- 5&#45;&gt;7 -->\n",
              "<g id=\"edge7\" class=\"edge\">\n",
              "<title>5&#45;&gt;7</title>\n",
              "<path fill=\"none\" stroke=\"#000000\" d=\"M492.4399,-103.9815C507.0691,-94.0957 522.6451,-83.5701 537.1548,-73.7651\"/>\n",
              "<polygon fill=\"#000000\" stroke=\"#000000\" points=\"539.2335,-76.5847 545.5594,-68.0856 535.3141,-70.7848 539.2335,-76.5847\"/>\n",
              "</g>\n",
              "<!-- 9 -->\n",
              "<g id=\"node10\" class=\"node\">\n",
              "<title>9</title>\n",
              "<path fill=\"#e58139\" stroke=\"#000000\" d=\"M674,-179.5C674,-179.5 540,-179.5 540,-179.5 534,-179.5 528,-173.5 528,-167.5 528,-167.5 528,-123.5 528,-123.5 528,-117.5 534,-111.5 540,-111.5 540,-111.5 674,-111.5 674,-111.5 680,-111.5 686,-117.5 686,-123.5 686,-123.5 686,-167.5 686,-167.5 686,-173.5 680,-179.5 674,-179.5\"/>\n",
              "<text text-anchor=\"middle\" x=\"607\" y=\"-164.3\" font-family=\"Helvetica,sans-Serif\" font-size=\"14.00\" fill=\"#000000\">gini = 0.0</text>\n",
              "<text text-anchor=\"middle\" x=\"607\" y=\"-149.3\" font-family=\"Helvetica,sans-Serif\" font-size=\"14.00\" fill=\"#000000\">samples = 5</text>\n",
              "<text text-anchor=\"middle\" x=\"607\" y=\"-134.3\" font-family=\"Helvetica,sans-Serif\" font-size=\"14.00\" fill=\"#000000\">value = [5, 0]</text>\n",
              "<text text-anchor=\"middle\" x=\"607\" y=\"-119.3\" font-family=\"Helvetica,sans-Serif\" font-size=\"14.00\" fill=\"#000000\">class = No Legendary</text>\n",
              "</g>\n",
              "<!-- 8&#45;&gt;9 -->\n",
              "<g id=\"edge9\" class=\"edge\">\n",
              "<title>8&#45;&gt;9</title>\n",
              "<path fill=\"none\" stroke=\"#000000\" d=\"M607,-222.8796C607,-212.2134 607,-200.7021 607,-189.9015\"/>\n",
              "<polygon fill=\"#000000\" stroke=\"#000000\" points=\"610.5001,-189.8149 607,-179.8149 603.5001,-189.815 610.5001,-189.8149\"/>\n",
              "</g>\n",
              "<!-- 10 -->\n",
              "<g id=\"node11\" class=\"node\">\n",
              "<title>10</title>\n",
              "<path fill=\"#399de5\" stroke=\"#000000\" d=\"M828,-179.5C828,-179.5 716,-179.5 716,-179.5 710,-179.5 704,-173.5 704,-167.5 704,-167.5 704,-123.5 704,-123.5 704,-117.5 710,-111.5 716,-111.5 716,-111.5 828,-111.5 828,-111.5 834,-111.5 840,-117.5 840,-123.5 840,-123.5 840,-167.5 840,-167.5 840,-173.5 834,-179.5 828,-179.5\"/>\n",
              "<text text-anchor=\"middle\" x=\"772\" y=\"-164.3\" font-family=\"Helvetica,sans-Serif\" font-size=\"14.00\" fill=\"#000000\">gini = 0.0</text>\n",
              "<text text-anchor=\"middle\" x=\"772\" y=\"-149.3\" font-family=\"Helvetica,sans-Serif\" font-size=\"14.00\" fill=\"#000000\">samples = 20</text>\n",
              "<text text-anchor=\"middle\" x=\"772\" y=\"-134.3\" font-family=\"Helvetica,sans-Serif\" font-size=\"14.00\" fill=\"#000000\">value = [0, 20]</text>\n",
              "<text text-anchor=\"middle\" x=\"772\" y=\"-119.3\" font-family=\"Helvetica,sans-Serif\" font-size=\"14.00\" fill=\"#000000\">class = Legendary</text>\n",
              "</g>\n",
              "<!-- 8&#45;&gt;10 -->\n",
              "<g id=\"edge10\" class=\"edge\">\n",
              "<title>8&#45;&gt;10</title>\n",
              "<path fill=\"none\" stroke=\"#000000\" d=\"M664.709,-222.8796C681.407,-210.8368 699.5987,-197.7167 716.1793,-185.7586\"/>\n",
              "<polygon fill=\"#000000\" stroke=\"#000000\" points=\"718.6232,-188.3113 724.6865,-179.623 714.5285,-182.6339 718.6232,-188.3113\"/>\n",
              "</g>\n",
              "</g>\n",
              "</svg>\n"
            ],
            "text/plain": [
              "<graphviz.files.Source at 0x7effb8759790>"
            ]
          },
          "execution_count": 29,
          "metadata": {},
          "output_type": "execute_result"
        }
      ],
      "source": [
        "# FOR A MORE VISUAL RESULT WE ARE GOING TO PLOT OUR DECISION TREE\n",
        "#FIRST WAY: graphviz\n",
        "\n",
        "#WE NEED TO IMPORT THE FUNCTION THAT CONVERTS THE DECISION TREE CLASSIFIER INTO AN IMAGE\n",
        "from sklearn.tree import export_graphviz\n",
        "\n",
        "tree = export_graphviz(tree_clf, filled=True, rounded=True, feature_names=X.columns, class_names=['No Legendary' , 'Legendary'])\n",
        "\n",
        "#DRAW THE TREE\n",
        "import graphviz\n",
        "graph = graphviz.Source(tree, format=\"png\")\n",
        "graph"
      ]
    },
    {
      "cell_type": "markdown",
      "metadata": {
        "id": "kIvL4rJoTxxJ"
      },
      "source": [
        "Please, provide a comprehensive explanation of your tree. Feel free to support it with information extracted from the tree. Give also an assessment of the goodness-of-fit of the tree."
      ]
    },
    {
      "cell_type": "markdown",
      "metadata": {
        "id": "tqbkNiOeTxxJ"
      },
      "source": [
        "What we can conclude from this tree is that if a pokemon is tall (more than 2.8 meters), and also has a lot of health points (more than 84), it will most likely be a legendary pokemon.\n",
        "\n",
        "However, when looking at shorter pokemons, if they have a high base special attack (higher than 117.5) and a high base attack (more than 82.5), the pokemon will most likely be legendary. This means that, if a short pokemon has a low special attack, no matter the defense, it will most likely be a non legendary pokemon."
      ]
    },
    {
      "cell_type": "markdown",
      "metadata": {
        "dc": {
          "key": "54"
        },
        "deletable": false,
        "editable": false,
        "id": "M69vN6R2TxxJ",
        "run_control": {
          "frozen": true
        },
        "tags": [
          "context"
        ]
      },
      "source": [
        "## 8. Fit a random forest\n",
        "<p>Decision trees are unstable and sensitive to small variations in the data. It therefore makes sense to fit a <strong>random forest</strong> – an ensemble method that averages over several decision trees all at once. This should give us a more robust model that classifies Pokémon with greater accuracy.</p>"
      ]
    },
    {
      "cell_type": "code",
      "execution_count": null,
      "metadata": {
        "dc": {
          "key": "54"
        },
        "id": "cDXE2H3FTxxJ",
        "tags": [
          "sample_code"
        ],
        "vscode": {
          "languageId": "r"
        }
      },
      "outputs": [],
      "source": [
        "#IMPORT PACKAGE\n",
        "from sklearn.ensemble import RandomForestClassifier\n",
        "\n",
        "#FIRST WE CREATE AN OBJECT WITH THE RANDOM FOREST CLASSIFIER THAT IS THE MODEL WE WANT TO FIT, SO WE CAN AFTERWARDS APPLY IT TO OUR DATA\n",
        "rnd_forest_clf = RandomForestClassifier(n_estimators=25, max_depth=3, random_state=1812)\n",
        "\n",
        "#WE FIT THE MODEL IN THE TRAINING SET WE HAVE ALREADY CREATED: X_train, y_train, FOR THAT WE USE THE COMMAND: .fit\n",
        "rnd_forest_clf.fit(X_train, y_train)\n",
        "\n",
        "#NOW LETS PREDICT WHICH WILL BE THE RESPONSE FOR THE TEST SET WE HAVE CREATED\n",
        "predictions_rf = rnd_forest_clf.predict(X_test)\n",
        "\n"
      ]
    },
    {
      "cell_type": "code",
      "execution_count": null,
      "metadata": {
        "colab": {
          "base_uri": "https://localhost:8080/"
        },
        "id": "D0Q0lyNRj5KM",
        "outputId": "1ae43c06-74f4-4618-d934-b2a87d364b8a"
      },
      "outputs": [
        {
          "name": "stdout",
          "output_type": "stream",
          "text": [
            "The accuracy of this model is: 0.937888198757764\n"
          ]
        }
      ],
      "source": [
        "#LETS CHECK THE ACCURACY OF THIS MODEL\n",
        "rf_acc = accuracy_score(y_test , predictions_rf)\n",
        "\n",
        "print(\"The accuracy of this model is:\", rf_acc)"
      ]
    },
    {
      "cell_type": "markdown",
      "metadata": {
        "dc": {
          "key": "61"
        },
        "deletable": false,
        "editable": false,
        "id": "YWpnfUmtTxxJ",
        "run_control": {
          "frozen": true
        },
        "tags": [
          "context"
        ]
      },
      "source": [
        "## 9. Assess model fit\n",
        "First, assess how good is this model.\n",
        "\n",
        "<p>Now, in order to allow direct comparison with the decision tree, we will plot the <strong>ROC curves</strong> for both models, which will visualize their true positive rate (TPR) and false positive rate (FPR) respectively.</p>"
      ]
    },
    {
      "cell_type": "markdown",
      "metadata": {
        "id": "50veUuMXrE0_"
      },
      "source": [
        "DECISION TREE: The accuracy of this model is: 0.906832298136646\n",
        "\n",
        "\n",
        "RANDOM FOREST: The accuracy of this model is: 0.937888198757764"
      ]
    },
    {
      "cell_type": "code",
      "execution_count": null,
      "metadata": {
        "colab": {
          "base_uri": "https://localhost:8080/"
        },
        "dc": {
          "key": "61"
        },
        "id": "gthQ_YRJTxxJ",
        "outputId": "9e49af5e-6223-4661-b2e1-4723abe15ad2",
        "tags": [
          "sample_code"
        ],
        "vscode": {
          "languageId": "r"
        }
      },
      "outputs": [
        {
          "data": {
            "text/plain": [
              "array([[570,   8],\n",
              "       [ 38,  24]])"
            ]
          },
          "execution_count": 32,
          "metadata": {},
          "output_type": "execute_result"
        }
      ],
      "source": [
        "\n",
        "#WE WANT TO COMPARE BOTH CONFUSION MATRIXES\n",
        "#FOR THE DECISION TREE\n",
        "from sklearn.metrics import classification_report\n",
        "from sklearn.metrics import confusion_matrix, f1_score, precision_score, recall_score, roc_auc_score, roc_curve\n",
        "\n",
        "from sklearn.model_selection import cross_val_predict\n",
        "\n",
        "y_train_pred_tree = cross_val_predict(tree_clf, X_train, y_train, cv=3)\n",
        "\n",
        "cm1 = confusion_matrix(y_train, y_train_pred_tree)\n",
        "cm1\n"
      ]
    },
    {
      "cell_type": "code",
      "execution_count": null,
      "metadata": {
        "colab": {
          "base_uri": "https://localhost:8080/"
        },
        "id": "5Y6tpRUd6IhG",
        "outputId": "fe2ab2b9-4105-497d-f41e-f16d39f09fa6"
      },
      "outputs": [
        {
          "data": {
            "text/plain": [
              "array([[577,   1],\n",
              "       [ 43,  19]])"
            ]
          },
          "execution_count": 33,
          "metadata": {},
          "output_type": "execute_result"
        }
      ],
      "source": [
        "#FOR THE RANDOM FOREST\n",
        "y_train_pred_forest = cross_val_predict(rnd_forest_clf, X_train, y_train, cv=3)\n",
        "\n",
        "cm2 = confusion_matrix(y_train, y_train_pred_forest)\n",
        "cm2\n"
      ]
    },
    {
      "cell_type": "markdown",
      "metadata": {
        "id": "hqdW0obO7aDV"
      },
      "source": [
        "These decision matrixes tells us the amount of true positives and negatives, as well as false positives and negatives from our model.\n"
      ]
    },
    {
      "cell_type": "markdown",
      "metadata": {
        "id": "G0a1ajyy7TCP"
      },
      "source": [
        "Which model is better?\n",
        "In order to know which one is better, we need to know what is the precision and recall for each model"
      ]
    },
    {
      "cell_type": "code",
      "execution_count": null,
      "metadata": {
        "colab": {
          "base_uri": "https://localhost:8080/"
        },
        "id": "mghXGG7O9rri",
        "outputId": "9d0104ea-925b-489c-b2ca-1e410d176e10"
      },
      "outputs": [
        {
          "data": {
            "text/plain": [
              "0.75"
            ]
          },
          "execution_count": 34,
          "metadata": {},
          "output_type": "execute_result"
        }
      ],
      "source": [
        "from sklearn.metrics import precision_score, recall_score, f1_score\n",
        "#LETS FIND OUT THE PRECISION OF THE TREE CLASSIFYER\n",
        "precision_score(y_train, y_train_pred_tree)"
      ]
    },
    {
      "cell_type": "code",
      "execution_count": null,
      "metadata": {
        "colab": {
          "base_uri": "https://localhost:8080/"
        },
        "id": "0ezPqOg--GRI",
        "outputId": "2ff1fb6e-2d37-4b4d-e209-0fb0bbe505b1"
      },
      "outputs": [
        {
          "data": {
            "text/plain": [
              "0.95"
            ]
          },
          "execution_count": 35,
          "metadata": {},
          "output_type": "execute_result"
        }
      ],
      "source": [
        "\n",
        "#LETS FIND OUT THE PRECISION OF THE RANDOM FOREST\n",
        "precision_score(y_train, y_train_pred_forest)"
      ]
    },
    {
      "cell_type": "markdown",
      "metadata": {
        "id": "s_KvobIg-26J"
      },
      "source": [
        "Looking at the scores, we can conclude that the random forest is more precise than the tree classifyer (which reflects how reliable the model is in classifying samples as positive.)"
      ]
    },
    {
      "cell_type": "code",
      "execution_count": null,
      "metadata": {
        "colab": {
          "base_uri": "https://localhost:8080/"
        },
        "id": "eSxlXlv798hR",
        "outputId": "60172afe-8582-460f-f786-5383099268fb"
      },
      "outputs": [
        {
          "data": {
            "text/plain": [
              "0.3870967741935484"
            ]
          },
          "execution_count": 36,
          "metadata": {},
          "output_type": "execute_result"
        }
      ],
      "source": [
        "#LETS FIND OUT THE RECALL OF THE TREE CLF\n",
        "recall_score(y_train, y_train_pred_tree)"
      ]
    },
    {
      "cell_type": "code",
      "execution_count": null,
      "metadata": {
        "colab": {
          "base_uri": "https://localhost:8080/"
        },
        "id": "GwtB8HJo-JQA",
        "outputId": "fdb1db1d-69ad-4553-c770-9b320a845ce2"
      },
      "outputs": [
        {
          "data": {
            "text/plain": [
              "0.3064516129032258"
            ]
          },
          "execution_count": 37,
          "metadata": {},
          "output_type": "execute_result"
        }
      ],
      "source": [
        "#LETS FIND OUT THE RECALL OF THE TREE CLF\n",
        "recall_score(y_train, y_train_pred_forest)"
      ]
    },
    {
      "cell_type": "markdown",
      "metadata": {
        "id": "r57H65km_Kqn"
      },
      "source": [
        "Looking at the scores, we can conclude that the tree classifyer has a higher recall than the random forest (which is the ability to detect positive samples)"
      ]
    },
    {
      "cell_type": "code",
      "execution_count": null,
      "metadata": {
        "colab": {
          "base_uri": "https://localhost:8080/"
        },
        "id": "rGkQOaTC-AH8",
        "outputId": "9a698b3b-b028-450b-e79c-f31064a22beb"
      },
      "outputs": [
        {
          "data": {
            "text/plain": [
              "0.5106382978723403"
            ]
          },
          "execution_count": 38,
          "metadata": {},
          "output_type": "execute_result"
        }
      ],
      "source": [
        "f1_score(y_train, y_train_pred_tree)"
      ]
    },
    {
      "cell_type": "code",
      "execution_count": null,
      "metadata": {
        "colab": {
          "base_uri": "https://localhost:8080/"
        },
        "id": "y2saKO1u-Ll-",
        "outputId": "bd21bd9e-16cf-477b-c454-821cc10fd058"
      },
      "outputs": [
        {
          "data": {
            "text/plain": [
              "0.4634146341463415"
            ]
          },
          "execution_count": 39,
          "metadata": {},
          "output_type": "execute_result"
        }
      ],
      "source": [
        "f1_score(y_train, y_train_pred_forest)"
      ]
    },
    {
      "cell_type": "markdown",
      "metadata": {
        "id": "FH0PdTfFAfCg"
      },
      "source": [
        "The tree classifyer has a higher f1 score which is the harmonic mean of precision and recall) than the random forest."
      ]
    },
    {
      "cell_type": "code",
      "execution_count": null,
      "metadata": {
        "colab": {
          "base_uri": "https://localhost:8080/",
          "height": 655
        },
        "id": "s5P_2o19njQu",
        "outputId": "115f24b6-bd35-4638-fe9c-6b4d9b9a02de"
      },
      "outputs": [
        {
          "name": "stdout",
          "output_type": "stream",
          "text": [
            "roc_auc_score for Tree Classifier:  0.6074346405228758\n",
            "roc_auc_score for Random Forest:  0.9411764705882352\n"
          ]
        },
        {
          "data": {
            "image/png": "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",
            "text/plain": [
              "<Figure size 720x720 with 1 Axes>"
            ]
          },
          "metadata": {
            "needs_background": "light"
          },
          "output_type": "display_data"
        }
      ],
      "source": [
        "from sklearn.metrics import auc , roc_curve , confusion_matrix\n",
        "y_score_1_tree = tree_clf.predict_proba(X_test)[:,1]\n",
        "y_score_2_forest = rnd_forest_clf.predict_proba(X_test)[:,1]\n",
        "\n",
        "\n",
        "false_positive_rate1, true_positive_rate1, threshold1 = roc_curve(y_test, y_score_1_tree)\n",
        "false_positive_rate2, true_positive_rate2, threshold2 = roc_curve(y_test, y_score_2_forest)\n",
        "\n",
        "print('roc_auc_score for Tree Classifier: ', roc_auc_score(y_test, y_score_1_tree))\n",
        "print('roc_auc_score for Random Forest: ', roc_auc_score(y_test, y_score_2_forest))\n",
        "\n",
        "plt.subplots(1, figsize=(10,10))\n",
        "plt.title('Receiver Operating Characteristic')\n",
        "plt.plot(false_positive_rate1, true_positive_rate1, label ='Tree Classifier')\n",
        "plt.plot(false_positive_rate2, true_positive_rate2, label = 'Random Forest')\n",
        "plt.plot([0, 1], ls=\"--\", label ='Random Classifier')\n",
        "plt.plot([0, 0], [1, 0] , c=\".7\"), plt.plot([1, 1] , c=\".7\")\n",
        "plt.ylabel('True Positive Rate')\n",
        "plt.xlabel('False Positive Rate')\n",
        "plt.legend()\n",
        "plt.show()\n"
      ]
    },
    {
      "cell_type": "markdown",
      "metadata": {
        "dc": {
          "key": "68"
        },
        "deletable": false,
        "editable": false,
        "id": "Wf_ENSdDTxxK",
        "run_control": {
          "frozen": true
        },
        "tags": [
          "context"
        ]
      },
      "source": [
        "## 10. Analyze variable importance\n",
        "<p>It's clear from the ROC curves that the RANDOM FOREST is a substantially better model, boasting an AUC of 94.12% versus the TREE CLASSIFIER's 60.74%. When calculating variable importance, it makes sense to do so with the best model available, so we'll use the RANDOM FOREST for the final part of our analysis.</p>\n"
      ]
    },
    {
      "cell_type": "code",
      "execution_count": null,
      "metadata": {
        "id": "z2SVF659iOhQ"
      },
      "outputs": [],
      "source": [
        "#THIS RESULTS SUGGEST PERHAPS EIGHT OF THE 25 FEATURES AS BEING IMPORTANT TO PREDICTION"
      ]
    },
    {
      "cell_type": "code",
      "execution_count": null,
      "metadata": {
        "colab": {
          "base_uri": "https://localhost:8080/",
          "height": 904
        },
        "dc": {
          "key": "68"
        },
        "id": "o4FfFOgLTxxK",
        "outputId": "3e38fce9-58e3-4d0a-fed3-21501031a301",
        "tags": [
          "sample_code"
        ],
        "vscode": {
          "languageId": "r"
        }
      },
      "outputs": [
        {
          "name": "stdout",
          "output_type": "stream",
          "text": [
            "attack has an importance of  6.26 %\n",
            "defense has an importance of  7.55 %\n",
            "height_m has an importance of  25.83 %\n",
            "hp has an importance of  3.57 %\n",
            "sp_attack has an importance of  18.26 %\n",
            "sp_defense has an importance of  12.07 %\n",
            "speed has an importance of  9.13 %\n",
            "weight_kg has an importance of  12.84 %\n",
            "bug has an importance of  0.0 %\n",
            "dark has an importance of  0.25 %\n",
            "dragon has an importance of  0.1 %\n",
            "electric has an importance of  0.0 %\n",
            "fairy has an importance of  0.17 %\n",
            "fighting has an importance of  0.0 %\n",
            "fire has an importance of  0.09 %\n",
            "flying has an importance of  0.0 %\n",
            "ghost has an importance of  0.0 %\n",
            "grass has an importance of  0.21 %\n",
            "ground has an importance of  0.28 %\n",
            "ice has an importance of  0.05 %\n",
            "normal has an importance of  0.05 %\n",
            "poison has an importance of  0.0 %\n",
            "psychic has an importance of  1.88 %\n",
            "rock has an importance of  0.02 %\n",
            "steel has an importance of  0.73 %\n",
            "water has an importance of  0.65 %\n"
          ]
        },
        {
          "data": {
            "text/plain": [
              "<matplotlib.axes._subplots.AxesSubplot at 0x7effb5395490>"
            ]
          },
          "execution_count": 42,
          "metadata": {},
          "output_type": "execute_result"
        },
        {
          "data": {
            "image/png": "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",
            "text/plain": [
              "<Figure size 1800x576 with 1 Axes>"
            ]
          },
          "metadata": {
            "needs_background": "light"
          },
          "output_type": "display_data"
        }
      ],
      "source": [
        "\n",
        "importance = rnd_forest_clf.feature_importances_\n",
        "#WE LINK EACH IMPORTANCE WITH THE CATHEGORY OR FEATURE IT REFERS TO\n",
        "for i,v in zip(importance, types):\n",
        "\tprint( v, 'has an importance of ', round(i*100,2),'%')\n",
        "#LETS PLOT THE FEATURE IMPORTANCE\n",
        "plt.figure(figsize=(25,8))\n",
        "sns.barplot(x= types, y= importance)\n"
      ]
    },
    {
      "cell_type": "markdown",
      "metadata": {
        "id": "9fyIDvSZTxxK"
      },
      "source": [
        "## 11. Other classification methods \n",
        "\n",
        "Use some of the models you have learnt to perform the same classification task carried out above. Compare them all!"
      ]
    },
    {
      "cell_type": "markdown",
      "metadata": {
        "id": "QFNSwHBztl0_"
      },
      "source": [
        "LOGISTIC REGRESSION"
      ]
    },
    {
      "cell_type": "code",
      "execution_count": null,
      "metadata": {
        "colab": {
          "base_uri": "https://localhost:8080/"
        },
        "id": "EwMThtyuTxxK",
        "outputId": "732c8337-bcc8-4cf2-e41e-5a2adbca2973",
        "vscode": {
          "languageId": "r"
        }
      },
      "outputs": [
        {
          "name": "stdout",
          "output_type": "stream",
          "text": [
            "The accuracy of this model is: 0.937888198757764\n",
            "The area under the curve =  67.12 %\n"
          ]
        },
        {
          "name": "stderr",
          "output_type": "stream",
          "text": [
            "/usr/local/lib/python3.7/dist-packages/sklearn/linear_model/_logistic.py:818: ConvergenceWarning: lbfgs failed to converge (status=1):\n",
            "STOP: TOTAL NO. of ITERATIONS REACHED LIMIT.\n",
            "\n",
            "Increase the number of iterations (max_iter) or scale the data as shown in:\n",
            "    https://scikit-learn.org/stable/modules/preprocessing.html\n",
            "Please also refer to the documentation for alternative solver options:\n",
            "    https://scikit-learn.org/stable/modules/linear_model.html#logistic-regression\n",
            "  extra_warning_msg=_LOGISTIC_SOLVER_CONVERGENCE_MSG,\n"
          ]
        }
      ],
      "source": [
        "#FIRST WE IMPORT THE NECESSARY PACKAGES\n",
        "from sklearn.linear_model import LogisticRegression\n",
        "\n",
        "#FIRST WE CREATE THE MODEL\n",
        "logreg_clf = LogisticRegression(random_state=27 , max_iter=1000)\n",
        "\n",
        "#WE FIT THE MODEL\n",
        "logreg_clf.fit(X_train, y_train)\n",
        "\n",
        "#WE MAKE THE PREDICTIONS\n",
        "predictions_logreg = logreg_clf.predict(X_test)\n",
        "\n",
        "#LETS CHECK THE ACCURACY OF THIS MODEL\n",
        "logreg_acc = accuracy_score(y_test , predictions_logreg)\n",
        "\n",
        "print(\"The accuracy of this model is:\", logreg_acc)\n",
        "\n",
        "#AREA UNDER THE CURVE\n",
        "false_positive_rate, true_positive_rate, threshold = roc_curve(y_test, predictions_logreg)\n",
        "print('The area under the curve = ' , round(auc(false_positive_rate, true_positive_rate)*100 , 2 ) ,'%')"
      ]
    },
    {
      "cell_type": "markdown",
      "metadata": {
        "id": "uRX8h5Wvw2gJ"
      },
      "source": [
        "SUPPORT VECTOR MACHINE"
      ]
    },
    {
      "cell_type": "code",
      "execution_count": null,
      "metadata": {
        "colab": {
          "base_uri": "https://localhost:8080/"
        },
        "id": "ByHEldoP0Kf4",
        "outputId": "ec20cc3e-97b4-4a66-a07d-5c399a51d915"
      },
      "outputs": [
        {
          "name": "stdout",
          "output_type": "stream",
          "text": [
            "The accuracy of this model is: 0.9316770186335404\n",
            "The area under the curve =  66.79 %\n"
          ]
        }
      ],
      "source": [
        "#FIRST WE IMPORT THE NECESSARY PACKAGES\n",
        "from sklearn.svm import SVC\n",
        "\n",
        "#WE CREATE THE MODEL\n",
        "svm_clf = SVC(random_state=1842 , kernel='linear')\n",
        "\n",
        "#WE FIT THE MODEL\n",
        "svm_clf.fit(X_train, y_train)\n",
        "\n",
        "#WE MAKE THE PREDICTIONS\n",
        "predictions_svm = svm_clf.predict(X_test)\n",
        "#LETS CHECK THE ACCURACY OF THIS MODEL\n",
        "svm_acc = accuracy_score(y_test , predictions_svm)\n",
        "\n",
        "print(\"The accuracy of this model is:\", svm_acc)\n",
        "\n",
        "#AREA UNDER THE CURVE\n",
        "false_positive_rate, true_positive_rate, threshold = roc_curve(y_test, predictions_svm)\n",
        "print('The area under the curve = ' , round(auc(false_positive_rate, true_positive_rate)*100 , 2 ) ,'%')"
      ]
    },
    {
      "cell_type": "markdown",
      "metadata": {
        "id": "diuTnOSJoiAi"
      },
      "source": [
        "K-NEAREST NEIGHBOURS"
      ]
    },
    {
      "cell_type": "code",
      "execution_count": null,
      "metadata": {
        "colab": {
          "base_uri": "https://localhost:8080/"
        },
        "id": "jajw6o5Yok2B",
        "outputId": "b7fcffb0-8483-4385-dd02-e30d1b5d9e01"
      },
      "outputs": [
        {
          "name": "stdout",
          "output_type": "stream",
          "text": [
            "The accuracy of this model is: 0.9440993788819876\n",
            "The area under the curve =  73.37 %\n"
          ]
        }
      ],
      "source": [
        "#FIRST WE IMPORT THE NECESSARY PACKAGES\n",
        "from sklearn.neighbors import KNeighborsClassifier\n",
        "\n",
        "#WE CREATE THE MODEL\n",
        "knn_clf = KNeighborsClassifier(n_neighbors=3 , algorithm = 'brute' )\n",
        "\n",
        "#WE FIT THE MODEL\n",
        "knn_clf.fit(X_train, y_train)\n",
        "\n",
        "#WE MAKE THE PREDICTIONS\n",
        "predictions_knn = knn_clf.predict(X_test)\n",
        "\n",
        "#LETS CHECK THE ACCURACY OF THIS MODEL\n",
        "knn_acc = accuracy_score(y_test , predictions_knn)\n",
        "\n",
        "print(\"The accuracy of this model is:\", knn_acc)\n",
        "\n",
        "#AREA UNDER THE CURVE\n",
        "false_positive_rate, true_positive_rate, threshold = roc_curve(y_test, predictions_knn)\n",
        "print('The area under the curve = ' , round(auc(false_positive_rate, true_positive_rate)*100 , 2 ) ,'%')"
      ]
    },
    {
      "cell_type": "markdown",
      "metadata": {
        "id": "NRxgAVeMoldm"
      },
      "source": [
        "EXTRA TREE"
      ]
    },
    {
      "cell_type": "code",
      "execution_count": null,
      "metadata": {
        "colab": {
          "base_uri": "https://localhost:8080/"
        },
        "id": "WR4gtJ9dpbta",
        "outputId": "f4c4cd90-b01b-4330-d1d7-e4f27c8cbf43"
      },
      "outputs": [
        {
          "name": "stdout",
          "output_type": "stream",
          "text": [
            "The accuracy of this model is: 0.9440993788819876\n",
            "The area under the curve =  67.44 %\n"
          ]
        }
      ],
      "source": [
        "#FIRST WE IMPORT THE NECESSARY PACKAGES\n",
        "from sklearn.ensemble import ExtraTreesClassifier\n",
        "\n",
        "#WE CREATE THE MODEL\n",
        "ext_clf = ExtraTreesClassifier(n_estimators=100, random_state=27)\n",
        "\n",
        "#WE FIT THE MODEL\n",
        "ext_clf.fit(X_train, y_train)\n",
        "\n",
        "#WE MAKE THE PREDICTIONS\n",
        "predictions_ext = ext_clf.predict(X_test)\n",
        "\n",
        "#LETS CHECK THE ACCURACY OF THIS MODEL\n",
        "ext_acc = accuracy_score(y_test , predictions_ext)\n",
        "\n",
        "print(\"The accuracy of this model is:\", ext_acc)\n",
        "\n",
        "#AREA UNDER THE CURVE\n",
        "false_positive_rate, true_positive_rate, threshold = roc_curve(y_test, predictions_ext)\n",
        "print('The area under the curve = ' , round(auc(false_positive_rate, true_positive_rate)*100 , 2 ) ,'%')"
      ]
    },
    {
      "cell_type": "markdown",
      "metadata": {
        "id": "7jz_synrTxxK"
      },
      "source": [
        "## 12. Pokemoooooon, Ensemble!! (1.5 points)\n",
        "\n",
        "Estimate an ensemble of all the methods above to provide an even better prediction"
      ]
    },
    {
      "cell_type": "code",
      "execution_count": null,
      "metadata": {
        "colab": {
          "base_uri": "https://localhost:8080/"
        },
        "id": "5pal5anyTxxK",
        "outputId": "0c11881f-fabe-47a8-e96f-5872389d7a88",
        "vscode": {
          "languageId": "r"
        }
      },
      "outputs": [
        {
          "name": "stderr",
          "output_type": "stream",
          "text": [
            "/usr/local/lib/python3.7/dist-packages/sklearn/linear_model/_logistic.py:818: ConvergenceWarning: lbfgs failed to converge (status=1):\n",
            "STOP: TOTAL NO. of ITERATIONS REACHED LIMIT.\n",
            "\n",
            "Increase the number of iterations (max_iter) or scale the data as shown in:\n",
            "    https://scikit-learn.org/stable/modules/preprocessing.html\n",
            "Please also refer to the documentation for alternative solver options:\n",
            "    https://scikit-learn.org/stable/modules/linear_model.html#logistic-regression\n",
            "  extra_warning_msg=_LOGISTIC_SOLVER_CONVERGENCE_MSG,\n"
          ]
        },
        {
          "name": "stdout",
          "output_type": "stream",
          "text": [
            "The accuracy of this model is: 0.9503105590062112\n",
            "The area under the curve =  61.85 %\n"
          ]
        }
      ],
      "source": [
        "#WE NEED TO IMPOR VOTING CLASSIFIER TO ESTIMATE THE WHOLE METHODS, THE MEAN OF THE PREDICTIONS WE HAVE ALREADY CALCULATED\n",
        "from sklearn.ensemble import  VotingClassifier\n",
        "\n",
        "#WE CREATE THE ENSEMBLE MODEL\n",
        "voting_clf = VotingClassifier(estimators=[\n",
        "        ('lr', LogisticRegression(random_state=27)),\n",
        "        ('rf', RandomForestClassifier(n_estimators = 1000 , random_state=27)),\n",
        "        ('svc', SVC(random_state=27 , kernel='linear')),\n",
        "        ('dt' , DecisionTreeClassifier(random_state=27))]\n",
        ")\n",
        "\n",
        "#WE FIT THE ENSEMBLE MODEL\n",
        "voting_clf.fit(X_train, y_train)\n",
        "\n",
        "#WE MAKE THE PREDICTIONS\n",
        "predictions_voting = voting_clf.predict(X_test)\n",
        "\n",
        "#LETS CHECK THE ACCURACY OF THIS MODEL\n",
        "voting_acc = accuracy_score(y_test , predictions_voting)\n",
        "\n",
        "print(\"The accuracy of this model is:\", voting_acc)\n",
        "\n",
        "#AREA UNDER THE CURVE\n",
        "false_positive_rate, true_positive_rate, threshold = roc_curve(y_test, predictions_voting)\n",
        "print('The area under the curve = ' , round(auc(false_positive_rate, true_positive_rate)*100 , 2 ) ,'%')"
      ]
    },
    {
      "cell_type": "markdown",
      "metadata": {
        "dc": {
          "key": "75"
        },
        "deletable": false,
        "editable": false,
        "id": "VxURNDsXTxxK",
        "run_control": {
          "frozen": true
        },
        "tags": [
          "context"
        ]
      },
      "source": [
        "## 13. Conclusions (1 point)\n",
        "Please, write here the conclusions of this wonderful study on legendary Pokémon. Think about it as a real report that you have to handle to your manager (or Pokémon trainer!)\n",
        "\n"
      ]
    },
    {
      "cell_type": "markdown",
      "metadata": {
        "id": "tYHl7-_u3xCg"
      },
      "source": [
        "Machine learning is a really useful and important tool for analysing amounts of data, for making predictions, classifications, regression... In this work, we have tried to understand a given data set about pokemons and their characteristics, in order to be able to figure out which features matter when classifying a pokemon as legendary or not.\n",
        "\n",
        "We have used supervised learning as we have a labeled data set, particularly we have worked with a classification problem, using algorithms to assign data (of the testing set) into certain categories.\n",
        "\n",
        "To get to our objective, we have followed the main steps required when working in a machine learning project. Firstly, we have downloaded the data and taken a look to it, so that we have a better idea of the information we are dealing with. For the first part of the assignment we just did some programming with the data. But then, we reached the important part of the project that started by splitting our data into a training and a testing set. Previously, as we had a cathegorical feature, as a way to clean our data we transformed it in a binary one, with as many columns as cathegories we had. At this point, we just fit different models to our training data set in order to make predictions with our testing set.\n",
        "\n",
        "We can draw some conclusions from our results on the features of a pokemon:\n",
        "- Regarding the fighter stats of a pokemon, we found out that in general, legendary pokemons tend to have higher rates of all the analized variables (such as higher base special attack and defense, higher health points...). But we have observed that there are some features more important than others when making this legendary classification. In the decision tree the first separation we can see is between high and small pokemons, giving us a clear intuition that this is an important characteristic. In addition, when fitting the random forest we have looked for the features importance, and as we can observe in the plot of exercise 10, the most important variables are (in descending order): height, speed attack, weight and speed defense, and then speed, attack, defense and health points with a lower rate. The type of pokemon seems not to be as important.\n",
        "\n",
        "- Regarding the size of a pokemon, we found out that if a pokemon is heavy and tall, it will have a higher probability of being legendary than short and light pokemons. Fos example, as we have seen in the decision tree we have plotted, if a pokemon is taller than 2.8 meters it is going to be for sure legendary, except if its health points are lower than 84. So higher pokemons are more likely to be legendary than short ones.\n",
        "\n",
        "- Regarding the pokemon type, we discovered that flying, psychic, dragon and steel will more likely be legendary than other types (such as poison, fighting or normal).  Which means that within these groups the proportion of legendary pokemons is higher than in others in which there are more non-legendary ones than legendary.\n",
        "\n",
        "\n",
        "We can also conclude several things about the models used for this task:\n",
        "We created a decision tree, a random forest, a logistic regression, a support vector machine, k-nearest neighbours and an extra tree, only to find out that the random forest had the higher area under the ROC curve, which usually indicates a higher performance.\n",
        "However, we decided against settling for one model, and ensembled them all, getting a model that will be accurate in 95% of the time.\n",
        "\n",
        "\n"
      ]
    },
    {
      "cell_type": "markdown",
      "metadata": {
        "id": "PnQWYiG5TxxK"
      },
      "source": [
        "---"
      ]
    },
    {
      "cell_type": "markdown",
      "metadata": {
        "id": "wQf5OfRzTxxK"
      },
      "source": [
        "## Congratulations on completing your research into legendary Pokémon – Professor Oak is excited to share the findings!\n"
      ]
    }
  ],
  "metadata": {
    "colab": {
      "collapsed_sections": [
        "wQf5OfRzTxxK"
      ],
      "provenance": []
    },
    "kernelspec": {
      "display_name": "Python 3 (ipykernel)",
      "language": "python",
      "name": "python3"
    },
    "language_info": {
      "codemirror_mode": {
        "name": "ipython",
        "version": 3
      },
      "file_extension": ".py",
      "mimetype": "text/x-python",
      "name": "python",
      "nbconvert_exporter": "python",
      "pygments_lexer": "ipython3",
      "version": "3.9.12"
    }
  },
  "nbformat": 4,
  "nbformat_minor": 0
}
