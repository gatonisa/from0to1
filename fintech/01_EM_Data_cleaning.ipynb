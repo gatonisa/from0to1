{
  "cells": [
    {
      "cell_type": "markdown",
      "metadata": {
        "id": "KzVUUTMmFNr_"
      },
      "source": [
        "# Getting the data"
      ]
    },
    {
      "cell_type": "code",
      "execution_count": 1,
      "metadata": {
        "colab": {
          "base_uri": "https://localhost:8080/"
        },
        "id": "14JPC2kPFTiv",
        "outputId": "84a273df-244e-43cc-cb52-d990d8a97d89"
      },
      "outputs": [],
      "source": [
        "\n",
        "file_1 = 'data/products_df.csv'\n",
        "file_2 = 'data/commercial_activity_df.csv'\n",
        "file_3 = 'data/sociodemographic_df.csv'"
      ]
    },
    {
      "cell_type": "markdown",
      "metadata": {
        "id": "xZ62GwSqEQC9"
      },
      "source": [
        "# Importing packages"
      ]
    },
    {
      "cell_type": "code",
      "execution_count": 2,
      "metadata": {
        "id": "U30CMoVEEQC_"
      },
      "outputs": [],
      "source": [
        "import pandas as pd\n",
        "import numpy as np\n",
        "import matplotlib.pyplot as plt\n",
        "import plotly.express as px\n",
        "import seaborn as sns"
      ]
    },
    {
      "cell_type": "code",
      "execution_count": 3,
      "metadata": {
        "id": "5g9XYzDeEQDB"
      },
      "outputs": [],
      "source": [
        "pd.set_option('display.max_columns', None)\n",
        "pd.set_option('display.width', None)"
      ]
    },
    {
      "cell_type": "markdown",
      "metadata": {
        "id": "F01TS9PxEQDC"
      },
      "source": [
        "# Taking a look at the data"
      ]
    },
    {
      "cell_type": "code",
      "execution_count": 4,
      "metadata": {
        "id": "Qg8c_YnQEQDE"
      },
      "outputs": [],
      "source": [
        "df_com_act = pd.read_csv(file_2)\n",
        "df_products = pd.read_csv(file_1)\n",
        "df_sociodem = pd.read_csv(file_3)"
      ]
    },
    {
      "cell_type": "markdown",
      "metadata": {
        "id": "MT9YyKBbEQDF"
      },
      "source": [
        "## Commercial activity"
      ]
    },
    {
      "cell_type": "markdown",
      "metadata": {
        "id": "AfGCHx0uEQDG"
      },
      "source": [
        "* pk_cid: Client ID\n",
        "* pk_partition: Data ingestion date\n",
        "* entry_date: Date of first contract through easyMoney\n",
        "* entry_channel: Customer acquisition channel\n",
        "* active_customer: Customer activity indicator in our app\n",
        "* segment: Customer commercial segment"
      ]
    },
    {
      "cell_type": "code",
      "execution_count": 5,
      "metadata": {
        "colab": {
          "base_uri": "https://localhost:8080/",
          "height": 330
        },
        "id": "XN2PODLpEQDG",
        "outputId": "e6092083-77cf-42fe-ec5c-116d973e1414"
      },
      "outputs": [
        {
          "data": {
            "text/html": [
              "<div>\n",
              "<style scoped>\n",
              "    .dataframe tbody tr th:only-of-type {\n",
              "        vertical-align: middle;\n",
              "    }\n",
              "\n",
              "    .dataframe tbody tr th {\n",
              "        vertical-align: top;\n",
              "    }\n",
              "\n",
              "    .dataframe thead th {\n",
              "        text-align: right;\n",
              "    }\n",
              "</style>\n",
              "<table border=\"1\" class=\"dataframe\">\n",
              "  <thead>\n",
              "    <tr style=\"text-align: right;\">\n",
              "      <th></th>\n",
              "      <th>Unnamed: 0</th>\n",
              "      <th>pk_cid</th>\n",
              "      <th>pk_partition</th>\n",
              "      <th>entry_date</th>\n",
              "      <th>entry_channel</th>\n",
              "      <th>active_customer</th>\n",
              "      <th>segment</th>\n",
              "    </tr>\n",
              "  </thead>\n",
              "  <tbody>\n",
              "    <tr>\n",
              "      <th>0</th>\n",
              "      <td>0</td>\n",
              "      <td>1375586</td>\n",
              "      <td>2018-01-28</td>\n",
              "      <td>2018-01-12</td>\n",
              "      <td>KHL</td>\n",
              "      <td>1.0</td>\n",
              "      <td>02 - PARTICULARES</td>\n",
              "    </tr>\n",
              "    <tr>\n",
              "      <th>1</th>\n",
              "      <td>1</td>\n",
              "      <td>1050611</td>\n",
              "      <td>2018-01-28</td>\n",
              "      <td>2015-08-10</td>\n",
              "      <td>KHE</td>\n",
              "      <td>0.0</td>\n",
              "      <td>03 - UNIVERSITARIO</td>\n",
              "    </tr>\n",
              "    <tr>\n",
              "      <th>2</th>\n",
              "      <td>2</td>\n",
              "      <td>1050612</td>\n",
              "      <td>2018-01-28</td>\n",
              "      <td>2015-08-10</td>\n",
              "      <td>KHE</td>\n",
              "      <td>0.0</td>\n",
              "      <td>03 - UNIVERSITARIO</td>\n",
              "    </tr>\n",
              "    <tr>\n",
              "      <th>3</th>\n",
              "      <td>3</td>\n",
              "      <td>1050613</td>\n",
              "      <td>2018-01-28</td>\n",
              "      <td>2015-08-10</td>\n",
              "      <td>KHD</td>\n",
              "      <td>0.0</td>\n",
              "      <td>03 - UNIVERSITARIO</td>\n",
              "    </tr>\n",
              "    <tr>\n",
              "      <th>4</th>\n",
              "      <td>4</td>\n",
              "      <td>1050614</td>\n",
              "      <td>2018-01-28</td>\n",
              "      <td>2015-08-10</td>\n",
              "      <td>KHE</td>\n",
              "      <td>1.0</td>\n",
              "      <td>03 - UNIVERSITARIO</td>\n",
              "    </tr>\n",
              "  </tbody>\n",
              "</table>\n",
              "</div>"
            ],
            "text/plain": [
              "   Unnamed: 0   pk_cid pk_partition  entry_date entry_channel  \\\n",
              "0           0  1375586   2018-01-28  2018-01-12           KHL   \n",
              "1           1  1050611   2018-01-28  2015-08-10           KHE   \n",
              "2           2  1050612   2018-01-28  2015-08-10           KHE   \n",
              "3           3  1050613   2018-01-28  2015-08-10           KHD   \n",
              "4           4  1050614   2018-01-28  2015-08-10           KHE   \n",
              "\n",
              "   active_customer             segment  \n",
              "0              1.0   02 - PARTICULARES  \n",
              "1              0.0  03 - UNIVERSITARIO  \n",
              "2              0.0  03 - UNIVERSITARIO  \n",
              "3              0.0  03 - UNIVERSITARIO  \n",
              "4              1.0  03 - UNIVERSITARIO  "
            ]
          },
          "execution_count": 5,
          "metadata": {},
          "output_type": "execute_result"
        }
      ],
      "source": [
        "df_com_act.head()"
      ]
    },
    {
      "cell_type": "code",
      "execution_count": 6,
      "metadata": {
        "colab": {
          "base_uri": "https://localhost:8080/"
        },
        "id": "OtbwXMzmEQDJ",
        "outputId": "ca8fa6d1-9f22-4330-e5cc-565ca282e6f2"
      },
      "outputs": [
        {
          "data": {
            "text/plain": [
              "(5962924, 7)"
            ]
          },
          "execution_count": 6,
          "metadata": {},
          "output_type": "execute_result"
        }
      ],
      "source": [
        "df_com_act.shape"
      ]
    },
    {
      "cell_type": "code",
      "execution_count": 7,
      "metadata": {
        "id": "ZlTY-icSEQDJ"
      },
      "outputs": [],
      "source": [
        "# deleting index column\n",
        "df_com_act=df_com_act.drop('Unnamed: 0', axis=1)"
      ]
    },
    {
      "cell_type": "markdown",
      "metadata": {
        "id": "qvJ2r1fQEQDK"
      },
      "source": [
        "## Products"
      ]
    },
    {
      "cell_type": "markdown",
      "metadata": {
        "id": "69vbYvPQEQDL"
      },
      "source": [
        "* pk_cid: Customer identifier\n",
        "* pk_partition: Data ingestion date\n",
        "* short_term_deposit\n",
        "* loans\n",
        "* mortgage\n",
        "* funds: Investment funds\n",
        "* securities\n",
        "* long_term_deposit\n",
        "* em_account_p: EasyMoney+ account\n",
        "* em_account_pp: EasyMoney++ account\n",
        "* em_acount: EasyMoney account\n",
        "* emc_account: EasyMoney Crypto account\n",
        "* credit_card\n",
        "* pay_roll\n",
        "* pension_plan\n",
        "* pay_roll_account\n",
        "* debit_card"
      ]
    },
    {
      "cell_type": "code",
      "execution_count": 8,
      "metadata": {
        "colab": {
          "base_uri": "https://localhost:8080/",
          "height": 244
        },
        "id": "_St4Sz89EQDM",
        "outputId": "b5f490a5-e9c9-46f0-e46b-ca35169e22c6"
      },
      "outputs": [
        {
          "data": {
            "text/html": [
              "<div>\n",
              "<style scoped>\n",
              "    .dataframe tbody tr th:only-of-type {\n",
              "        vertical-align: middle;\n",
              "    }\n",
              "\n",
              "    .dataframe tbody tr th {\n",
              "        vertical-align: top;\n",
              "    }\n",
              "\n",
              "    .dataframe thead th {\n",
              "        text-align: right;\n",
              "    }\n",
              "</style>\n",
              "<table border=\"1\" class=\"dataframe\">\n",
              "  <thead>\n",
              "    <tr style=\"text-align: right;\">\n",
              "      <th></th>\n",
              "      <th>Unnamed: 0</th>\n",
              "      <th>pk_cid</th>\n",
              "      <th>pk_partition</th>\n",
              "      <th>short_term_deposit</th>\n",
              "      <th>loans</th>\n",
              "      <th>mortgage</th>\n",
              "      <th>funds</th>\n",
              "      <th>securities</th>\n",
              "      <th>long_term_deposit</th>\n",
              "      <th>em_account_pp</th>\n",
              "      <th>credit_card</th>\n",
              "      <th>payroll</th>\n",
              "      <th>pension_plan</th>\n",
              "      <th>payroll_account</th>\n",
              "      <th>emc_account</th>\n",
              "      <th>debit_card</th>\n",
              "      <th>em_account_p</th>\n",
              "      <th>em_acount</th>\n",
              "    </tr>\n",
              "  </thead>\n",
              "  <tbody>\n",
              "    <tr>\n",
              "      <th>0</th>\n",
              "      <td>0</td>\n",
              "      <td>1375586</td>\n",
              "      <td>2018-01-28</td>\n",
              "      <td>0</td>\n",
              "      <td>0</td>\n",
              "      <td>0</td>\n",
              "      <td>0</td>\n",
              "      <td>0</td>\n",
              "      <td>0</td>\n",
              "      <td>0</td>\n",
              "      <td>0</td>\n",
              "      <td>0.0</td>\n",
              "      <td>0.0</td>\n",
              "      <td>0</td>\n",
              "      <td>0</td>\n",
              "      <td>0</td>\n",
              "      <td>0</td>\n",
              "      <td>1</td>\n",
              "    </tr>\n",
              "    <tr>\n",
              "      <th>1</th>\n",
              "      <td>1</td>\n",
              "      <td>1050611</td>\n",
              "      <td>2018-01-28</td>\n",
              "      <td>0</td>\n",
              "      <td>0</td>\n",
              "      <td>0</td>\n",
              "      <td>0</td>\n",
              "      <td>0</td>\n",
              "      <td>0</td>\n",
              "      <td>0</td>\n",
              "      <td>0</td>\n",
              "      <td>0.0</td>\n",
              "      <td>0.0</td>\n",
              "      <td>0</td>\n",
              "      <td>0</td>\n",
              "      <td>0</td>\n",
              "      <td>0</td>\n",
              "      <td>1</td>\n",
              "    </tr>\n",
              "    <tr>\n",
              "      <th>2</th>\n",
              "      <td>2</td>\n",
              "      <td>1050612</td>\n",
              "      <td>2018-01-28</td>\n",
              "      <td>0</td>\n",
              "      <td>0</td>\n",
              "      <td>0</td>\n",
              "      <td>0</td>\n",
              "      <td>0</td>\n",
              "      <td>0</td>\n",
              "      <td>0</td>\n",
              "      <td>0</td>\n",
              "      <td>0.0</td>\n",
              "      <td>0.0</td>\n",
              "      <td>0</td>\n",
              "      <td>0</td>\n",
              "      <td>0</td>\n",
              "      <td>0</td>\n",
              "      <td>1</td>\n",
              "    </tr>\n",
              "    <tr>\n",
              "      <th>3</th>\n",
              "      <td>3</td>\n",
              "      <td>1050613</td>\n",
              "      <td>2018-01-28</td>\n",
              "      <td>1</td>\n",
              "      <td>0</td>\n",
              "      <td>0</td>\n",
              "      <td>0</td>\n",
              "      <td>0</td>\n",
              "      <td>0</td>\n",
              "      <td>0</td>\n",
              "      <td>0</td>\n",
              "      <td>0.0</td>\n",
              "      <td>0.0</td>\n",
              "      <td>0</td>\n",
              "      <td>0</td>\n",
              "      <td>0</td>\n",
              "      <td>0</td>\n",
              "      <td>0</td>\n",
              "    </tr>\n",
              "    <tr>\n",
              "      <th>4</th>\n",
              "      <td>4</td>\n",
              "      <td>1050614</td>\n",
              "      <td>2018-01-28</td>\n",
              "      <td>0</td>\n",
              "      <td>0</td>\n",
              "      <td>0</td>\n",
              "      <td>0</td>\n",
              "      <td>0</td>\n",
              "      <td>0</td>\n",
              "      <td>0</td>\n",
              "      <td>0</td>\n",
              "      <td>0.0</td>\n",
              "      <td>0.0</td>\n",
              "      <td>0</td>\n",
              "      <td>0</td>\n",
              "      <td>0</td>\n",
              "      <td>0</td>\n",
              "      <td>1</td>\n",
              "    </tr>\n",
              "  </tbody>\n",
              "</table>\n",
              "</div>"
            ],
            "text/plain": [
              "   Unnamed: 0   pk_cid pk_partition  short_term_deposit  loans  mortgage  \\\n",
              "0           0  1375586   2018-01-28                   0      0         0   \n",
              "1           1  1050611   2018-01-28                   0      0         0   \n",
              "2           2  1050612   2018-01-28                   0      0         0   \n",
              "3           3  1050613   2018-01-28                   1      0         0   \n",
              "4           4  1050614   2018-01-28                   0      0         0   \n",
              "\n",
              "   funds  securities  long_term_deposit  em_account_pp  credit_card  payroll  \\\n",
              "0      0           0                  0              0            0      0.0   \n",
              "1      0           0                  0              0            0      0.0   \n",
              "2      0           0                  0              0            0      0.0   \n",
              "3      0           0                  0              0            0      0.0   \n",
              "4      0           0                  0              0            0      0.0   \n",
              "\n",
              "   pension_plan  payroll_account  emc_account  debit_card  em_account_p  \\\n",
              "0           0.0                0            0           0             0   \n",
              "1           0.0                0            0           0             0   \n",
              "2           0.0                0            0           0             0   \n",
              "3           0.0                0            0           0             0   \n",
              "4           0.0                0            0           0             0   \n",
              "\n",
              "   em_acount  \n",
              "0          1  \n",
              "1          1  \n",
              "2          1  \n",
              "3          0  \n",
              "4          1  "
            ]
          },
          "execution_count": 8,
          "metadata": {},
          "output_type": "execute_result"
        }
      ],
      "source": [
        "df_products.head()"
      ]
    },
    {
      "cell_type": "code",
      "execution_count": 9,
      "metadata": {
        "colab": {
          "base_uri": "https://localhost:8080/"
        },
        "id": "riFKwQWUEQDM",
        "outputId": "e8d37617-b979-440c-9eeb-caed0b69efef"
      },
      "outputs": [
        {
          "data": {
            "text/plain": [
              "(5962924, 18)"
            ]
          },
          "execution_count": 9,
          "metadata": {},
          "output_type": "execute_result"
        }
      ],
      "source": [
        "df_products.shape"
      ]
    },
    {
      "cell_type": "code",
      "execution_count": 10,
      "metadata": {
        "id": "L2WdWz6xEQDN"
      },
      "outputs": [],
      "source": [
        "# dropping index col\n",
        "df_products=df_products.drop('Unnamed: 0', axis=1)"
      ]
    },
    {
      "cell_type": "markdown",
      "metadata": {
        "id": "Bu7FLLq4EQDN"
      },
      "source": [
        "## Sociodemographic"
      ]
    },
    {
      "cell_type": "code",
      "execution_count": 11,
      "metadata": {
        "colab": {
          "base_uri": "https://localhost:8080/",
          "height": 244
        },
        "id": "SiEpOt_XEQDO",
        "outputId": "f0415c6d-d1e5-4170-e83b-6db1bebc8172"
      },
      "outputs": [
        {
          "data": {
            "text/html": [
              "<div>\n",
              "<style scoped>\n",
              "    .dataframe tbody tr th:only-of-type {\n",
              "        vertical-align: middle;\n",
              "    }\n",
              "\n",
              "    .dataframe tbody tr th {\n",
              "        vertical-align: top;\n",
              "    }\n",
              "\n",
              "    .dataframe thead th {\n",
              "        text-align: right;\n",
              "    }\n",
              "</style>\n",
              "<table border=\"1\" class=\"dataframe\">\n",
              "  <thead>\n",
              "    <tr style=\"text-align: right;\">\n",
              "      <th></th>\n",
              "      <th>Unnamed: 0</th>\n",
              "      <th>pk_cid</th>\n",
              "      <th>pk_partition</th>\n",
              "      <th>country_id</th>\n",
              "      <th>region_code</th>\n",
              "      <th>gender</th>\n",
              "      <th>age</th>\n",
              "      <th>deceased</th>\n",
              "      <th>salary</th>\n",
              "    </tr>\n",
              "  </thead>\n",
              "  <tbody>\n",
              "    <tr>\n",
              "      <th>0</th>\n",
              "      <td>0</td>\n",
              "      <td>1375586</td>\n",
              "      <td>2018-01-28</td>\n",
              "      <td>ES</td>\n",
              "      <td>29.0</td>\n",
              "      <td>H</td>\n",
              "      <td>35</td>\n",
              "      <td>N</td>\n",
              "      <td>87218.10</td>\n",
              "    </tr>\n",
              "    <tr>\n",
              "      <th>1</th>\n",
              "      <td>1</td>\n",
              "      <td>1050611</td>\n",
              "      <td>2018-01-28</td>\n",
              "      <td>ES</td>\n",
              "      <td>13.0</td>\n",
              "      <td>V</td>\n",
              "      <td>23</td>\n",
              "      <td>N</td>\n",
              "      <td>35548.74</td>\n",
              "    </tr>\n",
              "    <tr>\n",
              "      <th>2</th>\n",
              "      <td>2</td>\n",
              "      <td>1050612</td>\n",
              "      <td>2018-01-28</td>\n",
              "      <td>ES</td>\n",
              "      <td>13.0</td>\n",
              "      <td>V</td>\n",
              "      <td>23</td>\n",
              "      <td>N</td>\n",
              "      <td>122179.11</td>\n",
              "    </tr>\n",
              "    <tr>\n",
              "      <th>3</th>\n",
              "      <td>3</td>\n",
              "      <td>1050613</td>\n",
              "      <td>2018-01-28</td>\n",
              "      <td>ES</td>\n",
              "      <td>50.0</td>\n",
              "      <td>H</td>\n",
              "      <td>22</td>\n",
              "      <td>N</td>\n",
              "      <td>119775.54</td>\n",
              "    </tr>\n",
              "    <tr>\n",
              "      <th>4</th>\n",
              "      <td>4</td>\n",
              "      <td>1050614</td>\n",
              "      <td>2018-01-28</td>\n",
              "      <td>ES</td>\n",
              "      <td>50.0</td>\n",
              "      <td>V</td>\n",
              "      <td>23</td>\n",
              "      <td>N</td>\n",
              "      <td>NaN</td>\n",
              "    </tr>\n",
              "  </tbody>\n",
              "</table>\n",
              "</div>"
            ],
            "text/plain": [
              "   Unnamed: 0   pk_cid pk_partition country_id  region_code gender  age  \\\n",
              "0           0  1375586   2018-01-28         ES         29.0      H   35   \n",
              "1           1  1050611   2018-01-28         ES         13.0      V   23   \n",
              "2           2  1050612   2018-01-28         ES         13.0      V   23   \n",
              "3           3  1050613   2018-01-28         ES         50.0      H   22   \n",
              "4           4  1050614   2018-01-28         ES         50.0      V   23   \n",
              "\n",
              "  deceased     salary  \n",
              "0        N   87218.10  \n",
              "1        N   35548.74  \n",
              "2        N  122179.11  \n",
              "3        N  119775.54  \n",
              "4        N        NaN  "
            ]
          },
          "execution_count": 11,
          "metadata": {},
          "output_type": "execute_result"
        }
      ],
      "source": [
        "df_sociodem.head()"
      ]
    },
    {
      "cell_type": "code",
      "execution_count": 12,
      "metadata": {
        "colab": {
          "base_uri": "https://localhost:8080/"
        },
        "id": "lJMX5mSBEQDO",
        "outputId": "06fec616-1024-476e-bae9-178876269771"
      },
      "outputs": [
        {
          "data": {
            "text/plain": [
              "(5962924, 9)"
            ]
          },
          "execution_count": 12,
          "metadata": {},
          "output_type": "execute_result"
        }
      ],
      "source": [
        "df_sociodem.shape"
      ]
    },
    {
      "cell_type": "code",
      "execution_count": 13,
      "metadata": {
        "id": "cZE2LqIKEQDP"
      },
      "outputs": [],
      "source": [
        "# dropping index column\n",
        "df_sociodem=df_sociodem.drop('Unnamed: 0', axis=1)"
      ]
    },
    {
      "cell_type": "markdown",
      "metadata": {
        "id": "dhnBA-CSEQDP"
      },
      "source": [
        "## Merging datasets"
      ]
    },
    {
      "cell_type": "markdown",
      "metadata": {
        "id": "RcGlyBWoEQDP"
      },
      "source": [
        "Since both have the same # of rows, we'll join by common cols: pk_cid y pk_partition"
      ]
    },
    {
      "cell_type": "code",
      "execution_count": 14,
      "metadata": {
        "colab": {
          "base_uri": "https://localhost:8080/",
          "height": 226
        },
        "id": "SulqS_PNEQDQ",
        "outputId": "c4ed4acf-ff72-4964-ece3-673fdbb4d767"
      },
      "outputs": [
        {
          "data": {
            "text/html": [
              "<div>\n",
              "<style scoped>\n",
              "    .dataframe tbody tr th:only-of-type {\n",
              "        vertical-align: middle;\n",
              "    }\n",
              "\n",
              "    .dataframe tbody tr th {\n",
              "        vertical-align: top;\n",
              "    }\n",
              "\n",
              "    .dataframe thead th {\n",
              "        text-align: right;\n",
              "    }\n",
              "</style>\n",
              "<table border=\"1\" class=\"dataframe\">\n",
              "  <thead>\n",
              "    <tr style=\"text-align: right;\">\n",
              "      <th></th>\n",
              "      <th>pk_cid</th>\n",
              "      <th>pk_partition</th>\n",
              "      <th>short_term_deposit</th>\n",
              "      <th>loans</th>\n",
              "      <th>mortgage</th>\n",
              "      <th>funds</th>\n",
              "      <th>securities</th>\n",
              "      <th>long_term_deposit</th>\n",
              "      <th>em_account_pp</th>\n",
              "      <th>credit_card</th>\n",
              "      <th>payroll</th>\n",
              "      <th>pension_plan</th>\n",
              "      <th>payroll_account</th>\n",
              "      <th>emc_account</th>\n",
              "      <th>debit_card</th>\n",
              "      <th>em_account_p</th>\n",
              "      <th>em_acount</th>\n",
              "    </tr>\n",
              "  </thead>\n",
              "  <tbody>\n",
              "    <tr>\n",
              "      <th>0</th>\n",
              "      <td>1375586</td>\n",
              "      <td>2018-01-28</td>\n",
              "      <td>0</td>\n",
              "      <td>0</td>\n",
              "      <td>0</td>\n",
              "      <td>0</td>\n",
              "      <td>0</td>\n",
              "      <td>0</td>\n",
              "      <td>0</td>\n",
              "      <td>0</td>\n",
              "      <td>0.0</td>\n",
              "      <td>0.0</td>\n",
              "      <td>0</td>\n",
              "      <td>0</td>\n",
              "      <td>0</td>\n",
              "      <td>0</td>\n",
              "      <td>1</td>\n",
              "    </tr>\n",
              "    <tr>\n",
              "      <th>1</th>\n",
              "      <td>1050611</td>\n",
              "      <td>2018-01-28</td>\n",
              "      <td>0</td>\n",
              "      <td>0</td>\n",
              "      <td>0</td>\n",
              "      <td>0</td>\n",
              "      <td>0</td>\n",
              "      <td>0</td>\n",
              "      <td>0</td>\n",
              "      <td>0</td>\n",
              "      <td>0.0</td>\n",
              "      <td>0.0</td>\n",
              "      <td>0</td>\n",
              "      <td>0</td>\n",
              "      <td>0</td>\n",
              "      <td>0</td>\n",
              "      <td>1</td>\n",
              "    </tr>\n",
              "    <tr>\n",
              "      <th>2</th>\n",
              "      <td>1050612</td>\n",
              "      <td>2018-01-28</td>\n",
              "      <td>0</td>\n",
              "      <td>0</td>\n",
              "      <td>0</td>\n",
              "      <td>0</td>\n",
              "      <td>0</td>\n",
              "      <td>0</td>\n",
              "      <td>0</td>\n",
              "      <td>0</td>\n",
              "      <td>0.0</td>\n",
              "      <td>0.0</td>\n",
              "      <td>0</td>\n",
              "      <td>0</td>\n",
              "      <td>0</td>\n",
              "      <td>0</td>\n",
              "      <td>1</td>\n",
              "    </tr>\n",
              "    <tr>\n",
              "      <th>3</th>\n",
              "      <td>1050613</td>\n",
              "      <td>2018-01-28</td>\n",
              "      <td>1</td>\n",
              "      <td>0</td>\n",
              "      <td>0</td>\n",
              "      <td>0</td>\n",
              "      <td>0</td>\n",
              "      <td>0</td>\n",
              "      <td>0</td>\n",
              "      <td>0</td>\n",
              "      <td>0.0</td>\n",
              "      <td>0.0</td>\n",
              "      <td>0</td>\n",
              "      <td>0</td>\n",
              "      <td>0</td>\n",
              "      <td>0</td>\n",
              "      <td>0</td>\n",
              "    </tr>\n",
              "    <tr>\n",
              "      <th>4</th>\n",
              "      <td>1050614</td>\n",
              "      <td>2018-01-28</td>\n",
              "      <td>0</td>\n",
              "      <td>0</td>\n",
              "      <td>0</td>\n",
              "      <td>0</td>\n",
              "      <td>0</td>\n",
              "      <td>0</td>\n",
              "      <td>0</td>\n",
              "      <td>0</td>\n",
              "      <td>0.0</td>\n",
              "      <td>0.0</td>\n",
              "      <td>0</td>\n",
              "      <td>0</td>\n",
              "      <td>0</td>\n",
              "      <td>0</td>\n",
              "      <td>1</td>\n",
              "    </tr>\n",
              "  </tbody>\n",
              "</table>\n",
              "</div>"
            ],
            "text/plain": [
              "    pk_cid pk_partition  short_term_deposit  loans  mortgage  funds  \\\n",
              "0  1375586   2018-01-28                   0      0         0      0   \n",
              "1  1050611   2018-01-28                   0      0         0      0   \n",
              "2  1050612   2018-01-28                   0      0         0      0   \n",
              "3  1050613   2018-01-28                   1      0         0      0   \n",
              "4  1050614   2018-01-28                   0      0         0      0   \n",
              "\n",
              "   securities  long_term_deposit  em_account_pp  credit_card  payroll  \\\n",
              "0           0                  0              0            0      0.0   \n",
              "1           0                  0              0            0      0.0   \n",
              "2           0                  0              0            0      0.0   \n",
              "3           0                  0              0            0      0.0   \n",
              "4           0                  0              0            0      0.0   \n",
              "\n",
              "   pension_plan  payroll_account  emc_account  debit_card  em_account_p  \\\n",
              "0           0.0                0            0           0             0   \n",
              "1           0.0                0            0           0             0   \n",
              "2           0.0                0            0           0             0   \n",
              "3           0.0                0            0           0             0   \n",
              "4           0.0                0            0           0             0   \n",
              "\n",
              "   em_acount  \n",
              "0          1  \n",
              "1          1  \n",
              "2          1  \n",
              "3          0  \n",
              "4          1  "
            ]
          },
          "execution_count": 14,
          "metadata": {},
          "output_type": "execute_result"
        }
      ],
      "source": [
        "df_products.head()"
      ]
    },
    {
      "cell_type": "code",
      "execution_count": 15,
      "metadata": {
        "id": "4uXtm52dEQDQ"
      },
      "outputs": [],
      "source": [
        "df=df_com_act.merge(df_products, how='left', on=['pk_cid', 'pk_partition'])\\\n",
        "            .merge(df_sociodem, how='left', on=['pk_cid', 'pk_partition'])"
      ]
    },
    {
      "cell_type": "code",
      "execution_count": 16,
      "metadata": {
        "colab": {
          "base_uri": "https://localhost:8080/",
          "height": 313
        },
        "id": "y9jv-sB8EQDQ",
        "outputId": "60d96425-21c6-4338-b385-b09654a310fa"
      },
      "outputs": [
        {
          "data": {
            "text/html": [
              "<div>\n",
              "<style scoped>\n",
              "    .dataframe tbody tr th:only-of-type {\n",
              "        vertical-align: middle;\n",
              "    }\n",
              "\n",
              "    .dataframe tbody tr th {\n",
              "        vertical-align: top;\n",
              "    }\n",
              "\n",
              "    .dataframe thead th {\n",
              "        text-align: right;\n",
              "    }\n",
              "</style>\n",
              "<table border=\"1\" class=\"dataframe\">\n",
              "  <thead>\n",
              "    <tr style=\"text-align: right;\">\n",
              "      <th></th>\n",
              "      <th>pk_cid</th>\n",
              "      <th>pk_partition</th>\n",
              "      <th>entry_date</th>\n",
              "      <th>entry_channel</th>\n",
              "      <th>active_customer</th>\n",
              "      <th>segment</th>\n",
              "      <th>short_term_deposit</th>\n",
              "      <th>loans</th>\n",
              "      <th>mortgage</th>\n",
              "      <th>funds</th>\n",
              "      <th>securities</th>\n",
              "      <th>long_term_deposit</th>\n",
              "      <th>em_account_pp</th>\n",
              "      <th>credit_card</th>\n",
              "      <th>payroll</th>\n",
              "      <th>pension_plan</th>\n",
              "      <th>payroll_account</th>\n",
              "      <th>emc_account</th>\n",
              "      <th>debit_card</th>\n",
              "      <th>em_account_p</th>\n",
              "      <th>em_acount</th>\n",
              "      <th>country_id</th>\n",
              "      <th>region_code</th>\n",
              "      <th>gender</th>\n",
              "      <th>age</th>\n",
              "      <th>deceased</th>\n",
              "      <th>salary</th>\n",
              "    </tr>\n",
              "  </thead>\n",
              "  <tbody>\n",
              "    <tr>\n",
              "      <th>0</th>\n",
              "      <td>1375586</td>\n",
              "      <td>2018-01-28</td>\n",
              "      <td>2018-01-12</td>\n",
              "      <td>KHL</td>\n",
              "      <td>1.0</td>\n",
              "      <td>02 - PARTICULARES</td>\n",
              "      <td>0</td>\n",
              "      <td>0</td>\n",
              "      <td>0</td>\n",
              "      <td>0</td>\n",
              "      <td>0</td>\n",
              "      <td>0</td>\n",
              "      <td>0</td>\n",
              "      <td>0</td>\n",
              "      <td>0.0</td>\n",
              "      <td>0.0</td>\n",
              "      <td>0</td>\n",
              "      <td>0</td>\n",
              "      <td>0</td>\n",
              "      <td>0</td>\n",
              "      <td>1</td>\n",
              "      <td>ES</td>\n",
              "      <td>29.0</td>\n",
              "      <td>H</td>\n",
              "      <td>35</td>\n",
              "      <td>N</td>\n",
              "      <td>87218.10</td>\n",
              "    </tr>\n",
              "    <tr>\n",
              "      <th>1</th>\n",
              "      <td>1050611</td>\n",
              "      <td>2018-01-28</td>\n",
              "      <td>2015-08-10</td>\n",
              "      <td>KHE</td>\n",
              "      <td>0.0</td>\n",
              "      <td>03 - UNIVERSITARIO</td>\n",
              "      <td>0</td>\n",
              "      <td>0</td>\n",
              "      <td>0</td>\n",
              "      <td>0</td>\n",
              "      <td>0</td>\n",
              "      <td>0</td>\n",
              "      <td>0</td>\n",
              "      <td>0</td>\n",
              "      <td>0.0</td>\n",
              "      <td>0.0</td>\n",
              "      <td>0</td>\n",
              "      <td>0</td>\n",
              "      <td>0</td>\n",
              "      <td>0</td>\n",
              "      <td>1</td>\n",
              "      <td>ES</td>\n",
              "      <td>13.0</td>\n",
              "      <td>V</td>\n",
              "      <td>23</td>\n",
              "      <td>N</td>\n",
              "      <td>35548.74</td>\n",
              "    </tr>\n",
              "    <tr>\n",
              "      <th>2</th>\n",
              "      <td>1050612</td>\n",
              "      <td>2018-01-28</td>\n",
              "      <td>2015-08-10</td>\n",
              "      <td>KHE</td>\n",
              "      <td>0.0</td>\n",
              "      <td>03 - UNIVERSITARIO</td>\n",
              "      <td>0</td>\n",
              "      <td>0</td>\n",
              "      <td>0</td>\n",
              "      <td>0</td>\n",
              "      <td>0</td>\n",
              "      <td>0</td>\n",
              "      <td>0</td>\n",
              "      <td>0</td>\n",
              "      <td>0.0</td>\n",
              "      <td>0.0</td>\n",
              "      <td>0</td>\n",
              "      <td>0</td>\n",
              "      <td>0</td>\n",
              "      <td>0</td>\n",
              "      <td>1</td>\n",
              "      <td>ES</td>\n",
              "      <td>13.0</td>\n",
              "      <td>V</td>\n",
              "      <td>23</td>\n",
              "      <td>N</td>\n",
              "      <td>122179.11</td>\n",
              "    </tr>\n",
              "    <tr>\n",
              "      <th>3</th>\n",
              "      <td>1050613</td>\n",
              "      <td>2018-01-28</td>\n",
              "      <td>2015-08-10</td>\n",
              "      <td>KHD</td>\n",
              "      <td>0.0</td>\n",
              "      <td>03 - UNIVERSITARIO</td>\n",
              "      <td>1</td>\n",
              "      <td>0</td>\n",
              "      <td>0</td>\n",
              "      <td>0</td>\n",
              "      <td>0</td>\n",
              "      <td>0</td>\n",
              "      <td>0</td>\n",
              "      <td>0</td>\n",
              "      <td>0.0</td>\n",
              "      <td>0.0</td>\n",
              "      <td>0</td>\n",
              "      <td>0</td>\n",
              "      <td>0</td>\n",
              "      <td>0</td>\n",
              "      <td>0</td>\n",
              "      <td>ES</td>\n",
              "      <td>50.0</td>\n",
              "      <td>H</td>\n",
              "      <td>22</td>\n",
              "      <td>N</td>\n",
              "      <td>119775.54</td>\n",
              "    </tr>\n",
              "    <tr>\n",
              "      <th>4</th>\n",
              "      <td>1050614</td>\n",
              "      <td>2018-01-28</td>\n",
              "      <td>2015-08-10</td>\n",
              "      <td>KHE</td>\n",
              "      <td>1.0</td>\n",
              "      <td>03 - UNIVERSITARIO</td>\n",
              "      <td>0</td>\n",
              "      <td>0</td>\n",
              "      <td>0</td>\n",
              "      <td>0</td>\n",
              "      <td>0</td>\n",
              "      <td>0</td>\n",
              "      <td>0</td>\n",
              "      <td>0</td>\n",
              "      <td>0.0</td>\n",
              "      <td>0.0</td>\n",
              "      <td>0</td>\n",
              "      <td>0</td>\n",
              "      <td>0</td>\n",
              "      <td>0</td>\n",
              "      <td>1</td>\n",
              "      <td>ES</td>\n",
              "      <td>50.0</td>\n",
              "      <td>V</td>\n",
              "      <td>23</td>\n",
              "      <td>N</td>\n",
              "      <td>NaN</td>\n",
              "    </tr>\n",
              "  </tbody>\n",
              "</table>\n",
              "</div>"
            ],
            "text/plain": [
              "    pk_cid pk_partition  entry_date entry_channel  active_customer  \\\n",
              "0  1375586   2018-01-28  2018-01-12           KHL              1.0   \n",
              "1  1050611   2018-01-28  2015-08-10           KHE              0.0   \n",
              "2  1050612   2018-01-28  2015-08-10           KHE              0.0   \n",
              "3  1050613   2018-01-28  2015-08-10           KHD              0.0   \n",
              "4  1050614   2018-01-28  2015-08-10           KHE              1.0   \n",
              "\n",
              "              segment  short_term_deposit  loans  mortgage  funds  securities  \\\n",
              "0   02 - PARTICULARES                   0      0         0      0           0   \n",
              "1  03 - UNIVERSITARIO                   0      0         0      0           0   \n",
              "2  03 - UNIVERSITARIO                   0      0         0      0           0   \n",
              "3  03 - UNIVERSITARIO                   1      0         0      0           0   \n",
              "4  03 - UNIVERSITARIO                   0      0         0      0           0   \n",
              "\n",
              "   long_term_deposit  em_account_pp  credit_card  payroll  pension_plan  \\\n",
              "0                  0              0            0      0.0           0.0   \n",
              "1                  0              0            0      0.0           0.0   \n",
              "2                  0              0            0      0.0           0.0   \n",
              "3                  0              0            0      0.0           0.0   \n",
              "4                  0              0            0      0.0           0.0   \n",
              "\n",
              "   payroll_account  emc_account  debit_card  em_account_p  em_acount  \\\n",
              "0                0            0           0             0          1   \n",
              "1                0            0           0             0          1   \n",
              "2                0            0           0             0          1   \n",
              "3                0            0           0             0          0   \n",
              "4                0            0           0             0          1   \n",
              "\n",
              "  country_id  region_code gender  age deceased     salary  \n",
              "0         ES         29.0      H   35        N   87218.10  \n",
              "1         ES         13.0      V   23        N   35548.74  \n",
              "2         ES         13.0      V   23        N  122179.11  \n",
              "3         ES         50.0      H   22        N  119775.54  \n",
              "4         ES         50.0      V   23        N        NaN  "
            ]
          },
          "execution_count": 16,
          "metadata": {},
          "output_type": "execute_result"
        }
      ],
      "source": [
        "df.head()"
      ]
    },
    {
      "cell_type": "markdown",
      "metadata": {
        "id": "Qs8xOajkEQDR"
      },
      "source": [
        "# Data cleaning"
      ]
    },
    {
      "cell_type": "markdown",
      "metadata": {
        "id": "FSRRBgRJEQDS"
      },
      "source": [
        "## Variables with nulls"
      ]
    },
    {
      "cell_type": "code",
      "execution_count": 17,
      "metadata": {
        "colab": {
          "base_uri": "https://localhost:8080/"
        },
        "id": "_MOrQ_GYEQDS",
        "outputId": "46dace20-06d0-4e96-8485-d06575b30b27"
      },
      "outputs": [
        {
          "name": "stdout",
          "output_type": "stream",
          "text": [
            "<class 'pandas.core.frame.DataFrame'>\n",
            "RangeIndex: 5962924 entries, 0 to 5962923\n",
            "Data columns (total 27 columns):\n",
            " #   Column              Dtype  \n",
            "---  ------              -----  \n",
            " 0   pk_cid              int64  \n",
            " 1   pk_partition        object \n",
            " 2   entry_date          object \n",
            " 3   entry_channel       object \n",
            " 4   active_customer     float64\n",
            " 5   segment             object \n",
            " 6   short_term_deposit  int64  \n",
            " 7   loans               int64  \n",
            " 8   mortgage            int64  \n",
            " 9   funds               int64  \n",
            " 10  securities          int64  \n",
            " 11  long_term_deposit   int64  \n",
            " 12  em_account_pp       int64  \n",
            " 13  credit_card         int64  \n",
            " 14  payroll             float64\n",
            " 15  pension_plan        float64\n",
            " 16  payroll_account     int64  \n",
            " 17  emc_account         int64  \n",
            " 18  debit_card          int64  \n",
            " 19  em_account_p        int64  \n",
            " 20  em_acount           int64  \n",
            " 21  country_id          object \n",
            " 22  region_code         float64\n",
            " 23  gender              object \n",
            " 24  age                 int64  \n",
            " 25  deceased            object \n",
            " 26  salary              float64\n",
            "dtypes: float64(5), int64(15), object(7)\n",
            "memory usage: 1.2+ GB\n"
          ]
        }
      ],
      "source": [
        "df.info()"
      ]
    },
    {
      "cell_type": "code",
      "execution_count": 18,
      "metadata": {
        "colab": {
          "base_uri": "https://localhost:8080/"
        },
        "id": "8L6-KkrNEQDS",
        "outputId": "239e1ae1-c24a-49dd-ac22-f87b11e7134d"
      },
      "outputs": [
        {
          "data": {
            "text/plain": [
              "pk_cid                      0\n",
              "pk_partition                0\n",
              "entry_date                  0\n",
              "entry_channel          133033\n",
              "active_customer             0\n",
              "segment                133944\n",
              "short_term_deposit          0\n",
              "loans                       0\n",
              "mortgage                    0\n",
              "funds                       0\n",
              "securities                  0\n",
              "long_term_deposit           0\n",
              "em_account_pp               0\n",
              "credit_card                 0\n",
              "payroll                    61\n",
              "pension_plan               61\n",
              "payroll_account             0\n",
              "emc_account                 0\n",
              "debit_card                  0\n",
              "em_account_p                0\n",
              "em_acount                   0\n",
              "country_id                  0\n",
              "region_code              2264\n",
              "gender                     25\n",
              "age                         0\n",
              "deceased                    0\n",
              "salary                1512103\n",
              "dtype: int64"
            ]
          },
          "execution_count": 18,
          "metadata": {},
          "output_type": "execute_result"
        }
      ],
      "source": [
        "df.isna().sum()"
      ]
    },
    {
      "cell_type": "markdown",
      "metadata": {
        "id": "OK7h7Es5EQDT"
      },
      "source": [
        "### Variable region code"
      ]
    },
    {
      "cell_type": "markdown",
      "metadata": {
        "id": "o89GRLqQEQDT"
      },
      "source": [
        "I've mapped the regions with the code that's associated to the Spanish region, and for nulls I've used `999:Unknown`"
      ]
    },
    {
      "cell_type": "code",
      "execution_count": 19,
      "metadata": {
        "colab": {
          "base_uri": "https://localhost:8080/"
        },
        "id": "Tf4lRzvoEQDT",
        "outputId": "54dcd982-ad7d-406f-bac9-47a0951b2363"
      },
      "outputs": [
        {
          "data": {
            "text/plain": [
              "52.0"
            ]
          },
          "execution_count": 19,
          "metadata": {},
          "output_type": "execute_result"
        }
      ],
      "source": [
        "df.region_code.max()"
      ]
    },
    {
      "cell_type": "code",
      "execution_count": 20,
      "metadata": {
        "colab": {
          "base_uri": "https://localhost:8080/"
        },
        "id": "SbdbR2N3EQDU",
        "outputId": "6334d8d6-6726-49de-bc43-17f4a1e80c7e"
      },
      "outputs": [
        {
          "data": {
            "text/plain": [
              "1.0"
            ]
          },
          "execution_count": 20,
          "metadata": {},
          "output_type": "execute_result"
        }
      ],
      "source": [
        "df.region_code.min()"
      ]
    },
    {
      "cell_type": "code",
      "execution_count": 21,
      "metadata": {
        "colab": {
          "base_uri": "https://localhost:8080/"
        },
        "id": "86L7JZr0EQDU",
        "outputId": "84054643-5ac6-44b8-888b-34aca92fdfcb"
      },
      "outputs": [
        {
          "data": {
            "text/plain": [
              "country_id\n",
              "ES    5960672\n",
              "GB        441\n",
              "FR        225\n",
              "DE        199\n",
              "US        195\n",
              "CH        194\n",
              "BR         87\n",
              "BE         81\n",
              "VE         79\n",
              "IE         68\n",
              "MX         58\n",
              "AT         51\n",
              "AR         51\n",
              "PL         49\n",
              "IT         45\n",
              "MA         34\n",
              "CL         30\n",
              "CN         28\n",
              "CA         22\n",
              "LU         17\n",
              "ET         17\n",
              "QA         17\n",
              "CI         17\n",
              "SA         17\n",
              "CM         17\n",
              "SN         17\n",
              "MR         17\n",
              "NO         17\n",
              "RU         17\n",
              "CO         17\n",
              "GA         17\n",
              "GT         17\n",
              "DO         17\n",
              "SE         16\n",
              "DJ         11\n",
              "PT         11\n",
              "JM         11\n",
              "RO          9\n",
              "HU          8\n",
              "DZ          7\n",
              "PE          4\n",
              "Name: count, dtype: int64"
            ]
          },
          "execution_count": 21,
          "metadata": {},
          "output_type": "execute_result"
        }
      ],
      "source": [
        "df.country_id.value_counts()"
      ]
    },
    {
      "cell_type": "code",
      "execution_count": 22,
      "metadata": {
        "id": "7YdgV7DaEQDU"
      },
      "outputs": [],
      "source": [
        "df['region_code']=np.where(df['region_code'].isna(),999,df['region_code'])"
      ]
    },
    {
      "cell_type": "code",
      "execution_count": 23,
      "metadata": {
        "id": "7yAHPPrnEQDV"
      },
      "outputs": [],
      "source": [
        "# making sure there are no nulls + changing variable type to categorical \n",
        "#(so the future model does not interpret it as a #)\n",
        "df.region_code.isna().any()\n",
        "df['region_code']=df.region_code.astype('category')"
      ]
    },
    {
      "cell_type": "code",
      "execution_count": 24,
      "metadata": {
        "id": "H8pkzHHBEQDV"
      },
      "outputs": [],
      "source": [
        "# Creating an additional col that contains the values of the Spanish regions\n",
        "regions={1:'Alava',\n",
        "2:'Albacete',\n",
        "3:'Alicante',\n",
        "4:'Almeria',\n",
        "5:'Avila',\n",
        "6:'Badajoz',\n",
        "7:'Baleares',\n",
        "8:'Barcelona',\n",
        "9:'Burgos',\n",
        "10:'Caceres',\n",
        "11:'Cadiz',\n",
        "12:'Castellon',\n",
        "13:'Ciudad Real',\n",
        "14:'Cordoba',\n",
        "15:'La Coruna',\n",
        "16:'Cuenca',\n",
        "17:'Gerona',\n",
        "18:'Granada',\n",
        "19:'Guadalajara',\n",
        "20:'Guipuzcoa',\n",
        "21:'Huelva',\n",
        "22:'Huesca',\n",
        "23:'Jaen',\n",
        "24:'Leon',\n",
        "25:'Lerida',\n",
        "26:'La Rioja',\n",
        "27:'Lugo',\n",
        "28:'Madrid',\n",
        "29:'Malaga',\n",
        "30:'Murcia',\n",
        "31:'Navarra',\n",
        "32:'Orense',\n",
        "33:'Asturias',\n",
        "34:'Palencia',\n",
        "35:'Las Palmas',\n",
        "36:'Pontevedra',\n",
        "37:'Salamanca',\n",
        "38:'Santa Cruz de Tenerife',\n",
        "39:'Cantabria',\n",
        "40:'Segovia',\n",
        "41:'Sevilla',\n",
        "42:'Soria',\n",
        "43:'Tarragona',\n",
        "44:'Teruel',\n",
        "45:'Toledo',\n",
        "46:'Valencia',\n",
        "47:'Valladolid',\n",
        "48:'Vizcaya',\n",
        "49:'Zamora',\n",
        "50:'Zaragoza',\n",
        "51:'Ceuta',\n",
        "52:'Melilla',\n",
        "999:'Desconocido'}\n",
        "\n",
        "df['region_name']=df.region_code.map(regions)"
      ]
    },
    {
      "cell_type": "markdown",
      "metadata": {
        "id": "u_c2yH2KEQDW"
      },
      "source": [
        "### Variable deceased"
      ]
    },
    {
      "cell_type": "markdown",
      "metadata": {
        "id": "IX_P2H8rEQDW"
      },
      "source": [
        "Converting variable to 1 if deceased and 0 otherwise (taking into account that there are no nulls)."
      ]
    },
    {
      "cell_type": "code",
      "execution_count": 25,
      "metadata": {
        "colab": {
          "base_uri": "https://localhost:8080/"
        },
        "id": "FkyQkeF4EQDW",
        "outputId": "8ec7e0b8-3832-4c65-e7ff-707a9faf4bcd"
      },
      "outputs": [
        {
          "data": {
            "text/plain": [
              "deceased\n",
              "N    5961849\n",
              "S       1075\n",
              "Name: count, dtype: int64"
            ]
          },
          "execution_count": 25,
          "metadata": {},
          "output_type": "execute_result"
        }
      ],
      "source": [
        "df.deceased.value_counts()"
      ]
    },
    {
      "cell_type": "code",
      "execution_count": 26,
      "metadata": {
        "id": "z4NglKYHEQDX"
      },
      "outputs": [],
      "source": [
        "df['deceased']=np.where(df['deceased']=='N',0,1)"
      ]
    },
    {
      "cell_type": "markdown",
      "metadata": {
        "id": "Gq-nAzuSEQDX"
      },
      "source": [
        "### Variable gender"
      ]
    },
    {
      "cell_type": "code",
      "execution_count": 27,
      "metadata": {
        "id": "9JxAJ3YGEQDX"
      },
      "outputs": [],
      "source": [
        "df['gender']=np.where(df['gender'].isna(),'unknown',df['gender'])"
      ]
    },
    {
      "cell_type": "code",
      "execution_count": 28,
      "metadata": {
        "colab": {
          "base_uri": "https://localhost:8080/"
        },
        "id": "Tlbh8CylEQDY",
        "outputId": "c9a6fbd3-05de-48f1-91a0-ae6e171b9146"
      },
      "outputs": [
        {
          "data": {
            "text/plain": [
              "gender\n",
              "H          0.517783\n",
              "V          0.482213\n",
              "unknown    0.000004\n",
              "Name: proportion, dtype: float64"
            ]
          },
          "execution_count": 28,
          "metadata": {},
          "output_type": "execute_result"
        }
      ],
      "source": [
        "df.gender.value_counts(normalize=True) #muy bien distribuida en términos de género"
      ]
    },
    {
      "cell_type": "markdown",
      "metadata": {
        "id": "i4HEf_TdEQDY"
      },
      "source": [
        "### Variable segment"
      ]
    },
    {
      "cell_type": "code",
      "execution_count": 29,
      "metadata": {
        "colab": {
          "base_uri": "https://localhost:8080/"
        },
        "id": "kL3MzvqyEQDY",
        "outputId": "02c018e9-4813-4f80-9c2e-a7bde37ac8fa"
      },
      "outputs": [
        {
          "data": {
            "text/plain": [
              "segment\n",
              "03 - UNIVERSITARIO    3900166\n",
              "02 - PARTICULARES     1830875\n",
              "01 - TOP                97939\n",
              "Name: count, dtype: int64"
            ]
          },
          "execution_count": 29,
          "metadata": {},
          "output_type": "execute_result"
        }
      ],
      "source": [
        "df.segment.value_counts()"
      ]
    },
    {
      "cell_type": "code",
      "execution_count": 30,
      "metadata": {
        "id": "gYi-qS9rEQDY"
      },
      "outputs": [],
      "source": [
        "df['segment']=np.where(df['segment']=='03 - UNIVERSITARIO','universitario',df['segment'])\n",
        "df['segment']=np.where(df['segment']=='02 - PARTICULARES','particulares',df['segment'])\n",
        "df['segment']=np.where(df['segment']=='01 - TOP','top',df['segment'])\n",
        "df['segment']=np.where(df['segment'].isna(),'desconocido',df['segment'])"
      ]
    },
    {
      "cell_type": "markdown",
      "metadata": {
        "id": "x86bDjXqEQDY"
      },
      "source": [
        "### Variable entry channel"
      ]
    },
    {
      "cell_type": "code",
      "execution_count": 31,
      "metadata": {
        "colab": {
          "base_uri": "https://localhost:8080/"
        },
        "id": "zQf8Ks2NEQDa",
        "outputId": "a49ae8e0-d610-487d-e0a3-a0cb44c778bf"
      },
      "outputs": [
        {
          "data": {
            "text/plain": [
              "entry_channel\n",
              "KHE    3113947\n",
              "KFC     890620\n",
              "KHQ     590280\n",
              "KAT     416084\n",
              "KHK     230197\n",
              "        ...   \n",
              "KEJ          8\n",
              "KHS          5\n",
              "KDA          2\n",
              "KFP          2\n",
              "KDS          1\n",
              "Name: count, Length: 68, dtype: int64"
            ]
          },
          "execution_count": 31,
          "metadata": {},
          "output_type": "execute_result"
        }
      ],
      "source": [
        "df.entry_channel.value_counts()"
      ]
    },
    {
      "cell_type": "code",
      "execution_count": 32,
      "metadata": {
        "colab": {
          "base_uri": "https://localhost:8080/"
        },
        "id": "2HDqVUHCEQDa",
        "outputId": "590b9cdc-319a-4e31-edb6-062f5d5bc902"
      },
      "outputs": [
        {
          "data": {
            "text/plain": [
              "133033"
            ]
          },
          "execution_count": 32,
          "metadata": {},
          "output_type": "execute_result"
        }
      ],
      "source": [
        "df.entry_channel.isna().sum()"
      ]
    },
    {
      "cell_type": "code",
      "execution_count": 33,
      "metadata": {
        "id": "Ps1ruEinEQDa"
      },
      "outputs": [],
      "source": [
        "df['entry_channel']=np.where(df['entry_channel'].isna(),'UNKNOWN',df['entry_channel'])"
      ]
    },
    {
      "cell_type": "code",
      "execution_count": 34,
      "metadata": {
        "id": "UzayOJRaEQDa"
      },
      "outputs": [],
      "source": [
        "df['entry_channel']=df.entry_channel.astype('category')"
      ]
    },
    {
      "cell_type": "markdown",
      "metadata": {
        "id": "AibcH1fTEQDa"
      },
      "source": [
        "### Variable payroll"
      ]
    },
    {
      "cell_type": "code",
      "execution_count": 35,
      "metadata": {
        "colab": {
          "base_uri": "https://localhost:8080/"
        },
        "id": "u8C4h4ptEQDb",
        "outputId": "36881d9d-f93a-489b-c2b4-55c61e58ea73"
      },
      "outputs": [
        {
          "data": {
            "text/plain": [
              "payroll\n",
              "0.0    0.965489\n",
              "1.0    0.034511\n",
              "Name: proportion, dtype: float64"
            ]
          },
          "execution_count": 35,
          "metadata": {},
          "output_type": "execute_result"
        }
      ],
      "source": [
        "df.payroll.value_counts(normalize=True) # muy desbalanceado"
      ]
    },
    {
      "cell_type": "code",
      "execution_count": 36,
      "metadata": {
        "id": "lI8SiD75EQDc"
      },
      "outputs": [],
      "source": [
        "df['payroll']=np.where(df['payroll'].isna(),0,df['payroll'])"
      ]
    },
    {
      "cell_type": "markdown",
      "metadata": {
        "id": "QqpVXEw7EQDc"
      },
      "source": [
        "### Variable pension_plan"
      ]
    },
    {
      "cell_type": "code",
      "execution_count": 37,
      "metadata": {
        "colab": {
          "base_uri": "https://localhost:8080/"
        },
        "id": "1jlmUMIHEQDd",
        "outputId": "c0803b77-76f5-48b3-c157-0d05fc18133d"
      },
      "outputs": [
        {
          "data": {
            "text/plain": [
              "pension_plan\n",
              "0.0    0.963474\n",
              "1.0    0.036526\n",
              "Name: proportion, dtype: float64"
            ]
          },
          "execution_count": 37,
          "metadata": {},
          "output_type": "execute_result"
        }
      ],
      "source": [
        "df.pension_plan.value_counts(normalize=True)"
      ]
    },
    {
      "cell_type": "code",
      "execution_count": 38,
      "metadata": {
        "id": "MsdLl3XiEQDd"
      },
      "outputs": [],
      "source": [
        "df['pension_plan']=np.where(df['pension_plan'].isna(),0,df['pension_plan'])"
      ]
    },
    {
      "cell_type": "markdown",
      "metadata": {
        "id": "HOuVuwLnEQDd"
      },
      "source": [
        "### Variable salary"
      ]
    },
    {
      "cell_type": "code",
      "execution_count": 39,
      "metadata": {
        "colab": {
          "base_uri": "https://localhost:8080/"
        },
        "id": "DnTjvdP8EQDd",
        "outputId": "a5ca8104-b01b-4f62-9da3-3850a0747ff6"
      },
      "outputs": [
        {
          "data": {
            "text/plain": [
              "count    4.450821e+06\n",
              "mean     1.158167e+05\n",
              "std      1.995519e+05\n",
              "min      1.202730e+03\n",
              "25%      6.150063e+04\n",
              "50%      8.865465e+04\n",
              "75%      1.316699e+05\n",
              "max      2.889440e+07\n",
              "Name: salary, dtype: float64"
            ]
          },
          "execution_count": 39,
          "metadata": {},
          "output_type": "execute_result"
        }
      ],
      "source": [
        "df.salary.describe()"
      ]
    },
    {
      "cell_type": "code",
      "execution_count": 40,
      "metadata": {
        "id": "zXxf-rbaEQDe"
      },
      "outputs": [
        {
          "data": {
            "image/png": "[encoded data removed]",
            "text/plain": [
              "<Figure size 640x480 with 1 Axes>"
            ]
          },
          "metadata": {},
          "output_type": "display_data"
        }
      ],
      "source": [
        "plt.hist(df['salary'], bins=30, color='blue', edgecolor='black',log=True)\n",
        "plt.xlabel('Salary')\n",
        "plt.ylabel('Frequency')\n",
        "plt.title('Salary distribution')\n",
        "plt.show()"
      ]
    },
    {
      "cell_type": "code",
      "execution_count": 41,
      "metadata": {
        "id": "RIsR722TEQDe"
      },
      "outputs": [
        {
          "data": {
            "text/html": [
              "<div>\n",
              "<style scoped>\n",
              "    .dataframe tbody tr th:only-of-type {\n",
              "        vertical-align: middle;\n",
              "    }\n",
              "\n",
              "    .dataframe tbody tr th {\n",
              "        vertical-align: top;\n",
              "    }\n",
              "\n",
              "    .dataframe thead th {\n",
              "        text-align: right;\n",
              "    }\n",
              "</style>\n",
              "<table border=\"1\" class=\"dataframe\">\n",
              "  <thead>\n",
              "    <tr style=\"text-align: right;\">\n",
              "      <th></th>\n",
              "      <th>pk_cid</th>\n",
              "      <th>pk_partition</th>\n",
              "      <th>entry_date</th>\n",
              "      <th>entry_channel</th>\n",
              "      <th>active_customer</th>\n",
              "      <th>segment</th>\n",
              "      <th>short_term_deposit</th>\n",
              "      <th>loans</th>\n",
              "      <th>mortgage</th>\n",
              "      <th>funds</th>\n",
              "      <th>securities</th>\n",
              "      <th>long_term_deposit</th>\n",
              "      <th>em_account_pp</th>\n",
              "      <th>credit_card</th>\n",
              "      <th>payroll</th>\n",
              "      <th>pension_plan</th>\n",
              "      <th>payroll_account</th>\n",
              "      <th>emc_account</th>\n",
              "      <th>debit_card</th>\n",
              "      <th>em_account_p</th>\n",
              "      <th>em_acount</th>\n",
              "      <th>country_id</th>\n",
              "      <th>region_code</th>\n",
              "      <th>gender</th>\n",
              "      <th>age</th>\n",
              "      <th>deceased</th>\n",
              "      <th>salary</th>\n",
              "      <th>region_name</th>\n",
              "    </tr>\n",
              "  </thead>\n",
              "  <tbody>\n",
              "  </tbody>\n",
              "</table>\n",
              "</div>"
            ],
            "text/plain": [
              "Empty DataFrame\n",
              "Columns: [pk_cid, pk_partition, entry_date, entry_channel, active_customer, segment, short_term_deposit, loans, mortgage, funds, securities, long_term_deposit, em_account_pp, credit_card, payroll, pension_plan, payroll_account, emc_account, debit_card, em_account_p, em_acount, country_id, region_code, gender, age, deceased, salary, region_name]\n",
              "Index: []"
            ]
          },
          "execution_count": 41,
          "metadata": {},
          "output_type": "execute_result"
        }
      ],
      "source": [
        "df.query('salary<0')"
      ]
    },
    {
      "cell_type": "markdown",
      "metadata": {
        "id": "WSt3zSG5EQDe"
      },
      "source": [
        "Creating a categorical variable to analyze the salary using quantiles."
      ]
    },
    {
      "cell_type": "code",
      "execution_count": 42,
      "metadata": {},
      "outputs": [
        {
          "data": {
            "text/plain": [
              "count    4.450821e+06\n",
              "mean     1.158167e+05\n",
              "std      1.995519e+05\n",
              "min      1.202730e+03\n",
              "25%      6.150063e+04\n",
              "50%      8.865465e+04\n",
              "75%      1.316699e+05\n",
              "max      2.889440e+07\n",
              "Name: salary, dtype: float64"
            ]
          },
          "execution_count": 42,
          "metadata": {},
          "output_type": "execute_result"
        }
      ],
      "source": [
        "cuantiles = df['salary'].describe(percentiles=[0.25, 0.5, 0.75])\n",
        "cuantiles"
      ]
    },
    {
      "cell_type": "code",
      "execution_count": 43,
      "metadata": {
        "id": "iTgkE5-OEQDf"
      },
      "outputs": [],
      "source": [
        "df.loc[ (df['salary'] <= 61500.63), 'salary_categ'  ]='low_salary'\n",
        "df.loc[ (df['salary'] > 61500.63) & (df['salary'] <= 88654.65), 'salary_categ'  ]='medium_low_salary'\n",
        "df.loc[ (df['salary'] >  88654.65) & (df['salary'] <= 131669.91), 'salary_categ'  ]='medium_high_salary'\n",
        "df.loc[ (df['salary'] > 131669.91) , 'salary_categ'  ]='high_salary'\n",
        "df.loc[ (df['salary'].isnull()) , 'salary_categ'  ]='unknown'"
      ]
    },
    {
      "cell_type": "code",
      "execution_count": 44,
      "metadata": {},
      "outputs": [],
      "source": [
        "df.salary.fillna(-999, inplace=True)"
      ]
    },
    {
      "cell_type": "code",
      "execution_count": 45,
      "metadata": {
        "id": "FISzsd9KEQDf"
      },
      "outputs": [],
      "source": [
        "clases=df.salary_categ.value_counts()"
      ]
    },
    {
      "cell_type": "code",
      "execution_count": 46,
      "metadata": {
        "id": "Zc9t0pzhEQDf"
      },
      "outputs": [
        {
          "data": {
            "image/png": "[encoded data removed]",
            "text/plain": [
              "<Figure size 640x480 with 1 Axes>"
            ]
          },
          "metadata": {},
          "output_type": "display_data"
        }
      ],
      "source": [
        "clases.plot(kind='bar', color='skyblue')\n",
        "plt.xlabel('Salary Category')\n",
        "plt.ylabel('Client amount')\n",
        "plt.title('Salary distribution')\n",
        "plt.xticks(rotation=45, ha='right')\n",
        "plt.show()"
      ]
    },
    {
      "cell_type": "markdown",
      "metadata": {
        "id": "ZW_sWIdiEQDg"
      },
      "source": [
        "## Changing variable types"
      ]
    },
    {
      "cell_type": "code",
      "execution_count": 47,
      "metadata": {
        "id": "c53SKEO3EQDg"
      },
      "outputs": [
        {
          "name": "stdout",
          "output_type": "stream",
          "text": [
            "<class 'pandas.core.frame.DataFrame'>\n",
            "RangeIndex: 5962924 entries, 0 to 5962923\n",
            "Data columns (total 29 columns):\n",
            " #   Column              Dtype   \n",
            "---  ------              -----   \n",
            " 0   pk_cid              int64   \n",
            " 1   pk_partition        object  \n",
            " 2   entry_date          object  \n",
            " 3   entry_channel       category\n",
            " 4   active_customer     float64 \n",
            " 5   segment             object  \n",
            " 6   short_term_deposit  int64   \n",
            " 7   loans               int64   \n",
            " 8   mortgage            int64   \n",
            " 9   funds               int64   \n",
            " 10  securities          int64   \n",
            " 11  long_term_deposit   int64   \n",
            " 12  em_account_pp       int64   \n",
            " 13  credit_card         int64   \n",
            " 14  payroll             float64 \n",
            " 15  pension_plan        float64 \n",
            " 16  payroll_account     int64   \n",
            " 17  emc_account         int64   \n",
            " 18  debit_card          int64   \n",
            " 19  em_account_p        int64   \n",
            " 20  em_acount           int64   \n",
            " 21  country_id          object  \n",
            " 22  region_code         category\n",
            " 23  gender              object  \n",
            " 24  age                 int64   \n",
            " 25  deceased            int64   \n",
            " 26  salary              float64 \n",
            " 27  region_name         category\n",
            " 28  salary_categ        object  \n",
            "dtypes: category(3), float64(4), int64(16), object(6)\n",
            "memory usage: 1.2+ GB\n"
          ]
        }
      ],
      "source": [
        "df.info()"
      ]
    },
    {
      "cell_type": "code",
      "execution_count": 48,
      "metadata": {
        "id": "UFNMihkPEQDg"
      },
      "outputs": [],
      "source": [
        "df['gender']=df.gender.astype('category')\n",
        "df['segment']=df.segment.astype('category')\n",
        "df['country_id']=df.country_id.astype('category')\n",
        "df['pk_partition'] = pd.to_datetime(df['pk_partition'], format=\"%Y-%m-%d\")\n",
        "\n",
        "data= ['payroll','pension_plan','active_customer']\n",
        "df[data]=df[data].astype('int64')"
      ]
    },
    {
      "cell_type": "code",
      "execution_count": 49,
      "metadata": {
        "id": "ULzlIq7xEQDh"
      },
      "outputs": [
        {
          "name": "stdout",
          "output_type": "stream",
          "text": [
            "pk_cid                            1051705\n",
            "pk_partition          2018-01-28 00:00:00\n",
            "entry_date                     2015-08-14\n",
            "entry_channel                         KHD\n",
            "active_customer                         0\n",
            "segment                     universitario\n",
            "short_term_deposit                      0\n",
            "loans                                   0\n",
            "mortgage                                0\n",
            "funds                                   0\n",
            "securities                              0\n",
            "long_term_deposit                       0\n",
            "em_account_pp                           0\n",
            "credit_card                             0\n",
            "payroll                                 0\n",
            "pension_plan                            0\n",
            "payroll_account                         0\n",
            "emc_account                             0\n",
            "debit_card                              0\n",
            "em_account_p                            0\n",
            "em_acount                               1\n",
            "country_id                             ES\n",
            "region_code                           6.0\n",
            "gender                                  H\n",
            "age                                    22\n",
            "deceased                                0\n",
            "salary                          150626.49\n",
            "region_name                       Badajoz\n",
            "salary_categ                  high_salary\n",
            "Name: 688, dtype: object\n"
          ]
        }
      ],
      "source": [
        "print(df.iloc[688])"
      ]
    },
    {
      "cell_type": "markdown",
      "metadata": {
        "id": "q7QftcNBEQDh"
      },
      "source": [
        "I can't convert the 'entry_date' column to datetime because of the column at position 688, but when I use iloc, there doesn't seem to be anything wrong. So, I replace the problematic values with NaN and create a new column with this information. Then, I locate the NaN values in that column and discover that it's because the 'entry_date' is February 29th. I replace it with March 1st and convert it to datetime."
      ]
    },
    {
      "cell_type": "code",
      "execution_count": 50,
      "metadata": {
        "id": "UG18kCFxEQDh"
      },
      "outputs": [
        {
          "data": {
            "text/plain": [
              "entry_date\n",
              "2019-02-29    4621\n",
              "2015-02-29    1792\n",
              "Name: count, dtype: int64"
            ]
          },
          "execution_count": 50,
          "metadata": {},
          "output_type": "execute_result"
        }
      ],
      "source": [
        "df['entry_date_test'] = pd.to_datetime(df['entry_date'], format=\"%Y-%m-%d\", errors='coerce')\n",
        "problematic_rows = df[df['entry_date_test'].isna()]\n",
        "problematic_rows.entry_date.value_counts()"
      ]
    },
    {
      "cell_type": "code",
      "execution_count": 51,
      "metadata": {
        "id": "B66Z1PmmEQDi"
      },
      "outputs": [],
      "source": [
        "df['entry_date']=np.where(df['entry_date']=='2015-02-29','2015-03-01',df['entry_date'])\n",
        "df['entry_date']=np.where(df['entry_date']=='2019-02-29','2019-03-01',df['entry_date'])\n",
        "df.drop('entry_date_test', axis=1, inplace=True)"
      ]
    },
    {
      "cell_type": "code",
      "execution_count": 52,
      "metadata": {
        "id": "GNTF12L3EQDi"
      },
      "outputs": [],
      "source": [
        "df['entry_date'] = pd.to_datetime(df['entry_date'], format=\"%Y-%m-%d\")"
      ]
    },
    {
      "cell_type": "markdown",
      "metadata": {
        "id": "8PL5Vy9IEQDi"
      },
      "source": [
        "# Creating variables of interest"
      ]
    },
    {
      "cell_type": "markdown",
      "metadata": {},
      "source": [
        "## Monthly differences by product "
      ]
    },
    {
      "cell_type": "code",
      "execution_count": 53,
      "metadata": {},
      "outputs": [],
      "source": [
        "products=['loans', 'mortgage', 'funds', 'securities',\n",
        "           'long_term_deposit', 'em_account_pp', 'credit_card',\n",
        "           'payroll', 'pension_plan', 'payroll_account', 'emc_account',\n",
        "           'debit_card', 'em_account_p', 'em_acount', 'short_term_deposit']"
      ]
    },
    {
      "cell_type": "code",
      "execution_count": 54,
      "metadata": {},
      "outputs": [],
      "source": [
        "def diferencia_mensual_producto (df, product):\n",
        "    df[product+'_pm']  = df.groupby('pk_cid')[product].shift(1)\n",
        "    df['dif_'+product] = df[product] - df[product+'_pm']\n",
        "    df.drop(product+'_pm',axis=1,inplace=True)"
      ]
    },
    {
      "cell_type": "code",
      "execution_count": 55,
      "metadata": {},
      "outputs": [],
      "source": [
        "df_sorted = df.sort_values(by=['pk_cid', 'pk_partition'])"
      ]
    },
    {
      "cell_type": "code",
      "execution_count": 56,
      "metadata": {},
      "outputs": [],
      "source": [
        "for p in products:\n",
        "    diferencia_mensual_producto(df_sorted,p)"
      ]
    },
    {
      "cell_type": "markdown",
      "metadata": {
        "id": "QKJWTavwEQDi"
      },
      "source": [
        "## Variable new client"
      ]
    },
    {
      "cell_type": "code",
      "execution_count": 57,
      "metadata": {
        "id": "L4J6RqzJEQDi"
      },
      "outputs": [
        {
          "name": "stdout",
          "output_type": "stream",
          "text": [
            "<class 'pandas.core.frame.DataFrame'>\n",
            "RangeIndex: 5962924 entries, 0 to 5962923\n",
            "Data columns (total 29 columns):\n",
            " #   Column              Dtype         \n",
            "---  ------              -----         \n",
            " 0   pk_cid              int64         \n",
            " 1   pk_partition        datetime64[ns]\n",
            " 2   entry_date          datetime64[ns]\n",
            " 3   entry_channel       category      \n",
            " 4   active_customer     int64         \n",
            " 5   segment             category      \n",
            " 6   short_term_deposit  int64         \n",
            " 7   loans               int64         \n",
            " 8   mortgage            int64         \n",
            " 9   funds               int64         \n",
            " 10  securities          int64         \n",
            " 11  long_term_deposit   int64         \n",
            " 12  em_account_pp       int64         \n",
            " 13  credit_card         int64         \n",
            " 14  payroll             int64         \n",
            " 15  pension_plan        int64         \n",
            " 16  payroll_account     int64         \n",
            " 17  emc_account         int64         \n",
            " 18  debit_card          int64         \n",
            " 19  em_account_p        int64         \n",
            " 20  em_acount           int64         \n",
            " 21  country_id          category      \n",
            " 22  region_code         category      \n",
            " 23  gender              category      \n",
            " 24  age                 int64         \n",
            " 25  deceased            int64         \n",
            " 26  salary              float64       \n",
            " 27  region_name         category      \n",
            " 28  salary_categ        object        \n",
            "dtypes: category(6), datetime64[ns](2), float64(1), int64(19), object(1)\n",
            "memory usage: 1.1+ GB\n"
          ]
        }
      ],
      "source": [
        "df.info()"
      ]
    },
    {
      "cell_type": "markdown",
      "metadata": {
        "id": "F3Y3D4KR8Oww"
      },
      "source": [
        "Creating a variable for new customers. The logic is as follows: if the data ingestion date or pk_partition (the moment when the product referenced in the entry is contracted) is after the first contract date or entry_date, the variable is set to 0. Otherwise, it's set to 1 (if both dates match, the entry refers to the first contract, and if the data ingestion date is before the first contract date, it's due to a difference of one or two days, likely because the pk_partition is only collected on the 28th of each month, so we'll consider it as new)."
      ]
    },
    {
      "cell_type": "code",
      "execution_count": 58,
      "metadata": {},
      "outputs": [],
      "source": [
        "for i in [\"pk_partition\",\"entry_date\"]:\n",
        "    df_sorted[i]=pd.to_datetime(df_sorted[i], format='%Y-%m-%d')"
      ]
    },
    {
      "cell_type": "code",
      "execution_count": 59,
      "metadata": {},
      "outputs": [],
      "source": [
        "# We do the subtraction of the position date with the entry date and we convert it in months\n",
        "df_sorted['meses_alta']=(df_sorted['pk_partition']-df_sorted['entry_date'])/np.timedelta64(1,'M')"
      ]
    },
    {
      "cell_type": "code",
      "execution_count": 60,
      "metadata": {},
      "outputs": [
        {
          "data": {
            "text/plain": [
              "11586"
            ]
          },
          "execution_count": 60,
          "metadata": {},
          "output_type": "execute_result"
        }
      ],
      "source": [
        "'''Since the data ingestion date always occurs on the 28th of the month, \n",
        "there will be customers with a negative subscription time because some customers \n",
        "will have entry_date on days between the 29th and the 31st.'''\n",
        "len(df_sorted[df_sorted['meses_alta']<0])"
      ]
    },
    {
      "cell_type": "code",
      "execution_count": 61,
      "metadata": {},
      "outputs": [
        {
          "data": {
            "text/plain": [
              "em_acount            931\n",
              "loans                  0\n",
              "mortgage               0\n",
              "funds                  0\n",
              "securities             0\n",
              "long_term_deposit     20\n",
              "em_account_pp          0\n",
              "credit_card            0\n",
              "payroll                0\n",
              "pension_plan           0\n",
              "payroll_account       13\n",
              "emc_account            0\n",
              "debit_card             0\n",
              "em_account_p           0\n",
              "dtype: int64"
            ]
          },
          "execution_count": 61,
          "metadata": {},
          "output_type": "execute_result"
        }
      ],
      "source": [
        "df_sorted[df_sorted['meses_alta']<0].agg({'em_acount':np.sum,\n",
        "'loans':np.sum,\n",
        " 'mortgage':np.sum,\n",
        " 'funds':np.sum,\n",
        " 'securities':np.sum,\n",
        " 'long_term_deposit':np.sum,\n",
        " 'em_account_pp':np.sum,\n",
        " 'credit_card':np.sum,\n",
        " 'payroll':np.sum,\n",
        " 'pension_plan':np.sum,\n",
        " 'payroll_account':np.sum,\n",
        " 'emc_account':np.sum,\n",
        " 'debit_card':np.sum,\n",
        " 'em_account_p':np.sum,\n",
        " 'em_acount':np.sum})"
      ]
    },
    {
      "cell_type": "code",
      "execution_count": 62,
      "metadata": {},
      "outputs": [
        {
          "data": {
            "text/plain": [
              "meses_alta\n",
              "-0.032258    5103\n",
              "-0.064516    4707\n",
              "-0.096774    1776\n",
              "Name: count, dtype: int64"
            ]
          },
          "execution_count": 62,
          "metadata": {},
          "output_type": "execute_result"
        }
      ],
      "source": [
        "df_sorted[df_sorted['meses_alta']<0]['meses_alta'].value_counts()"
      ]
    },
    {
      "cell_type": "code",
      "execution_count": 63,
      "metadata": {},
      "outputs": [],
      "source": [
        "df_sorted['new_client']=((df_sorted['meses_alta'] < 1) & \n",
        "                          (df_sorted['meses_alta'] > 0)).astype(int)"
      ]
    },
    {
      "cell_type": "code",
      "execution_count": 64,
      "metadata": {},
      "outputs": [
        {
          "data": {
            "image/png": "[encoded data removed]",
            "text/plain": [
              "<Figure size 1000x800 with 1 Axes>"
            ]
          },
          "metadata": {},
          "output_type": "display_data"
        }
      ],
      "source": [
        "df_altas=df_sorted.groupby(['pk_partition'])['new_client'].sum()\n",
        "fig = plt.figure(figsize = (10, 8))\n",
        "plt.plot(df_altas, color = \"green\", label = \"purchases\")\n",
        "plt.title(\"Monthly customer purchases\")\n",
        "plt.legend();"
      ]
    },
    {
      "cell_type": "markdown",
      "metadata": {},
      "source": [
        "When calculating the differentials, the first records will be null. There are three possible scenarios:\n",
        "\n",
        "- Old customers whose first record in the sample is 0 for all products: in this case, null would be equivalent to 0.\n",
        "- Old customers whose first record is different from 0 for all products. Since we don't have any information prior to the sample, we can't assume these are sign-ups (they could be products that have been active for some time, and assigning a value different from 0 would distort the sample).\n",
        "- New customers with values different from 0. In this case, as they are new customers, the products will be 100% sign-ups, so we will assign the value from the non-differential variable to the differential variable."
      ]
    },
    {
      "cell_type": "code",
      "execution_count": 65,
      "metadata": {},
      "outputs": [],
      "source": [
        "for x in products:\n",
        "    df_sorted.loc[ (df_sorted['new_client']==1) &\n",
        "                   (df_sorted['dif_'+x].isnull()==True), \n",
        "                  'dif_'+x]=df_sorted[x]"
      ]
    },
    {
      "cell_type": "markdown",
      "metadata": {
        "id": "LRdYsl3sntU7"
      },
      "source": [
        "## Products bought by client"
      ]
    },
    {
      "cell_type": "markdown",
      "metadata": {
        "id": "g__e09qw0-bd"
      },
      "source": [
        "Creating a products dataframe with melt, converting the columns from the 'products' list into rows and creating 2 columns"
      ]
    },
    {
      "cell_type": "code",
      "execution_count": 66,
      "metadata": {
        "id": "A-cb7U-205MT"
      },
      "outputs": [],
      "source": [
        "df_products=df_sorted.melt(id_vars=['pk_partition','pk_cid'], value_vars=products, var_name='Producto', value_name='Count')"
      ]
    },
    {
      "cell_type": "markdown",
      "metadata": {
        "id": "9foR2ji12Jer"
      },
      "source": [
        "Adding quantities by clients for every date registered"
      ]
    },
    {
      "cell_type": "code",
      "execution_count": 67,
      "metadata": {},
      "outputs": [
        {
          "data": {
            "text/html": [
              "<div>\n",
              "<style scoped>\n",
              "    .dataframe tbody tr th:only-of-type {\n",
              "        vertical-align: middle;\n",
              "    }\n",
              "\n",
              "    .dataframe tbody tr th {\n",
              "        vertical-align: top;\n",
              "    }\n",
              "\n",
              "    .dataframe thead th {\n",
              "        text-align: right;\n",
              "    }\n",
              "</style>\n",
              "<table border=\"1\" class=\"dataframe\">\n",
              "  <thead>\n",
              "    <tr style=\"text-align: right;\">\n",
              "      <th></th>\n",
              "      <th>pk_partition</th>\n",
              "      <th>pk_cid</th>\n",
              "      <th>Producto</th>\n",
              "      <th>Count</th>\n",
              "    </tr>\n",
              "  </thead>\n",
              "  <tbody>\n",
              "    <tr>\n",
              "      <th>0</th>\n",
              "      <td>2018-07-28</td>\n",
              "      <td>15891</td>\n",
              "      <td>loans</td>\n",
              "      <td>0</td>\n",
              "    </tr>\n",
              "    <tr>\n",
              "      <th>1</th>\n",
              "      <td>2018-08-28</td>\n",
              "      <td>15891</td>\n",
              "      <td>loans</td>\n",
              "      <td>0</td>\n",
              "    </tr>\n",
              "    <tr>\n",
              "      <th>2</th>\n",
              "      <td>2018-11-28</td>\n",
              "      <td>16063</td>\n",
              "      <td>loans</td>\n",
              "      <td>0</td>\n",
              "    </tr>\n",
              "    <tr>\n",
              "      <th>3</th>\n",
              "      <td>2018-12-28</td>\n",
              "      <td>16063</td>\n",
              "      <td>loans</td>\n",
              "      <td>0</td>\n",
              "    </tr>\n",
              "    <tr>\n",
              "      <th>4</th>\n",
              "      <td>2019-01-28</td>\n",
              "      <td>16063</td>\n",
              "      <td>loans</td>\n",
              "      <td>0</td>\n",
              "    </tr>\n",
              "    <tr>\n",
              "      <th>...</th>\n",
              "      <td>...</td>\n",
              "      <td>...</td>\n",
              "      <td>...</td>\n",
              "      <td>...</td>\n",
              "    </tr>\n",
              "    <tr>\n",
              "      <th>89443855</th>\n",
              "      <td>2019-05-28</td>\n",
              "      <td>1553685</td>\n",
              "      <td>short_term_deposit</td>\n",
              "      <td>0</td>\n",
              "    </tr>\n",
              "    <tr>\n",
              "      <th>89443856</th>\n",
              "      <td>2019-05-28</td>\n",
              "      <td>1553686</td>\n",
              "      <td>short_term_deposit</td>\n",
              "      <td>0</td>\n",
              "    </tr>\n",
              "    <tr>\n",
              "      <th>89443857</th>\n",
              "      <td>2019-05-28</td>\n",
              "      <td>1553687</td>\n",
              "      <td>short_term_deposit</td>\n",
              "      <td>0</td>\n",
              "    </tr>\n",
              "    <tr>\n",
              "      <th>89443858</th>\n",
              "      <td>2019-05-28</td>\n",
              "      <td>1553688</td>\n",
              "      <td>short_term_deposit</td>\n",
              "      <td>0</td>\n",
              "    </tr>\n",
              "    <tr>\n",
              "      <th>89443859</th>\n",
              "      <td>2019-05-28</td>\n",
              "      <td>1553689</td>\n",
              "      <td>short_term_deposit</td>\n",
              "      <td>0</td>\n",
              "    </tr>\n",
              "  </tbody>\n",
              "</table>\n",
              "<p>89443860 rows × 4 columns</p>\n",
              "</div>"
            ],
            "text/plain": [
              "         pk_partition   pk_cid            Producto  Count\n",
              "0          2018-07-28    15891               loans      0\n",
              "1          2018-08-28    15891               loans      0\n",
              "2          2018-11-28    16063               loans      0\n",
              "3          2018-12-28    16063               loans      0\n",
              "4          2019-01-28    16063               loans      0\n",
              "...               ...      ...                 ...    ...\n",
              "89443855   2019-05-28  1553685  short_term_deposit      0\n",
              "89443856   2019-05-28  1553686  short_term_deposit      0\n",
              "89443857   2019-05-28  1553687  short_term_deposit      0\n",
              "89443858   2019-05-28  1553688  short_term_deposit      0\n",
              "89443859   2019-05-28  1553689  short_term_deposit      0\n",
              "\n",
              "[89443860 rows x 4 columns]"
            ]
          },
          "execution_count": 67,
          "metadata": {},
          "output_type": "execute_result"
        }
      ],
      "source": [
        "df_products"
      ]
    },
    {
      "cell_type": "code",
      "execution_count": 68,
      "metadata": {
        "id": "EICHiw_d1P6O"
      },
      "outputs": [],
      "source": [
        "# grouping by 'pk_partition' y 'pk_cid', adding Qs ('Count')\n",
        "df_products=df_products.groupby(['pk_partition','pk_cid']).agg({'Count':np.sum}).reset_index(drop=False)"
      ]
    },
    {
      "cell_type": "code",
      "execution_count": 69,
      "metadata": {},
      "outputs": [],
      "source": [
        "df_products.rename(columns={'Count':'productos_totales'}, inplace=True)"
      ]
    },
    {
      "cell_type": "code",
      "execution_count": 70,
      "metadata": {},
      "outputs": [],
      "source": [
        "df_sorted=pd.merge(df_sorted,df_products, how=\"inner\",on=['pk_cid','pk_partition'])"
      ]
    },
    {
      "cell_type": "markdown",
      "metadata": {},
      "source": [
        "## Monthly revenue"
      ]
    },
    {
      "cell_type": "markdown",
      "metadata": {},
      "source": [
        "For new customers, since there are no previous values, we will have a NaN, but it is likely that they contracted products in that first entry, so we need to address it. I set it to 0 for everyone."
      ]
    },
    {
      "cell_type": "code",
      "execution_count": 71,
      "metadata": {},
      "outputs": [],
      "source": [
        "primeras_dif=['dif_debit_card',              \n",
        "'dif_em_account_p',               \n",
        "'dif_em_account_pp',              \n",
        "'dif_em_acount',                  \n",
        "'dif_emc_account',                \n",
        "'dif_payroll',                   \n",
        "'dif_payroll_account',            \n",
        "'dif_funds',                      \n",
        "'dif_long_term_deposit',         \n",
        "'dif_mortgage',                   \n",
        "'dif_pension_plan',               \n",
        "'dif_securities',                \n",
        "'dif_short_term_deposit',        \n",
        "'dif_loans',                      \n",
        "'dif_credit_card']  "
      ]
    },
    {
      "cell_type": "code",
      "execution_count": 72,
      "metadata": {},
      "outputs": [],
      "source": [
        "df_ing=df_sorted.melt(id_vars=['pk_partition','pk_cid'],\n",
        "              value_vars=primeras_dif,\n",
        "              var_name='productos_totales',\n",
        "              value_name='Count')"
      ]
    },
    {
      "cell_type": "code",
      "execution_count": 73,
      "metadata": {},
      "outputs": [
        {
          "data": {
            "text/plain": [
              "Count\n",
              " 0.0    84026250\n",
              " 1.0      331059\n",
              "-1.0      196041\n",
              "Name: count, dtype: int64"
            ]
          },
          "execution_count": 73,
          "metadata": {},
          "output_type": "execute_result"
        }
      ],
      "source": [
        "df_ing['Count'].value_counts()"
      ]
    },
    {
      "cell_type": "code",
      "execution_count": 74,
      "metadata": {},
      "outputs": [],
      "source": [
        "# creating a df with purchases, since revenue is linked to those only\n",
        "df_altas=df_ing[df_ing['Count']==1]"
      ]
    },
    {
      "cell_type": "code",
      "execution_count": 75,
      "metadata": {},
      "outputs": [],
      "source": [
        "revenue={'dif_debit_card':10 ,              \n",
        "'dif_em_account_p':10 ,               \n",
        "'dif_em_account_pp':10 ,              \n",
        "'dif_em_acount':10 ,                  \n",
        "'dif_emc_account':10 ,                \n",
        "'dif_payroll':10 ,                   \n",
        "'dif_payroll_account':10 ,            \n",
        "'dif_funds':40 ,                      \n",
        "'dif_long_term_deposit':40 ,         \n",
        "'dif_mortgage':40 ,                   \n",
        "'dif_pension_plan':40 ,               \n",
        "'dif_securities':40 ,                \n",
        "'dif_short_term_deposit':40 ,        \n",
        "'dif_loans':60 ,                      \n",
        "'dif_credit_card':60 }"
      ]
    },
    {
      "cell_type": "code",
      "execution_count": 76,
      "metadata": {},
      "outputs": [
        {
          "name": "stderr",
          "output_type": "stream",
          "text": [
            "/var/folders/v8/ttzsnn891fd42qm8ffd92scm0000gp/T/ipykernel_9834/1321733775.py:1: SettingWithCopyWarning: \n",
            "A value is trying to be set on a copy of a slice from a DataFrame.\n",
            "Try using .loc[row_indexer,col_indexer] = value instead\n",
            "\n",
            "See the caveats in the documentation: https://pandas.pydata.org/pandas-docs/stable/user_guide/indexing.html#returning-a-view-versus-a-copy\n",
            "  df_altas['ingresos_producto']=df_altas['productos_totales'].map(revenue)\n"
          ]
        }
      ],
      "source": [
        "df_altas['ingresos_producto']=df_altas['productos_totales'].map(revenue)"
      ]
    },
    {
      "cell_type": "code",
      "execution_count": 77,
      "metadata": {},
      "outputs": [
        {
          "name": "stderr",
          "output_type": "stream",
          "text": [
            "/var/folders/v8/ttzsnn891fd42qm8ffd92scm0000gp/T/ipykernel_9834/191210926.py:1: SettingWithCopyWarning: \n",
            "A value is trying to be set on a copy of a slice from a DataFrame.\n",
            "Try using .loc[row_indexer,col_indexer] = value instead\n",
            "\n",
            "See the caveats in the documentation: https://pandas.pydata.org/pandas-docs/stable/user_guide/indexing.html#returning-a-view-versus-a-copy\n",
            "  df_altas['ingresos']=df_altas['Count']*df_altas['ingresos_producto']\n"
          ]
        }
      ],
      "source": [
        "df_altas['ingresos']=df_altas['Count']*df_altas['ingresos_producto']"
      ]
    },
    {
      "cell_type": "code",
      "execution_count": 78,
      "metadata": {},
      "outputs": [],
      "source": [
        "clientes_ingresos=df_altas.groupby(['pk_partition','pk_cid'])\\\n",
        "    .agg({'ingresos_producto':np.sum}).reset_index(drop=False)"
      ]
    },
    {
      "cell_type": "code",
      "execution_count": 79,
      "metadata": {},
      "outputs": [],
      "source": [
        "df_sorted =pd.merge(df_sorted , clientes_ingresos, \n",
        "                    how=\"left\",on=['pk_cid','pk_partition'])"
      ]
    },
    {
      "cell_type": "code",
      "execution_count": 80,
      "metadata": {},
      "outputs": [],
      "source": [
        "df_sorted['ingresos_producto'].fillna(0,inplace=True)"
      ]
    },
    {
      "cell_type": "code",
      "execution_count": 82,
      "metadata": {},
      "outputs": [],
      "source": [
        "for p in products:\n",
        "    df_sorted.loc[ (df_sorted['new_client']==1) &\n",
        "                   (df_sorted['dif_'+p].isnull()==True), \n",
        "                  'dif_'+p]=df_sorted[p]"
      ]
    },
    {
      "cell_type": "code",
      "execution_count": 83,
      "metadata": {},
      "outputs": [],
      "source": [
        "for p in products:\n",
        "    df_sorted.loc[ (df_sorted['new_client']==0) &\n",
        "                   (df_sorted['dif_'+p].isnull()==True), \n",
        "                  'dif_'+p]=0"
      ]
    },
    {
      "cell_type": "code",
      "execution_count": 84,
      "metadata": {},
      "outputs": [
        {
          "data": {
            "text/plain": [
              "count    5.962924e+06\n",
              "mean     8.932346e-01\n",
              "std      5.679151e+00\n",
              "min      0.000000e+00\n",
              "25%      0.000000e+00\n",
              "50%      0.000000e+00\n",
              "75%      0.000000e+00\n",
              "max      1.500000e+02\n",
              "Name: ingresos_producto, dtype: float64"
            ]
          },
          "execution_count": 84,
          "metadata": {},
          "output_type": "execute_result"
        }
      ],
      "source": [
        "df_sorted['ingresos_producto'].describe()"
      ]
    },
    {
      "cell_type": "markdown",
      "metadata": {},
      "source": [
        "## Inactive customers"
      ]
    },
    {
      "cell_type": "markdown",
      "metadata": {},
      "source": [
        "Some customers have not purchased anything during the whole studied period, so we'll designate those as inactive."
      ]
    },
    {
      "cell_type": "code",
      "execution_count": 85,
      "metadata": {},
      "outputs": [
        {
          "data": {
            "text/html": [
              "<div>\n",
              "<style scoped>\n",
              "    .dataframe tbody tr th:only-of-type {\n",
              "        vertical-align: middle;\n",
              "    }\n",
              "\n",
              "    .dataframe tbody tr th {\n",
              "        vertical-align: top;\n",
              "    }\n",
              "\n",
              "    .dataframe thead th {\n",
              "        text-align: right;\n",
              "    }\n",
              "</style>\n",
              "<table border=\"1\" class=\"dataframe\">\n",
              "  <thead>\n",
              "    <tr style=\"text-align: right;\">\n",
              "      <th></th>\n",
              "      <th>pk_cid</th>\n",
              "      <th>pk_partition</th>\n",
              "      <th>entry_date</th>\n",
              "      <th>entry_channel</th>\n",
              "      <th>active_customer</th>\n",
              "      <th>segment</th>\n",
              "      <th>short_term_deposit</th>\n",
              "      <th>loans</th>\n",
              "      <th>mortgage</th>\n",
              "      <th>funds</th>\n",
              "      <th>securities</th>\n",
              "      <th>long_term_deposit</th>\n",
              "      <th>em_account_pp</th>\n",
              "      <th>credit_card</th>\n",
              "      <th>payroll</th>\n",
              "      <th>pension_plan</th>\n",
              "      <th>payroll_account</th>\n",
              "      <th>emc_account</th>\n",
              "      <th>debit_card</th>\n",
              "      <th>em_account_p</th>\n",
              "      <th>em_acount</th>\n",
              "      <th>country_id</th>\n",
              "      <th>region_code</th>\n",
              "      <th>gender</th>\n",
              "      <th>age</th>\n",
              "      <th>deceased</th>\n",
              "      <th>salary</th>\n",
              "      <th>region_name</th>\n",
              "      <th>salary_categ</th>\n",
              "    </tr>\n",
              "  </thead>\n",
              "  <tbody>\n",
              "    <tr>\n",
              "      <th>2962973</th>\n",
              "      <td>16063</td>\n",
              "      <td>2018-11-28</td>\n",
              "      <td>2018-11-19</td>\n",
              "      <td>KAT</td>\n",
              "      <td>1</td>\n",
              "      <td>desconocido</td>\n",
              "      <td>0</td>\n",
              "      <td>0</td>\n",
              "      <td>0</td>\n",
              "      <td>0</td>\n",
              "      <td>0</td>\n",
              "      <td>0</td>\n",
              "      <td>0</td>\n",
              "      <td>0</td>\n",
              "      <td>0</td>\n",
              "      <td>0</td>\n",
              "      <td>0</td>\n",
              "      <td>0</td>\n",
              "      <td>0</td>\n",
              "      <td>0</td>\n",
              "      <td>0</td>\n",
              "      <td>ES</td>\n",
              "      <td>28.0</td>\n",
              "      <td>H</td>\n",
              "      <td>62</td>\n",
              "      <td>0</td>\n",
              "      <td>-999.0</td>\n",
              "      <td>Madrid</td>\n",
              "      <td>unknown</td>\n",
              "    </tr>\n",
              "    <tr>\n",
              "      <th>3628236</th>\n",
              "      <td>16063</td>\n",
              "      <td>2018-12-28</td>\n",
              "      <td>2018-11-19</td>\n",
              "      <td>KAT</td>\n",
              "      <td>1</td>\n",
              "      <td>particulares</td>\n",
              "      <td>0</td>\n",
              "      <td>0</td>\n",
              "      <td>0</td>\n",
              "      <td>0</td>\n",
              "      <td>0</td>\n",
              "      <td>0</td>\n",
              "      <td>0</td>\n",
              "      <td>0</td>\n",
              "      <td>0</td>\n",
              "      <td>0</td>\n",
              "      <td>0</td>\n",
              "      <td>0</td>\n",
              "      <td>0</td>\n",
              "      <td>0</td>\n",
              "      <td>0</td>\n",
              "      <td>ES</td>\n",
              "      <td>28.0</td>\n",
              "      <td>H</td>\n",
              "      <td>62</td>\n",
              "      <td>0</td>\n",
              "      <td>-999.0</td>\n",
              "      <td>Madrid</td>\n",
              "      <td>unknown</td>\n",
              "    </tr>\n",
              "    <tr>\n",
              "      <th>4028169</th>\n",
              "      <td>16063</td>\n",
              "      <td>2019-01-28</td>\n",
              "      <td>2018-11-19</td>\n",
              "      <td>KAT</td>\n",
              "      <td>1</td>\n",
              "      <td>particulares</td>\n",
              "      <td>0</td>\n",
              "      <td>0</td>\n",
              "      <td>0</td>\n",
              "      <td>0</td>\n",
              "      <td>0</td>\n",
              "      <td>0</td>\n",
              "      <td>0</td>\n",
              "      <td>0</td>\n",
              "      <td>0</td>\n",
              "      <td>0</td>\n",
              "      <td>0</td>\n",
              "      <td>0</td>\n",
              "      <td>0</td>\n",
              "      <td>0</td>\n",
              "      <td>0</td>\n",
              "      <td>ES</td>\n",
              "      <td>28.0</td>\n",
              "      <td>H</td>\n",
              "      <td>62</td>\n",
              "      <td>0</td>\n",
              "      <td>-999.0</td>\n",
              "      <td>Madrid</td>\n",
              "      <td>unknown</td>\n",
              "    </tr>\n",
              "    <tr>\n",
              "      <th>4480637</th>\n",
              "      <td>16063</td>\n",
              "      <td>2019-02-28</td>\n",
              "      <td>2018-11-19</td>\n",
              "      <td>KAT</td>\n",
              "      <td>1</td>\n",
              "      <td>particulares</td>\n",
              "      <td>0</td>\n",
              "      <td>0</td>\n",
              "      <td>0</td>\n",
              "      <td>0</td>\n",
              "      <td>0</td>\n",
              "      <td>0</td>\n",
              "      <td>0</td>\n",
              "      <td>0</td>\n",
              "      <td>0</td>\n",
              "      <td>0</td>\n",
              "      <td>0</td>\n",
              "      <td>0</td>\n",
              "      <td>0</td>\n",
              "      <td>0</td>\n",
              "      <td>0</td>\n",
              "      <td>ES</td>\n",
              "      <td>28.0</td>\n",
              "      <td>H</td>\n",
              "      <td>62</td>\n",
              "      <td>0</td>\n",
              "      <td>-999.0</td>\n",
              "      <td>Madrid</td>\n",
              "      <td>unknown</td>\n",
              "    </tr>\n",
              "    <tr>\n",
              "      <th>4876040</th>\n",
              "      <td>16063</td>\n",
              "      <td>2019-03-28</td>\n",
              "      <td>2018-11-19</td>\n",
              "      <td>KAT</td>\n",
              "      <td>0</td>\n",
              "      <td>particulares</td>\n",
              "      <td>0</td>\n",
              "      <td>0</td>\n",
              "      <td>0</td>\n",
              "      <td>0</td>\n",
              "      <td>0</td>\n",
              "      <td>0</td>\n",
              "      <td>0</td>\n",
              "      <td>0</td>\n",
              "      <td>0</td>\n",
              "      <td>0</td>\n",
              "      <td>0</td>\n",
              "      <td>0</td>\n",
              "      <td>0</td>\n",
              "      <td>0</td>\n",
              "      <td>0</td>\n",
              "      <td>ES</td>\n",
              "      <td>28.0</td>\n",
              "      <td>H</td>\n",
              "      <td>62</td>\n",
              "      <td>0</td>\n",
              "      <td>-999.0</td>\n",
              "      <td>Madrid</td>\n",
              "      <td>unknown</td>\n",
              "    </tr>\n",
              "    <tr>\n",
              "      <th>5134317</th>\n",
              "      <td>16063</td>\n",
              "      <td>2019-04-28</td>\n",
              "      <td>2018-11-19</td>\n",
              "      <td>KAT</td>\n",
              "      <td>1</td>\n",
              "      <td>particulares</td>\n",
              "      <td>0</td>\n",
              "      <td>0</td>\n",
              "      <td>0</td>\n",
              "      <td>0</td>\n",
              "      <td>0</td>\n",
              "      <td>0</td>\n",
              "      <td>0</td>\n",
              "      <td>0</td>\n",
              "      <td>0</td>\n",
              "      <td>0</td>\n",
              "      <td>0</td>\n",
              "      <td>0</td>\n",
              "      <td>0</td>\n",
              "      <td>0</td>\n",
              "      <td>0</td>\n",
              "      <td>ES</td>\n",
              "      <td>28.0</td>\n",
              "      <td>H</td>\n",
              "      <td>62</td>\n",
              "      <td>0</td>\n",
              "      <td>-999.0</td>\n",
              "      <td>Madrid</td>\n",
              "      <td>unknown</td>\n",
              "    </tr>\n",
              "    <tr>\n",
              "      <th>5523397</th>\n",
              "      <td>16063</td>\n",
              "      <td>2019-05-28</td>\n",
              "      <td>2018-11-19</td>\n",
              "      <td>KAT</td>\n",
              "      <td>0</td>\n",
              "      <td>particulares</td>\n",
              "      <td>0</td>\n",
              "      <td>0</td>\n",
              "      <td>0</td>\n",
              "      <td>0</td>\n",
              "      <td>0</td>\n",
              "      <td>0</td>\n",
              "      <td>0</td>\n",
              "      <td>0</td>\n",
              "      <td>0</td>\n",
              "      <td>0</td>\n",
              "      <td>0</td>\n",
              "      <td>0</td>\n",
              "      <td>0</td>\n",
              "      <td>0</td>\n",
              "      <td>0</td>\n",
              "      <td>ES</td>\n",
              "      <td>28.0</td>\n",
              "      <td>H</td>\n",
              "      <td>62</td>\n",
              "      <td>0</td>\n",
              "      <td>-999.0</td>\n",
              "      <td>Madrid</td>\n",
              "      <td>unknown</td>\n",
              "    </tr>\n",
              "  </tbody>\n",
              "</table>\n",
              "</div>"
            ],
            "text/plain": [
              "         pk_cid pk_partition entry_date entry_channel  active_customer  \\\n",
              "2962973   16063   2018-11-28 2018-11-19           KAT                1   \n",
              "3628236   16063   2018-12-28 2018-11-19           KAT                1   \n",
              "4028169   16063   2019-01-28 2018-11-19           KAT                1   \n",
              "4480637   16063   2019-02-28 2018-11-19           KAT                1   \n",
              "4876040   16063   2019-03-28 2018-11-19           KAT                0   \n",
              "5134317   16063   2019-04-28 2018-11-19           KAT                1   \n",
              "5523397   16063   2019-05-28 2018-11-19           KAT                0   \n",
              "\n",
              "              segment  short_term_deposit  loans  mortgage  funds  securities  \\\n",
              "2962973   desconocido                   0      0         0      0           0   \n",
              "3628236  particulares                   0      0         0      0           0   \n",
              "4028169  particulares                   0      0         0      0           0   \n",
              "4480637  particulares                   0      0         0      0           0   \n",
              "4876040  particulares                   0      0         0      0           0   \n",
              "5134317  particulares                   0      0         0      0           0   \n",
              "5523397  particulares                   0      0         0      0           0   \n",
              "\n",
              "         long_term_deposit  em_account_pp  credit_card  payroll  pension_plan  \\\n",
              "2962973                  0              0            0        0             0   \n",
              "3628236                  0              0            0        0             0   \n",
              "4028169                  0              0            0        0             0   \n",
              "4480637                  0              0            0        0             0   \n",
              "4876040                  0              0            0        0             0   \n",
              "5134317                  0              0            0        0             0   \n",
              "5523397                  0              0            0        0             0   \n",
              "\n",
              "         payroll_account  emc_account  debit_card  em_account_p  em_acount  \\\n",
              "2962973                0            0           0             0          0   \n",
              "3628236                0            0           0             0          0   \n",
              "4028169                0            0           0             0          0   \n",
              "4480637                0            0           0             0          0   \n",
              "4876040                0            0           0             0          0   \n",
              "5134317                0            0           0             0          0   \n",
              "5523397                0            0           0             0          0   \n",
              "\n",
              "        country_id region_code gender  age  deceased  salary region_name  \\\n",
              "2962973         ES        28.0      H   62         0  -999.0      Madrid   \n",
              "3628236         ES        28.0      H   62         0  -999.0      Madrid   \n",
              "4028169         ES        28.0      H   62         0  -999.0      Madrid   \n",
              "4480637         ES        28.0      H   62         0  -999.0      Madrid   \n",
              "4876040         ES        28.0      H   62         0  -999.0      Madrid   \n",
              "5134317         ES        28.0      H   62         0  -999.0      Madrid   \n",
              "5523397         ES        28.0      H   62         0  -999.0      Madrid   \n",
              "\n",
              "        salary_categ  \n",
              "2962973      unknown  \n",
              "3628236      unknown  \n",
              "4028169      unknown  \n",
              "4480637      unknown  \n",
              "4876040      unknown  \n",
              "5134317      unknown  \n",
              "5523397      unknown  "
            ]
          },
          "execution_count": 85,
          "metadata": {},
          "output_type": "execute_result"
        }
      ],
      "source": [
        "df.query('pk_cid==16063') #example"
      ]
    },
    {
      "cell_type": "code",
      "execution_count": 86,
      "metadata": {},
      "outputs": [],
      "source": [
        "products_by_client = df_sorted.groupby('pk_cid')['productos_totales'].sum().reset_index()\n",
        "products_by_client = products_by_client.rename(columns={'productos_totales': 'suma_productos_totales'})\n",
        "\n",
        "df_sorted = pd.merge(df_sorted, products_by_client, on='pk_cid', how='left')\n",
        "\n",
        "# creating a binary variable for active-inactive\n",
        "df_sorted['cliente_activo'] = np.where(df_sorted['suma_productos_totales'] == 0, 0, 1)\n",
        "df_ordenado = df_sorted.drop(columns=['suma_productos_totales'])"
      ]
    },
    {
      "cell_type": "markdown",
      "metadata": {},
      "source": [
        "Saving as pickle to save up space."
      ]
    },
    {
      "cell_type": "code",
      "execution_count": 87,
      "metadata": {},
      "outputs": [],
      "source": [
        "df_sorted.to_pickle('EasyMoney_base.pkl', compression='zip')"
      ]
    }
  ],
  "metadata": {
    "colab": {
      "collapsed_sections": [
        "KzVUUTMmFNr_",
        "xZ62GwSqEQC9",
        "F01TS9PxEQDC",
        "qvJ2r1fQEQDK",
        "Bu7FLLq4EQDN",
        "dhnBA-CSEQDP",
        "Qs8xOajkEQDR",
        "QKJWTavwEQDi"
      ],
      "provenance": []
    },
    "kernelspec": {
      "display_name": "Python 3 (ipykernel)",
      "language": "python",
      "name": "python3"
    },
    "language_info": {
      "codemirror_mode": {
        "name": "ipython",
        "version": 3
      },
      "file_extension": ".py",
      "mimetype": "text/x-python",
      "name": "python",
      "nbconvert_exporter": "python",
      "pygments_lexer": "ipython3",
      "version": "3.11.5"
    }
  },
  "nbformat": 4,
  "nbformat_minor": 0
}
